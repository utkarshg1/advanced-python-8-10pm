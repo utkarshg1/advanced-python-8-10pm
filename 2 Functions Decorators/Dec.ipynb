{
 "cells": [
  {
   "cell_type": "markdown",
   "metadata": {},
   "source": [
    "### Assignment from previous class"
   ]
  },
  {
   "cell_type": "markdown",
   "metadata": {},
   "source": [
    "Given dictionary of student marks by subject\n",
    "\n",
    "All marks are out of hundred\n",
    "\n",
    "{ \"Phyics\": 57, \"Chemistry\": 75, \"Maths\": 68, \"English\": 89 }\n",
    "\n",
    "Output should be a dictionary with following values\n",
    "\n",
    "1. total subjects\n",
    "2. average marks\n",
    "3. Perctage consider each subjet has total marks of 100\n",
    "4. Find out the subject with highest marks for a given student"
   ]
  },
  {
   "cell_type": "code",
   "execution_count": 2,
   "metadata": {},
   "outputs": [],
   "source": [
    "s1 = {\"Physics\": 87, \"Maths\": 93, \"Chemistry\": 67, \"Biology\":58}"
   ]
  },
  {
   "cell_type": "code",
   "execution_count": 3,
   "metadata": {},
   "outputs": [
    {
     "data": {
      "text/plain": [
       "dict_keys(['Physics', 'Maths', 'Chemistry', 'Biology'])"
      ]
     },
     "execution_count": 3,
     "metadata": {},
     "output_type": "execute_result"
    }
   ],
   "source": [
    "s1.keys()"
   ]
  },
  {
   "cell_type": "code",
   "execution_count": 4,
   "metadata": {},
   "outputs": [
    {
     "data": {
      "text/plain": [
       "dict_values([87, 93, 67, 58])"
      ]
     },
     "execution_count": 4,
     "metadata": {},
     "output_type": "execute_result"
    }
   ],
   "source": [
    "s1.values()"
   ]
  },
  {
   "cell_type": "code",
   "execution_count": 5,
   "metadata": {},
   "outputs": [
    {
     "data": {
      "text/plain": [
       "dict_items([('Physics', 87), ('Maths', 93), ('Chemistry', 67), ('Biology', 58)])"
      ]
     },
     "execution_count": 5,
     "metadata": {},
     "output_type": "execute_result"
    }
   ],
   "source": [
    "s1.items()"
   ]
  },
  {
   "cell_type": "code",
   "execution_count": 6,
   "metadata": {},
   "outputs": [
    {
     "data": {
      "text/plain": [
       "4"
      ]
     },
     "execution_count": 6,
     "metadata": {},
     "output_type": "execute_result"
    }
   ],
   "source": [
    "len(s1)"
   ]
  },
  {
   "cell_type": "code",
   "execution_count": 10,
   "metadata": {},
   "outputs": [
    {
     "data": {
      "text/plain": [
       "[('Maths', 93), ('Physics', 87), ('Chemistry', 67), ('Biology', 58)]"
      ]
     },
     "execution_count": 10,
     "metadata": {},
     "output_type": "execute_result"
    }
   ],
   "source": [
    "marks_sort = sorted(s1.items(), key= lambda x: x[1], reverse=\"True\")\n",
    "marks_sort"
   ]
  },
  {
   "cell_type": "code",
   "execution_count": 11,
   "metadata": {},
   "outputs": [
    {
     "data": {
      "text/plain": [
       "('Maths', 93)"
      ]
     },
     "execution_count": 11,
     "metadata": {},
     "output_type": "execute_result"
    }
   ],
   "source": [
    "marks_sort[0]"
   ]
  },
  {
   "cell_type": "code",
   "execution_count": 12,
   "metadata": {},
   "outputs": [
    {
     "data": {
      "text/plain": [
       "'Maths'"
      ]
     },
     "execution_count": 12,
     "metadata": {},
     "output_type": "execute_result"
    }
   ],
   "source": [
    "marks_sort[0][0]"
   ]
  },
  {
   "cell_type": "code",
   "execution_count": 13,
   "metadata": {},
   "outputs": [],
   "source": [
    "def analyse_marks(**kwargs):\n",
    "    # 1. Get total subjects\n",
    "    total_sub = len(kwargs)\n",
    "    \n",
    "    # 2. Get average marks\n",
    "    marks = list(kwargs.values())\n",
    "    student_marks = sum(marks)\n",
    "    avg_marks = student_marks/total_sub\n",
    "    \n",
    "    # 3. Percentage of the student considering 100 marks per subject\n",
    "    subject_total = 100*total_sub\n",
    "    per = (student_marks/subject_total)*100\n",
    "\n",
    "    # 4. Find the subject with highest marks\n",
    "    sort_marks = sorted(kwargs.items(), key= lambda x: x[1], reverse=True)\n",
    "    highest_sub = sort_marks[0][0]\n",
    "\n",
    "    # Final dictionary\n",
    "    result = {\n",
    "        \"Total Subjects\": total_sub,\n",
    "        \"Average Marks\": avg_marks,\n",
    "        \"Percentage\": per,\n",
    "        \"Highest Subject\" : highest_sub\n",
    "    }\n",
    "    return result"
   ]
  },
  {
   "cell_type": "code",
   "execution_count": 14,
   "metadata": {},
   "outputs": [],
   "source": [
    "r1 = analyse_marks(physics=78, maths=68, chemistry=80, biology=73)"
   ]
  },
  {
   "cell_type": "code",
   "execution_count": 15,
   "metadata": {},
   "outputs": [
    {
     "data": {
      "text/plain": [
       "{'Total Subjects': 4,\n",
       " 'Average Marks': 74.75,\n",
       " 'Percentage': 74.75,\n",
       " 'Highest Subject': 'chemistry'}"
      ]
     },
     "execution_count": 15,
     "metadata": {},
     "output_type": "execute_result"
    }
   ],
   "source": [
    "r1"
   ]
  },
  {
   "cell_type": "code",
   "execution_count": 16,
   "metadata": {},
   "outputs": [
    {
     "data": {
      "text/plain": [
       "dict"
      ]
     },
     "execution_count": 16,
     "metadata": {},
     "output_type": "execute_result"
    }
   ],
   "source": [
    "s2 = {\"Physics\": 89, \"Maths\": 93, \"Chemistry\": 80}\n",
    "type(s2)"
   ]
  },
  {
   "cell_type": "code",
   "execution_count": 17,
   "metadata": {},
   "outputs": [
    {
     "data": {
      "text/plain": [
       "{'Total Subjects': 3,\n",
       " 'Average Marks': 87.33333333333333,\n",
       " 'Percentage': 87.33333333333333,\n",
       " 'Highest Subject': 'Maths'}"
      ]
     },
     "execution_count": 17,
     "metadata": {},
     "output_type": "execute_result"
    }
   ],
   "source": [
    "r2 = analyse_marks(**s2)\n",
    "r2"
   ]
  },
  {
   "cell_type": "markdown",
   "metadata": {},
   "source": [
    "### Decorators"
   ]
  },
  {
   "attachments": {
    "image.png": {
     "image/png": "[encoded data removed]"
    }
   },
   "cell_type": "markdown",
   "metadata": {},
   "source": [
    "![image.png](attachment:image.png)"
   ]
  },
  {
   "cell_type": "code",
   "execution_count": 19,
   "metadata": {},
   "outputs": [],
   "source": [
    "def welcome_decorator(func):\n",
    "    def wrapper(*args, **kwargs):\n",
    "        print(\"Welcome to my function\")\n",
    "        res = func(*args, **kwargs)\n",
    "        print(f\"Function Result : {res}\")\n",
    "        print(\"Thank you for using my function\")\n",
    "        return res\n",
    "    return wrapper"
   ]
  },
  {
   "cell_type": "code",
   "execution_count": 20,
   "metadata": {},
   "outputs": [],
   "source": [
    "@welcome_decorator\n",
    "def square(n):\n",
    "    return n**2"
   ]
  },
  {
   "cell_type": "code",
   "execution_count": 21,
   "metadata": {},
   "outputs": [
    {
     "name": "stdout",
     "output_type": "stream",
     "text": [
      "Welcome to my function\n",
      "Function Result : 144\n",
      "Thank you for using my function\n"
     ]
    }
   ],
   "source": [
    "s1 = square(12)"
   ]
  },
  {
   "cell_type": "code",
   "execution_count": 22,
   "metadata": {},
   "outputs": [
    {
     "data": {
      "text/plain": [
       "144"
      ]
     },
     "execution_count": 22,
     "metadata": {},
     "output_type": "execute_result"
    }
   ],
   "source": [
    "s1"
   ]
  },
  {
   "cell_type": "code",
   "execution_count": 24,
   "metadata": {},
   "outputs": [
    {
     "name": "stdout",
     "output_type": "stream",
     "text": [
      "Welcome to my function\n",
      "Function Result : 246.48999999999998\n",
      "Thank you for using my function\n"
     ]
    }
   ],
   "source": [
    "s2 = square(n = 15.7)"
   ]
  },
  {
   "cell_type": "code",
   "execution_count": 25,
   "metadata": {},
   "outputs": [
    {
     "data": {
      "text/plain": [
       "246.48999999999998"
      ]
     },
     "execution_count": 25,
     "metadata": {},
     "output_type": "execute_result"
    }
   ],
   "source": [
    "s2"
   ]
  },
  {
   "cell_type": "code",
   "execution_count": 26,
   "metadata": {},
   "outputs": [],
   "source": [
    "@welcome_decorator\n",
    "def simple_intrest(p, n, r):\n",
    "    i = (p*n*r)/100\n",
    "    a = p + i \n",
    "    return i, a"
   ]
  },
  {
   "cell_type": "code",
   "execution_count": 27,
   "metadata": {},
   "outputs": [
    {
     "name": "stdout",
     "output_type": "stream",
     "text": [
      "Welcome to my function\n",
      "Function Result : (15975.0, 60975.0)\n",
      "Thank you for using my function\n"
     ]
    }
   ],
   "source": [
    "i1, a1 = simple_intrest(p=45000, n=5, r=7.1)"
   ]
  },
  {
   "cell_type": "code",
   "execution_count": 28,
   "metadata": {},
   "outputs": [
    {
     "data": {
      "text/plain": [
       "15975.0"
      ]
     },
     "execution_count": 28,
     "metadata": {},
     "output_type": "execute_result"
    }
   ],
   "source": [
    "i1"
   ]
  },
  {
   "cell_type": "code",
   "execution_count": 30,
   "metadata": {},
   "outputs": [
    {
     "data": {
      "text/plain": [
       "60975.0"
      ]
     },
     "execution_count": 30,
     "metadata": {},
     "output_type": "execute_result"
    }
   ],
   "source": [
    "a1"
   ]
  },
  {
   "cell_type": "code",
   "execution_count": 31,
   "metadata": {},
   "outputs": [
    {
     "name": "stdout",
     "output_type": "stream",
     "text": [
      "Welcome to my function\n",
      "Function Result : (27300.0, 87300.0)\n",
      "Thank you for using my function\n"
     ]
    }
   ],
   "source": [
    "i2, a2 = simple_intrest(60000, 7, 6.5)"
   ]
  },
  {
   "cell_type": "code",
   "execution_count": 32,
   "metadata": {},
   "outputs": [
    {
     "data": {
      "text/plain": [
       "27300.0"
      ]
     },
     "execution_count": 32,
     "metadata": {},
     "output_type": "execute_result"
    }
   ],
   "source": [
    "i2"
   ]
  },
  {
   "cell_type": "code",
   "execution_count": 33,
   "metadata": {},
   "outputs": [
    {
     "data": {
      "text/plain": [
       "87300.0"
      ]
     },
     "execution_count": 33,
     "metadata": {},
     "output_type": "execute_result"
    }
   ],
   "source": [
    "a2"
   ]
  },
  {
   "cell_type": "markdown",
   "metadata": {},
   "source": [
    "### How to authenticate user using decorators"
   ]
  },
  {
   "cell_type": "code",
   "execution_count": 34,
   "metadata": {},
   "outputs": [],
   "source": [
    "users = {\n",
    "    \"utkarsh1\": \"Password123\",\n",
    "    \"sarthaks3\": \"Test@456\",\n",
    "    \"aditim5\": \"Example#678\"\n",
    "}"
   ]
  },
  {
   "cell_type": "code",
   "execution_count": 36,
   "metadata": {},
   "outputs": [
    {
     "data": {
      "text/plain": [
       "'Password123'"
      ]
     },
     "execution_count": 36,
     "metadata": {},
     "output_type": "execute_result"
    }
   ],
   "source": [
    "users.get(\"utkarsh1\")"
   ]
  },
  {
   "cell_type": "code",
   "execution_count": 39,
   "metadata": {},
   "outputs": [],
   "source": [
    "def authenticate(func):\n",
    "    def wrapper(username, password, *args, **kwargs):\n",
    "        if username in users.keys() and password == users.get(username):\n",
    "            print(f\"Login successfull! Welcome {username}\")\n",
    "            res = func(username, password, *args, **kwargs)\n",
    "            print(f\"Results : {res}\")\n",
    "            return res\n",
    "        else:\n",
    "            print(f\"Authentication Failed , Please check username and password\")\n",
    "            return None\n",
    "        \n",
    "    return wrapper"
   ]
  },
  {
   "cell_type": "code",
   "execution_count": 40,
   "metadata": {},
   "outputs": [],
   "source": [
    "@authenticate\n",
    "def hypotenuse(username, password, a, b):\n",
    "    return (a**2 + b**2)**(1/2)"
   ]
  },
  {
   "cell_type": "code",
   "execution_count": 41,
   "metadata": {},
   "outputs": [
    {
     "name": "stdout",
     "output_type": "stream",
     "text": [
      "Authentication Failed , Please check username and password\n"
     ]
    }
   ],
   "source": [
    "h1 = hypotenuse(username=\"random\", password=\"passw123\", a=3, b=4)"
   ]
  },
  {
   "cell_type": "code",
   "execution_count": 44,
   "metadata": {},
   "outputs": [
    {
     "name": "stdout",
     "output_type": "stream",
     "text": [
      "None\n"
     ]
    }
   ],
   "source": [
    "print(h1)"
   ]
  },
  {
   "cell_type": "code",
   "execution_count": 45,
   "metadata": {},
   "outputs": [
    {
     "data": {
      "text/plain": [
       "{'utkarsh1': 'Password123', 'sarthaks3': 'Test@456', 'aditim5': 'Example#678'}"
      ]
     },
     "execution_count": 45,
     "metadata": {},
     "output_type": "execute_result"
    }
   ],
   "source": [
    "users"
   ]
  },
  {
   "cell_type": "code",
   "execution_count": 47,
   "metadata": {},
   "outputs": [
    {
     "name": "stdout",
     "output_type": "stream",
     "text": [
      "Authentication Failed , Please check username and password\n",
      "None\n"
     ]
    }
   ],
   "source": [
    "h2 = hypotenuse(username=\"utkarsh1\", password=\"test123\", a=4, b=5)\n",
    "print(h2)"
   ]
  },
  {
   "cell_type": "code",
   "execution_count": 48,
   "metadata": {},
   "outputs": [
    {
     "name": "stdout",
     "output_type": "stream",
     "text": [
      "Login successfull! Welcome utkarsh1\n",
      "Results : 8.602325267042627\n"
     ]
    }
   ],
   "source": [
    "h3 = hypotenuse(username=\"utkarsh1\", password=\"Password123\", a=5, b=7)"
   ]
  },
  {
   "cell_type": "code",
   "execution_count": 49,
   "metadata": {},
   "outputs": [
    {
     "data": {
      "text/plain": [
       "8.602325267042627"
      ]
     },
     "execution_count": 49,
     "metadata": {},
     "output_type": "execute_result"
    }
   ],
   "source": [
    "h3"
   ]
  },
  {
   "cell_type": "code",
   "execution_count": 50,
   "metadata": {},
   "outputs": [
    {
     "name": "stdout",
     "output_type": "stream",
     "text": [
      "Login successfull! Welcome aditim5\n",
      "Results : 17.69180601295413\n"
     ]
    }
   ],
   "source": [
    "h4 = hypotenuse(username=\"aditim5\", password=\"Example#678\", a=12, b=13)"
   ]
  },
  {
   "cell_type": "code",
   "execution_count": 51,
   "metadata": {},
   "outputs": [
    {
     "data": {
      "text/plain": [
       "17.69180601295413"
      ]
     },
     "execution_count": 51,
     "metadata": {},
     "output_type": "execute_result"
    }
   ],
   "source": [
    "h4"
   ]
  },
  {
   "cell_type": "code",
   "execution_count": 58,
   "metadata": {},
   "outputs": [],
   "source": [
    "@authenticate\n",
    "def compound_intrest(username, password, p, n, r):\n",
    "    a = p*(1 + (r/100))**n\n",
    "    i = a - p \n",
    "    return i, a "
   ]
  },
  {
   "cell_type": "code",
   "execution_count": 59,
   "metadata": {},
   "outputs": [
    {
     "name": "stdout",
     "output_type": "stream",
     "text": [
      "Login successfull! Welcome sarthaks3\n",
      "Results : (54380.12765726884, 154380.12765726884)\n"
     ]
    }
   ],
   "source": [
    "i3, a3 = compound_intrest(\n",
    "    username=\"sarthaks3\", \n",
    "    password=\"Test@456\",\n",
    "    p = 1_00_000,\n",
    "    n = 7,\n",
    "    r = 6.4\n",
    ")"
   ]
  },
  {
   "cell_type": "code",
   "execution_count": 60,
   "metadata": {},
   "outputs": [
    {
     "data": {
      "text/plain": [
       "54380.12765726884"
      ]
     },
     "execution_count": 60,
     "metadata": {},
     "output_type": "execute_result"
    }
   ],
   "source": [
    "i3"
   ]
  },
  {
   "cell_type": "code",
   "execution_count": 61,
   "metadata": {},
   "outputs": [
    {
     "data": {
      "text/plain": [
       "154380.12765726884"
      ]
     },
     "execution_count": 61,
     "metadata": {},
     "output_type": "execute_result"
    }
   ],
   "source": [
    "a3"
   ]
  },
  {
   "cell_type": "code",
   "execution_count": 63,
   "metadata": {},
   "outputs": [
    {
     "name": "stdout",
     "output_type": "stream",
     "text": [
      "Authentication Failed , Please check username and password\n"
     ]
    }
   ],
   "source": [
    "compound_intrest(\n",
    "    username=\"test\",\n",
    "    password=\"test\",\n",
    "    p = 50000,\n",
    "    n = 5,\n",
    "    r = 10\n",
    ")"
   ]
  },
  {
   "cell_type": "code",
   "execution_count": null,
   "metadata": {},
   "outputs": [],
   "source": []
  }
 ],
 "metadata": {
  "kernelspec": {
   "display_name": "venv",
   "language": "python",
   "name": "python3"
  },
  "language_info": {
   "codemirror_mode": {
    "name": "ipython",
    "version": 3
   },
   "file_extension": ".py",
   "mimetype": "text/x-python",
   "name": "python",
   "nbconvert_exporter": "python",
   "pygments_lexer": "ipython3",
   "version": "3.12.1"
  }
 },
 "nbformat": 4,
 "nbformat_minor": 2
}
