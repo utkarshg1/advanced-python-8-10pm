{
 "cells": [
  {
   "cell_type": "markdown",
   "metadata": {},
   "source": [
    "# Stock Market API Project"
   ]
  },
  {
   "cell_type": "code",
   "execution_count": 1,
   "metadata": {},
   "outputs": [
    {
     "name": "stdout",
     "output_type": "stream",
     "text": [
      "Requirement already satisfied: python-dotenv in c:\\adv python 8-10pm thu fri\\repository\\venv\\lib\\site-packages (1.0.1)Note: you may need to restart the kernel to use updated packages.\n",
      "\n",
      "Requirement already satisfied: plotly in c:\\adv python 8-10pm thu fri\\repository\\venv\\lib\\site-packages (5.24.1)\n",
      "Requirement already satisfied: nbformat in c:\\adv python 8-10pm thu fri\\repository\\venv\\lib\\site-packages (5.10.4)\n",
      "Requirement already satisfied: tenacity>=6.2.0 in c:\\adv python 8-10pm thu fri\\repository\\venv\\lib\\site-packages (from plotly) (8.5.0)\n",
      "Requirement already satisfied: packaging in c:\\adv python 8-10pm thu fri\\repository\\venv\\lib\\site-packages (from plotly) (24.1)\n",
      "Requirement already satisfied: fastjsonschema>=2.15 in c:\\adv python 8-10pm thu fri\\repository\\venv\\lib\\site-packages (from nbformat) (2.20.0)\n",
      "Requirement already satisfied: jsonschema>=2.6 in c:\\adv python 8-10pm thu fri\\repository\\venv\\lib\\site-packages (from nbformat) (4.23.0)\n",
      "Requirement already satisfied: jupyter-core!=5.0.*,>=4.12 in c:\\adv python 8-10pm thu fri\\repository\\venv\\lib\\site-packages (from nbformat) (5.7.2)\n",
      "Requirement already satisfied: traitlets>=5.1 in c:\\adv python 8-10pm thu fri\\repository\\venv\\lib\\site-packages (from nbformat) (5.14.3)\n",
      "Requirement already satisfied: attrs>=22.2.0 in c:\\adv python 8-10pm thu fri\\repository\\venv\\lib\\site-packages (from jsonschema>=2.6->nbformat) (24.2.0)\n",
      "Requirement already satisfied: jsonschema-specifications>=2023.03.6 in c:\\adv python 8-10pm thu fri\\repository\\venv\\lib\\site-packages (from jsonschema>=2.6->nbformat) (2023.12.1)\n",
      "Requirement already satisfied: referencing>=0.28.4 in c:\\adv python 8-10pm thu fri\\repository\\venv\\lib\\site-packages (from jsonschema>=2.6->nbformat) (0.35.1)\n",
      "Requirement already satisfied: rpds-py>=0.7.1 in c:\\adv python 8-10pm thu fri\\repository\\venv\\lib\\site-packages (from jsonschema>=2.6->nbformat) (0.20.0)\n",
      "Requirement already satisfied: platformdirs>=2.5 in c:\\adv python 8-10pm thu fri\\repository\\venv\\lib\\site-packages (from jupyter-core!=5.0.*,>=4.12->nbformat) (4.3.6)\n",
      "Requirement already satisfied: pywin32>=300 in c:\\adv python 8-10pm thu fri\\repository\\venv\\lib\\site-packages (from jupyter-core!=5.0.*,>=4.12->nbformat) (306)\n"
     ]
    },
    {
     "name": "stderr",
     "output_type": "stream",
     "text": [
      "\n",
      "[notice] A new release of pip is available: 24.2 -> 24.3.1\n",
      "[notice] To update, run: python.exe -m pip install --upgrade pip\n"
     ]
    }
   ],
   "source": [
    "%pip install python-dotenv plotly nbformat"
   ]
  },
  {
   "cell_type": "code",
   "execution_count": 2,
   "metadata": {},
   "outputs": [
    {
     "data": {
      "text/plain": [
       "True"
      ]
     },
     "execution_count": 2,
     "metadata": {},
     "output_type": "execute_result"
    }
   ],
   "source": [
    "from dotenv import load_dotenv\n",
    "load_dotenv()"
   ]
  },
  {
   "cell_type": "code",
   "execution_count": 3,
   "metadata": {},
   "outputs": [],
   "source": [
    "import os\n",
    "api_key = os.getenv(\"API_KEY\")"
   ]
  },
  {
   "cell_type": "code",
   "execution_count": 4,
   "metadata": {},
   "outputs": [],
   "source": [
    "import requests\n",
    "\n",
    "url = \"https://alpha-vantage.p.rapidapi.com/query\"\n",
    "\n",
    "querystring = {\"datatype\":\"json\",\"keywords\":\"State Bank of India\",\"function\":\"SYMBOL_SEARCH\"}\n",
    "\n",
    "headers = {\n",
    "\t\"x-rapidapi-key\": api_key,\n",
    "\t\"x-rapidapi-host\": \"alpha-vantage.p.rapidapi.com\"\n",
    "}\n",
    "\n",
    "response = requests.get(url, headers=headers, params=querystring)\n",
    "\n",
    "data = response.json()"
   ]
  },
  {
   "cell_type": "code",
   "execution_count": 5,
   "metadata": {},
   "outputs": [
    {
     "data": {
      "text/plain": [
       "{'bestMatches': [{'1. symbol': 'SBIN.BSE',\n",
       "   '2. name': 'State Bank of India',\n",
       "   '3. type': 'Equity',\n",
       "   '4. region': 'India/Bombay',\n",
       "   '5. marketOpen': '09:15',\n",
       "   '6. marketClose': '15:30',\n",
       "   '7. timezone': 'UTC+5.5',\n",
       "   '8. currency': 'INR',\n",
       "   '9. matchScore': '1.0000'},\n",
       "  {'1. symbol': 'SBKFF',\n",
       "   '2. name': 'State Bank of India',\n",
       "   '3. type': 'Equity',\n",
       "   '4. region': 'United States',\n",
       "   '5. marketOpen': '09:30',\n",
       "   '6. marketClose': '16:00',\n",
       "   '7. timezone': 'UTC-04',\n",
       "   '8. currency': 'USD',\n",
       "   '9. matchScore': '1.0000'},\n",
       "  {'1. symbol': 'SID.FRK',\n",
       "   '2. name': 'State Bank of India',\n",
       "   '3. type': 'Equity',\n",
       "   '4. region': 'Frankfurt',\n",
       "   '5. marketOpen': '08:00',\n",
       "   '6. marketClose': '20:00',\n",
       "   '7. timezone': 'UTC+02',\n",
       "   '8. currency': 'EUR',\n",
       "   '9. matchScore': '1.0000'},\n",
       "  {'1. symbol': 'SBID.LON',\n",
       "   '2. name': 'State Bank of India GDR',\n",
       "   '3. type': 'Equity',\n",
       "   '4. region': 'United Kingdom',\n",
       "   '5. marketOpen': '08:00',\n",
       "   '6. marketClose': '16:30',\n",
       "   '7. timezone': 'UTC+01',\n",
       "   '8. currency': 'USD',\n",
       "   '9. matchScore': '0.9048'}]}"
      ]
     },
     "execution_count": 5,
     "metadata": {},
     "output_type": "execute_result"
    }
   ],
   "source": [
    "data"
   ]
  },
  {
   "cell_type": "code",
   "execution_count": 6,
   "metadata": {},
   "outputs": [
    {
     "data": {
      "text/plain": [
       "dict_keys(['bestMatches'])"
      ]
     },
     "execution_count": 6,
     "metadata": {},
     "output_type": "execute_result"
    }
   ],
   "source": [
    "data.keys()"
   ]
  },
  {
   "cell_type": "code",
   "execution_count": 7,
   "metadata": {},
   "outputs": [],
   "source": [
    "matches = data[\"bestMatches\"]"
   ]
  },
  {
   "cell_type": "code",
   "execution_count": 8,
   "metadata": {},
   "outputs": [
    {
     "data": {
      "text/html": [
       "<div>\n",
       "<style scoped>\n",
       "    .dataframe tbody tr th:only-of-type {\n",
       "        vertical-align: middle;\n",
       "    }\n",
       "\n",
       "    .dataframe tbody tr th {\n",
       "        vertical-align: top;\n",
       "    }\n",
       "\n",
       "    .dataframe thead th {\n",
       "        text-align: right;\n",
       "    }\n",
       "</style>\n",
       "<table border=\"1\" class=\"dataframe\">\n",
       "  <thead>\n",
       "    <tr style=\"text-align: right;\">\n",
       "      <th></th>\n",
       "      <th>1. symbol</th>\n",
       "      <th>2. name</th>\n",
       "      <th>3. type</th>\n",
       "      <th>4. region</th>\n",
       "      <th>5. marketOpen</th>\n",
       "      <th>6. marketClose</th>\n",
       "      <th>7. timezone</th>\n",
       "      <th>8. currency</th>\n",
       "      <th>9. matchScore</th>\n",
       "    </tr>\n",
       "  </thead>\n",
       "  <tbody>\n",
       "    <tr>\n",
       "      <th>0</th>\n",
       "      <td>SBIN.BSE</td>\n",
       "      <td>State Bank of India</td>\n",
       "      <td>Equity</td>\n",
       "      <td>India/Bombay</td>\n",
       "      <td>09:15</td>\n",
       "      <td>15:30</td>\n",
       "      <td>UTC+5.5</td>\n",
       "      <td>INR</td>\n",
       "      <td>1.0000</td>\n",
       "    </tr>\n",
       "    <tr>\n",
       "      <th>1</th>\n",
       "      <td>SBKFF</td>\n",
       "      <td>State Bank of India</td>\n",
       "      <td>Equity</td>\n",
       "      <td>United States</td>\n",
       "      <td>09:30</td>\n",
       "      <td>16:00</td>\n",
       "      <td>UTC-04</td>\n",
       "      <td>USD</td>\n",
       "      <td>1.0000</td>\n",
       "    </tr>\n",
       "    <tr>\n",
       "      <th>2</th>\n",
       "      <td>SID.FRK</td>\n",
       "      <td>State Bank of India</td>\n",
       "      <td>Equity</td>\n",
       "      <td>Frankfurt</td>\n",
       "      <td>08:00</td>\n",
       "      <td>20:00</td>\n",
       "      <td>UTC+02</td>\n",
       "      <td>EUR</td>\n",
       "      <td>1.0000</td>\n",
       "    </tr>\n",
       "    <tr>\n",
       "      <th>3</th>\n",
       "      <td>SBID.LON</td>\n",
       "      <td>State Bank of India GDR</td>\n",
       "      <td>Equity</td>\n",
       "      <td>United Kingdom</td>\n",
       "      <td>08:00</td>\n",
       "      <td>16:30</td>\n",
       "      <td>UTC+01</td>\n",
       "      <td>USD</td>\n",
       "      <td>0.9048</td>\n",
       "    </tr>\n",
       "  </tbody>\n",
       "</table>\n",
       "</div>"
      ],
      "text/plain": [
       "  1. symbol                  2. name 3. type       4. region 5. marketOpen  \\\n",
       "0  SBIN.BSE      State Bank of India  Equity    India/Bombay         09:15   \n",
       "1     SBKFF      State Bank of India  Equity   United States         09:30   \n",
       "2   SID.FRK      State Bank of India  Equity       Frankfurt         08:00   \n",
       "3  SBID.LON  State Bank of India GDR  Equity  United Kingdom         08:00   \n",
       "\n",
       "  6. marketClose 7. timezone 8. currency 9. matchScore  \n",
       "0          15:30     UTC+5.5         INR        1.0000  \n",
       "1          16:00      UTC-04         USD        1.0000  \n",
       "2          20:00      UTC+02         EUR        1.0000  \n",
       "3          16:30      UTC+01         USD        0.9048  "
      ]
     },
     "execution_count": 8,
     "metadata": {},
     "output_type": "execute_result"
    }
   ],
   "source": [
    "import pandas as pd\n",
    "symbols = pd.DataFrame(matches)\n",
    "symbols"
   ]
  },
  {
   "cell_type": "markdown",
   "metadata": {},
   "source": [
    "### State bank of India symbol in India is SBIN.BSE"
   ]
  },
  {
   "cell_type": "code",
   "execution_count": 9,
   "metadata": {},
   "outputs": [],
   "source": [
    "import requests\n",
    "\n",
    "url = \"https://alpha-vantage.p.rapidapi.com/query\"\n",
    "\n",
    "querystring = {\"function\":\"TIME_SERIES_DAILY\",\n",
    "               \"symbol\":\"SBIN.BSE\",\n",
    "               \"outputsize\":\"compact\",\n",
    "               \"datatype\":\"json\"}\n",
    "\n",
    "headers = {\n",
    "\t\"x-rapidapi-key\": api_key,\n",
    "\t\"x-rapidapi-host\": \"alpha-vantage.p.rapidapi.com\"\n",
    "}\n",
    "\n",
    "response = requests.get(url, headers=headers, params=querystring)\n",
    "\n",
    "data2 = response.json()"
   ]
  },
  {
   "cell_type": "code",
   "execution_count": 10,
   "metadata": {},
   "outputs": [
    {
     "data": {
      "text/plain": [
       "{'Meta Data': {'1. Information': 'Daily Prices (open, high, low, close) and Volumes',\n",
       "  '2. Symbol': 'SBIN.BSE',\n",
       "  '3. Last Refreshed': '2024-11-13',\n",
       "  '4. Output Size': 'Compact',\n",
       "  '5. Time Zone': 'US/Eastern'},\n",
       " 'Time Series (Daily)': {'2024-11-13': {'1. open': '822.5000',\n",
       "   '2. high': '831.6500',\n",
       "   '3. low': '804.4500',\n",
       "   '4. close': '808.3500',\n",
       "   '5. volume': '454522'},\n",
       "  '2024-11-12': {'1. open': '851.0000',\n",
       "   '2. high': '853.0000',\n",
       "   '3. low': '824.1000',\n",
       "   '4. close': '826.4000',\n",
       "   '5. volume': '467134'},\n",
       "  '2024-11-11': {'1. open': '847.0000',\n",
       "   '2. high': '853.6500',\n",
       "   '3. low': '841.4500',\n",
       "   '4. close': '847.8000',\n",
       "   '5. volume': '1417460'},\n",
       "  '2024-11-08': {'1. open': '860.0000',\n",
       "   '2. high': '863.6500',\n",
       "   '3. low': '834.3000',\n",
       "   '4. close': '843.2500',\n",
       "   '5. volume': '1106664'},\n",
       "  '2024-11-07': {'1. open': '860.0500',\n",
       "   '2. high': '862.4500',\n",
       "   '3. low': '846.7000',\n",
       "   '4. close': '859.2500',\n",
       "   '5. volume': '494821'},\n",
       "  '2024-11-06': {'1. open': '850.0000',\n",
       "   '2. high': '861.0000',\n",
       "   '3. low': '846.2000',\n",
       "   '4. close': '854.7500',\n",
       "   '5. volume': '896339'},\n",
       "  '2024-11-05': {'1. open': '829.0000',\n",
       "   '2. high': '851.2000',\n",
       "   '3. low': '826.1000',\n",
       "   '4. close': '849.2000',\n",
       "   '5. volume': '1335383'},\n",
       "  '2024-11-04': {'1. open': '822.6500',\n",
       "   '2. high': '837.5000',\n",
       "   '3. low': '807.0500',\n",
       "   '4. close': '829.8500',\n",
       "   '5. volume': '458939'},\n",
       "  '2024-10-31': {'1. open': '821.9500',\n",
       "   '2. high': '828.0000',\n",
       "   '3. low': '813.4500',\n",
       "   '4. close': '820.5000',\n",
       "   '5. volume': '497763'},\n",
       "  '2024-10-30': {'1. open': '830.0000',\n",
       "   '2. high': '832.9000',\n",
       "   '3. low': '821.0500',\n",
       "   '4. close': '822.4000',\n",
       "   '5. volume': '322347'},\n",
       "  '2024-10-29': {'1. open': '796.5000',\n",
       "   '2. high': '834.5000',\n",
       "   '3. low': '790.5000',\n",
       "   '4. close': '832.6500',\n",
       "   '5. volume': '1593501'},\n",
       "  '2024-10-28': {'1. open': '783.2000',\n",
       "   '2. high': '803.9500',\n",
       "   '3. low': '783.2000',\n",
       "   '4. close': '792.0500',\n",
       "   '5. volume': '675658'},\n",
       "  '2024-10-25': {'1. open': '798.4500',\n",
       "   '2. high': '800.0000',\n",
       "   '3. low': '772.0500',\n",
       "   '4. close': '780.6000',\n",
       "   '5. volume': '650630'},\n",
       "  '2024-10-24': {'1. open': '786.0500',\n",
       "   '2. high': '796.8000',\n",
       "   '3. low': '784.5000',\n",
       "   '4. close': '794.7000',\n",
       "   '5. volume': '183971'},\n",
       "  '2024-10-23': {'1. open': '790.0000',\n",
       "   '2. high': '792.5000',\n",
       "   '3. low': '779.6000',\n",
       "   '4. close': '785.9500',\n",
       "   '5. volume': '467975'},\n",
       "  '2024-10-22': {'1. open': '814.1500',\n",
       "   '2. high': '816.3500',\n",
       "   '3. low': '787.6000',\n",
       "   '4. close': '790.4500',\n",
       "   '5. volume': '604778'},\n",
       "  '2024-10-21': {'1. open': '822.0500',\n",
       "   '2. high': '826.3500',\n",
       "   '3. low': '809.1000',\n",
       "   '4. close': '814.1500',\n",
       "   '5. volume': '584223'},\n",
       "  '2024-10-18': {'1. open': '811.0000',\n",
       "   '2. high': '822.4000',\n",
       "   '3. low': '803.1000',\n",
       "   '4. close': '819.9500',\n",
       "   '5. volume': '429099'},\n",
       "  '2024-10-17': {'1. open': '806.0500',\n",
       "   '2. high': '819.2500',\n",
       "   '3. low': '806.0500',\n",
       "   '4. close': '810.9000',\n",
       "   '5. volume': '948591'},\n",
       "  '2024-10-16': {'1. open': '801.0500',\n",
       "   '2. high': '808.9000',\n",
       "   '3. low': '801.0500',\n",
       "   '4. close': '805.8500',\n",
       "   '5. volume': '142406'},\n",
       "  '2024-10-15': {'1. open': '805.0000',\n",
       "   '2. high': '807.6000',\n",
       "   '3. low': '801.5000',\n",
       "   '4. close': '804.6000',\n",
       "   '5. volume': '314354'},\n",
       "  '2024-10-14': {'1. open': '800.1500',\n",
       "   '2. high': '809.0000',\n",
       "   '3. low': '800.1500',\n",
       "   '4. close': '805.2500',\n",
       "   '5. volume': '755286'},\n",
       "  '2024-10-11': {'1. open': '797.0000',\n",
       "   '2. high': '802.5000',\n",
       "   '3. low': '793.0000',\n",
       "   '4. close': '800.0000',\n",
       "   '5. volume': '381115'},\n",
       "  '2024-10-10': {'1. open': '799.9000',\n",
       "   '2. high': '804.3500',\n",
       "   '3. low': '795.0500',\n",
       "   '4. close': '796.9500',\n",
       "   '5. volume': '163966'},\n",
       "  '2024-10-09': {'1. open': '787.9500',\n",
       "   '2. high': '805.0000',\n",
       "   '3. low': '782.5500',\n",
       "   '4. close': '797.0000',\n",
       "   '5. volume': '807499'},\n",
       "  '2024-10-08': {'1. open': '771.1000',\n",
       "   '2. high': '784.5000',\n",
       "   '3. low': '771.1000',\n",
       "   '4. close': '782.0500',\n",
       "   '5. volume': '295906'},\n",
       "  '2024-10-07': {'1. open': '797.0500',\n",
       "   '2. high': '803.9000',\n",
       "   '3. low': '765.5500',\n",
       "   '4. close': '769.8000',\n",
       "   '5. volume': '1587972'},\n",
       "  '2024-10-04': {'1. open': '790.3000',\n",
       "   '2. high': '809.6500',\n",
       "   '3. low': '785.2000',\n",
       "   '4. close': '796.6000',\n",
       "   '5. volume': '1154183'},\n",
       "  '2024-10-03': {'1. open': '787.4000',\n",
       "   '2. high': '803.9500',\n",
       "   '3. low': '784.3500',\n",
       "   '4. close': '794.3500',\n",
       "   '5. volume': '768391'},\n",
       "  '2024-10-01': {'1. open': '788.9500',\n",
       "   '2. high': '799.7500',\n",
       "   '3. low': '788.2500',\n",
       "   '4. close': '797.0000',\n",
       "   '5. volume': '227883'},\n",
       "  '2024-09-30': {'1. open': '801.1500',\n",
       "   '2. high': '802.5000',\n",
       "   '3. low': '786.1500',\n",
       "   '4. close': '787.6000',\n",
       "   '5. volume': '1054719'},\n",
       "  '2024-09-27': {'1. open': '802.0000',\n",
       "   '2. high': '807.8500',\n",
       "   '3. low': '798.4000',\n",
       "   '4. close': '802.6500',\n",
       "   '5. volume': '669965'},\n",
       "  '2024-09-26': {'1. open': '795.1500',\n",
       "   '2. high': '803.0000',\n",
       "   '3. low': '791.5500',\n",
       "   '4. close': '801.9000',\n",
       "   '5. volume': '432917'},\n",
       "  '2024-09-25': {'1. open': '798.2500',\n",
       "   '2. high': '798.2500',\n",
       "   '3. low': '788.6500',\n",
       "   '4. close': '792.9500',\n",
       "   '5. volume': '524539'},\n",
       "  '2024-09-24': {'1. open': '800.0000',\n",
       "   '2. high': '804.1000',\n",
       "   '3. low': '796.6500',\n",
       "   '4. close': '798.3500',\n",
       "   '5. volume': '427650'},\n",
       "  '2024-09-23': {'1. open': '785.0500',\n",
       "   '2. high': '804.9000',\n",
       "   '3. low': '785.0000',\n",
       "   '4. close': '801.8000',\n",
       "   '5. volume': '1415077'},\n",
       "  '2024-09-20': {'1. open': '794.0500',\n",
       "   '2. high': '794.4000',\n",
       "   '3. low': '779.5000',\n",
       "   '4. close': '781.9000',\n",
       "   '5. volume': '1481791'},\n",
       "  '2024-09-19': {'1. open': '794.1500',\n",
       "   '2. high': '801.2500',\n",
       "   '3. low': '784.1000',\n",
       "   '4. close': '790.3500',\n",
       "   '5. volume': '402071'},\n",
       "  '2024-09-18': {'1. open': '783.5500',\n",
       "   '2. high': '794.5000',\n",
       "   '3. low': '781.3000',\n",
       "   '4. close': '792.3500',\n",
       "   '5. volume': '681430'},\n",
       "  '2024-09-17': {'1. open': '786.0000',\n",
       "   '2. high': '787.5000',\n",
       "   '3. low': '780.6500',\n",
       "   '4. close': '783.0500',\n",
       "   '5. volume': '240500'},\n",
       "  '2024-09-16': {'1. open': '793.4500',\n",
       "   '2. high': '795.3000',\n",
       "   '3. low': '784.1000',\n",
       "   '4. close': '785.4500',\n",
       "   '5. volume': '624666'},\n",
       "  '2024-09-13': {'1. open': '790.8500',\n",
       "   '2. high': '795.0000',\n",
       "   '3. low': '784.8500',\n",
       "   '4. close': '790.5500',\n",
       "   '5. volume': '1064575'},\n",
       "  '2024-09-12': {'1. open': '775.0000',\n",
       "   '2. high': '789.7000',\n",
       "   '3. low': '772.9000',\n",
       "   '4. close': '788.0500',\n",
       "   '5. volume': '312891'},\n",
       "  '2024-09-11': {'1. open': '781.6500',\n",
       "   '2. high': '788.0000',\n",
       "   '3. low': '765.6500',\n",
       "   '4. close': '768.3000',\n",
       "   '5. volume': '521913'},\n",
       "  '2024-09-10': {'1. open': '788.6500',\n",
       "   '2. high': '788.9500',\n",
       "   '3. low': '777.6500',\n",
       "   '4. close': '782.6000',\n",
       "   '5. volume': '582017'},\n",
       "  '2024-09-09': {'1. open': '785.0000',\n",
       "   '2. high': '788.0500',\n",
       "   '3. low': '771.3000',\n",
       "   '4. close': '784.3000',\n",
       "   '5. volume': '1433332'},\n",
       "  '2024-09-06': {'1. open': '813.9000',\n",
       "   '2. high': '813.9000',\n",
       "   '3. low': '777.0500',\n",
       "   '4. close': '782.6000',\n",
       "   '5. volume': '2498701'},\n",
       "  '2024-09-05': {'1. open': '818.0000',\n",
       "   '2. high': '821.9000',\n",
       "   '3. low': '814.3000',\n",
       "   '4. close': '818.6000',\n",
       "   '5. volume': '318031'},\n",
       "  '2024-09-04': {'1. open': '813.0000',\n",
       "   '2. high': '818.6500',\n",
       "   '3. low': '813.0000',\n",
       "   '4. close': '816.5000',\n",
       "   '5. volume': '278846'},\n",
       "  '2024-09-03': {'1. open': '821.2000',\n",
       "   '2. high': '825.9000',\n",
       "   '3. low': '816.7500',\n",
       "   '4. close': '824.7500',\n",
       "   '5. volume': '293326'},\n",
       "  '2024-09-02': {'1. open': '816.4500',\n",
       "   '2. high': '825.3000',\n",
       "   '3. low': '813.0000',\n",
       "   '4. close': '822.1000',\n",
       "   '5. volume': '1129356'},\n",
       "  '2024-08-30': {'1. open': '818.4500',\n",
       "   '2. high': '820.3500',\n",
       "   '3. low': '814.3000',\n",
       "   '4. close': '815.6500',\n",
       "   '5. volume': '598533'},\n",
       "  '2024-08-29': {'1. open': '809.3500',\n",
       "   '2. high': '815.9500',\n",
       "   '3. low': '807.3000',\n",
       "   '4. close': '814.5000',\n",
       "   '5. volume': '271349'},\n",
       "  '2024-08-28': {'1. open': '813.8000',\n",
       "   '2. high': '817.1000',\n",
       "   '3. low': '806.9000',\n",
       "   '4. close': '809.3000',\n",
       "   '5. volume': '196716'},\n",
       "  '2024-08-27': {'1. open': '816.8500',\n",
       "   '2. high': '819.3000',\n",
       "   '3. low': '811.0500',\n",
       "   '4. close': '815.1500',\n",
       "   '5. volume': '464853'},\n",
       "  '2024-08-26': {'1. open': '819.3500',\n",
       "   '2. high': '823.3500',\n",
       "   '3. low': '814.2000',\n",
       "   '4. close': '815.3500',\n",
       "   '5. volume': '1278721'},\n",
       "  '2024-08-23': {'1. open': '821.0500',\n",
       "   '2. high': '821.7000',\n",
       "   '3. low': '814.2000',\n",
       "   '4. close': '815.2500',\n",
       "   '5. volume': '560060'},\n",
       "  '2024-08-22': {'1. open': '819.8500',\n",
       "   '2. high': '823.7000',\n",
       "   '3. low': '817.4000',\n",
       "   '4. close': '820.1500',\n",
       "   '5. volume': '494896'},\n",
       "  '2024-08-21': {'1. open': '820.0000',\n",
       "   '2. high': '821.0000',\n",
       "   '3. low': '811.4000',\n",
       "   '4. close': '815.8000',\n",
       "   '5. volume': '248423'},\n",
       "  '2024-08-20': {'1. open': '818.7500',\n",
       "   '2. high': '822.9000',\n",
       "   '3. low': '813.2000',\n",
       "   '4. close': '820.0000',\n",
       "   '5. volume': '308095'},\n",
       "  '2024-08-19': {'1. open': '814.0500',\n",
       "   '2. high': '825.0000',\n",
       "   '3. low': '812.3500',\n",
       "   '4. close': '813.6500',\n",
       "   '5. volume': '743917'},\n",
       "  '2024-08-16': {'1. open': '803.5000',\n",
       "   '2. high': '815.1000',\n",
       "   '3. low': '803.2000',\n",
       "   '4. close': '812.4500',\n",
       "   '5. volume': '768630'},\n",
       "  '2024-08-14': {'1. open': '800.7000',\n",
       "   '2. high': '809.0000',\n",
       "   '3. low': '800.4000',\n",
       "   '4. close': '802.9500',\n",
       "   '5. volume': '287718'},\n",
       "  '2024-08-13': {'1. open': '813.1000',\n",
       "   '2. high': '819.4000',\n",
       "   '3. low': '795.1000',\n",
       "   '4. close': '797.3000',\n",
       "   '5. volume': '641102'},\n",
       "  '2024-08-12': {'1. open': '819.2000',\n",
       "   '2. high': '822.6000',\n",
       "   '3. low': '810.8500',\n",
       "   '4. close': '813.0000',\n",
       "   '5. volume': '1142861'},\n",
       "  '2024-08-09': {'1. open': '816.8000',\n",
       "   '2. high': '829.9000',\n",
       "   '3. low': '809.8500',\n",
       "   '4. close': '824.2000',\n",
       "   '5. volume': '822817'},\n",
       "  '2024-08-08': {'1. open': '813.8500',\n",
       "   '2. high': '817.9000',\n",
       "   '3. low': '803.0000',\n",
       "   '4. close': '807.6500',\n",
       "   '5. volume': '680135'},\n",
       "  '2024-08-07': {'1. open': '811.5000',\n",
       "   '2. high': '811.5000',\n",
       "   '3. low': '800.3000',\n",
       "   '4. close': '809.1000',\n",
       "   '5. volume': '604072'},\n",
       "  '2024-08-06': {'1. open': '820.6000',\n",
       "   '2. high': '826.8000',\n",
       "   '3. low': '795.6500',\n",
       "   '4. close': '797.7500',\n",
       "   '5. volume': '582520'},\n",
       "  '2024-08-05': {'1. open': '827.0500',\n",
       "   '2. high': '831.4000',\n",
       "   '3. low': '801.0500',\n",
       "   '4. close': '811.1000',\n",
       "   '5. volume': '2389678'},\n",
       "  '2024-08-02': {'1. open': '856.2000',\n",
       "   '2. high': '859.9500',\n",
       "   '3. low': '846.6000',\n",
       "   '4. close': '847.9000',\n",
       "   '5. volume': '1047656'},\n",
       "  '2024-08-01': {'1. open': '877.9500',\n",
       "   '2. high': '881.5000',\n",
       "   '3. low': '861.1500',\n",
       "   '4. close': '862.7500',\n",
       "   '5. volume': '516927'},\n",
       "  '2024-07-31': {'1. open': '874.6500',\n",
       "   '2. high': '874.8000',\n",
       "   '3. low': '867.7000',\n",
       "   '4. close': '872.7500',\n",
       "   '5. volume': '320361'},\n",
       "  '2024-07-30': {'1. open': '874.9500',\n",
       "   '2. high': '880.5000',\n",
       "   '3. low': '869.1000',\n",
       "   '4. close': '873.0000',\n",
       "   '5. volume': '510195'},\n",
       "  '2024-07-29': {'1. open': '866.9500',\n",
       "   '2. high': '889.0000',\n",
       "   '3. low': '863.1000',\n",
       "   '4. close': '872.0000',\n",
       "   '5. volume': '2248880'},\n",
       "  '2024-07-26': {'1. open': '847.9500',\n",
       "   '2. high': '864.6000',\n",
       "   '3. low': '844.4500',\n",
       "   '4. close': '862.9500',\n",
       "   '5. volume': '614705'},\n",
       "  '2024-07-25': {'1. open': '848.9000',\n",
       "   '2. high': '850.8500',\n",
       "   '3. low': '841.1000',\n",
       "   '4. close': '848.3000',\n",
       "   '5. volume': '490585'},\n",
       "  '2024-07-24': {'1. open': '864.1500',\n",
       "   '2. high': '868.1000',\n",
       "   '3. low': '847.3500',\n",
       "   '4. close': '852.2500',\n",
       "   '5. volume': '625866'},\n",
       "  '2024-07-23': {'1. open': '881.3500',\n",
       "   '2. high': '884.4000',\n",
       "   '3. low': '849.1000',\n",
       "   '4. close': '863.9000',\n",
       "   '5. volume': '958750'},\n",
       "  '2024-07-22': {'1. open': '876.3500',\n",
       "   '2. high': '895.3000',\n",
       "   '3. low': '873.0000',\n",
       "   '4. close': '878.3500',\n",
       "   '5. volume': '1401888'},\n",
       "  '2024-07-19': {'1. open': '896.3500',\n",
       "   '2. high': '898.8000',\n",
       "   '3. low': '883.0500',\n",
       "   '4. close': '889.2000',\n",
       "   '5. volume': '709711'},\n",
       "  '2024-07-18': {'1. open': '880.7000',\n",
       "   '2. high': '894.7500',\n",
       "   '3. low': '877.1000',\n",
       "   '4. close': '893.4000',\n",
       "   '5. volume': '1064600'},\n",
       "  '2024-07-16': {'1. open': '882.2000',\n",
       "   '2. high': '888.0000',\n",
       "   '3. low': '874.5500',\n",
       "   '4. close': '880.8500',\n",
       "   '5. volume': '600861'},\n",
       "  '2024-07-15': {'1. open': '860.0000',\n",
       "   '2. high': '886.9000',\n",
       "   '3. low': '860.0000',\n",
       "   '4. close': '881.6000',\n",
       "   '5. volume': '1981455'},\n",
       "  '2024-07-12': {'1. open': '856.7000',\n",
       "   '2. high': '863.4000',\n",
       "   '3. low': '855.5000',\n",
       "   '4. close': '859.6500',\n",
       "   '5. volume': '905757'},\n",
       "  '2024-07-11': {'1. open': '854.7000',\n",
       "   '2. high': '858.0000',\n",
       "   '3. low': '849.5500',\n",
       "   '4. close': '856.5500',\n",
       "   '5. volume': '481214'},\n",
       "  '2024-07-10': {'1. open': '861.0000',\n",
       "   '2. high': '861.0000',\n",
       "   '3. low': '843.3000',\n",
       "   '4. close': '849.1000',\n",
       "   '5. volume': '479702'},\n",
       "  '2024-07-09': {'1. open': '860.0000',\n",
       "   '2. high': '869.9000',\n",
       "   '3. low': '855.8500',\n",
       "   '4. close': '860.9500',\n",
       "   '5. volume': '758991'},\n",
       "  '2024-07-08': {'1. open': '859.5000',\n",
       "   '2. high': '864.8000',\n",
       "   '3. low': '852.9000',\n",
       "   '4. close': '856.2500',\n",
       "   '5. volume': '1108215'},\n",
       "  '2024-07-05': {'1. open': '838.7000',\n",
       "   '2. high': '861.5500',\n",
       "   '3. low': '837.6500',\n",
       "   '4. close': '860.0500',\n",
       "   '5. volume': '1499246'},\n",
       "  '2024-07-04': {'1. open': '844.6000',\n",
       "   '2. high': '844.6000',\n",
       "   '3. low': '834.5000',\n",
       "   '4. close': '839.2500',\n",
       "   '5. volume': '674690'},\n",
       "  '2024-07-03': {'1. open': '829.7000',\n",
       "   '2. high': '843.8000',\n",
       "   '3. low': '825.0500',\n",
       "   '4. close': '840.1000',\n",
       "   '5. volume': '1672011'},\n",
       "  '2024-07-02': {'1. open': '844.8500',\n",
       "   '2. high': '846.4500',\n",
       "   '3. low': '822.8500',\n",
       "   '4. close': '826.3500',\n",
       "   '5. volume': '1099939'},\n",
       "  '2024-07-01': {'1. open': '850.0000',\n",
       "   '2. high': '850.5500',\n",
       "   '3. low': '839.9500',\n",
       "   '4. close': '842.1000',\n",
       "   '5. volume': '1084488'},\n",
       "  '2024-06-28': {'1. open': '847.5000',\n",
       "   '2. high': '863.7500',\n",
       "   '3. low': '844.1500',\n",
       "   '4. close': '848.8500',\n",
       "   '5. volume': '1916294'},\n",
       "  '2024-06-27': {'1. open': '845.0500',\n",
       "   '2. high': '847.4000',\n",
       "   '3. low': '838.4000',\n",
       "   '4. close': '844.1500',\n",
       "   '5. volume': '473372'},\n",
       "  '2024-06-26': {'1. open': '841.8000',\n",
       "   '2. high': '848.6000',\n",
       "   '3. low': '836.0000',\n",
       "   '4. close': '845.0500',\n",
       "   '5. volume': '543783'},\n",
       "  '2024-06-25': {'1. open': '838.6500',\n",
       "   '2. high': '845.7500',\n",
       "   '3. low': '834.9500',\n",
       "   '4. close': '841.8500',\n",
       "   '5. volume': '538485'},\n",
       "  '2024-06-24': {'1. open': '832.7500',\n",
       "   '2. high': '836.0500',\n",
       "   '3. low': '820.8500',\n",
       "   '4. close': '832.6500',\n",
       "   '5. volume': '2194566'},\n",
       "  '2024-06-21': {'1. open': '845.0000',\n",
       "   '2. high': '848.0000',\n",
       "   '3. low': '828.6500',\n",
       "   '4. close': '836.4000',\n",
       "   '5. volume': '1667384'}}}"
      ]
     },
     "execution_count": 10,
     "metadata": {},
     "output_type": "execute_result"
    }
   ],
   "source": [
    "data2"
   ]
  },
  {
   "cell_type": "code",
   "execution_count": 11,
   "metadata": {},
   "outputs": [
    {
     "data": {
      "text/plain": [
       "dict_keys(['Meta Data', 'Time Series (Daily)'])"
      ]
     },
     "execution_count": 11,
     "metadata": {},
     "output_type": "execute_result"
    }
   ],
   "source": [
    "data2.keys()"
   ]
  },
  {
   "cell_type": "code",
   "execution_count": 12,
   "metadata": {},
   "outputs": [
    {
     "data": {
      "text/html": [
       "<div>\n",
       "<style scoped>\n",
       "    .dataframe tbody tr th:only-of-type {\n",
       "        vertical-align: middle;\n",
       "    }\n",
       "\n",
       "    .dataframe tbody tr th {\n",
       "        vertical-align: top;\n",
       "    }\n",
       "\n",
       "    .dataframe thead th {\n",
       "        text-align: right;\n",
       "    }\n",
       "</style>\n",
       "<table border=\"1\" class=\"dataframe\">\n",
       "  <thead>\n",
       "    <tr style=\"text-align: right;\">\n",
       "      <th></th>\n",
       "      <th>1. open</th>\n",
       "      <th>2. high</th>\n",
       "      <th>3. low</th>\n",
       "      <th>4. close</th>\n",
       "      <th>5. volume</th>\n",
       "    </tr>\n",
       "  </thead>\n",
       "  <tbody>\n",
       "    <tr>\n",
       "      <th>2024-11-13</th>\n",
       "      <td>822.5000</td>\n",
       "      <td>831.6500</td>\n",
       "      <td>804.4500</td>\n",
       "      <td>808.3500</td>\n",
       "      <td>454522</td>\n",
       "    </tr>\n",
       "    <tr>\n",
       "      <th>2024-11-12</th>\n",
       "      <td>851.0000</td>\n",
       "      <td>853.0000</td>\n",
       "      <td>824.1000</td>\n",
       "      <td>826.4000</td>\n",
       "      <td>467134</td>\n",
       "    </tr>\n",
       "    <tr>\n",
       "      <th>2024-11-11</th>\n",
       "      <td>847.0000</td>\n",
       "      <td>853.6500</td>\n",
       "      <td>841.4500</td>\n",
       "      <td>847.8000</td>\n",
       "      <td>1417460</td>\n",
       "    </tr>\n",
       "    <tr>\n",
       "      <th>2024-11-08</th>\n",
       "      <td>860.0000</td>\n",
       "      <td>863.6500</td>\n",
       "      <td>834.3000</td>\n",
       "      <td>843.2500</td>\n",
       "      <td>1106664</td>\n",
       "    </tr>\n",
       "    <tr>\n",
       "      <th>2024-11-07</th>\n",
       "      <td>860.0500</td>\n",
       "      <td>862.4500</td>\n",
       "      <td>846.7000</td>\n",
       "      <td>859.2500</td>\n",
       "      <td>494821</td>\n",
       "    </tr>\n",
       "    <tr>\n",
       "      <th>...</th>\n",
       "      <td>...</td>\n",
       "      <td>...</td>\n",
       "      <td>...</td>\n",
       "      <td>...</td>\n",
       "      <td>...</td>\n",
       "    </tr>\n",
       "    <tr>\n",
       "      <th>2024-06-27</th>\n",
       "      <td>845.0500</td>\n",
       "      <td>847.4000</td>\n",
       "      <td>838.4000</td>\n",
       "      <td>844.1500</td>\n",
       "      <td>473372</td>\n",
       "    </tr>\n",
       "    <tr>\n",
       "      <th>2024-06-26</th>\n",
       "      <td>841.8000</td>\n",
       "      <td>848.6000</td>\n",
       "      <td>836.0000</td>\n",
       "      <td>845.0500</td>\n",
       "      <td>543783</td>\n",
       "    </tr>\n",
       "    <tr>\n",
       "      <th>2024-06-25</th>\n",
       "      <td>838.6500</td>\n",
       "      <td>845.7500</td>\n",
       "      <td>834.9500</td>\n",
       "      <td>841.8500</td>\n",
       "      <td>538485</td>\n",
       "    </tr>\n",
       "    <tr>\n",
       "      <th>2024-06-24</th>\n",
       "      <td>832.7500</td>\n",
       "      <td>836.0500</td>\n",
       "      <td>820.8500</td>\n",
       "      <td>832.6500</td>\n",
       "      <td>2194566</td>\n",
       "    </tr>\n",
       "    <tr>\n",
       "      <th>2024-06-21</th>\n",
       "      <td>845.0000</td>\n",
       "      <td>848.0000</td>\n",
       "      <td>828.6500</td>\n",
       "      <td>836.4000</td>\n",
       "      <td>1667384</td>\n",
       "    </tr>\n",
       "  </tbody>\n",
       "</table>\n",
       "<p>100 rows × 5 columns</p>\n",
       "</div>"
      ],
      "text/plain": [
       "             1. open   2. high    3. low  4. close 5. volume\n",
       "2024-11-13  822.5000  831.6500  804.4500  808.3500    454522\n",
       "2024-11-12  851.0000  853.0000  824.1000  826.4000    467134\n",
       "2024-11-11  847.0000  853.6500  841.4500  847.8000   1417460\n",
       "2024-11-08  860.0000  863.6500  834.3000  843.2500   1106664\n",
       "2024-11-07  860.0500  862.4500  846.7000  859.2500    494821\n",
       "...              ...       ...       ...       ...       ...\n",
       "2024-06-27  845.0500  847.4000  838.4000  844.1500    473372\n",
       "2024-06-26  841.8000  848.6000  836.0000  845.0500    543783\n",
       "2024-06-25  838.6500  845.7500  834.9500  841.8500    538485\n",
       "2024-06-24  832.7500  836.0500  820.8500  832.6500   2194566\n",
       "2024-06-21  845.0000  848.0000  828.6500  836.4000   1667384\n",
       "\n",
       "[100 rows x 5 columns]"
      ]
     },
     "execution_count": 12,
     "metadata": {},
     "output_type": "execute_result"
    }
   ],
   "source": [
    "df2 = pd.DataFrame(data2[\"Time Series (Daily)\"]).T\n",
    "df2"
   ]
  },
  {
   "cell_type": "code",
   "execution_count": 13,
   "metadata": {},
   "outputs": [
    {
     "data": {
      "text/plain": [
       "1. open      object\n",
       "2. high      object\n",
       "3. low       object\n",
       "4. close     object\n",
       "5. volume    object\n",
       "dtype: object"
      ]
     },
     "execution_count": 13,
     "metadata": {},
     "output_type": "execute_result"
    }
   ],
   "source": [
    "df2.dtypes"
   ]
  },
  {
   "cell_type": "code",
   "execution_count": 14,
   "metadata": {},
   "outputs": [],
   "source": [
    "df2 = df2.astype(\"float\")"
   ]
  },
  {
   "cell_type": "code",
   "execution_count": 15,
   "metadata": {},
   "outputs": [
    {
     "data": {
      "text/html": [
       "<div>\n",
       "<style scoped>\n",
       "    .dataframe tbody tr th:only-of-type {\n",
       "        vertical-align: middle;\n",
       "    }\n",
       "\n",
       "    .dataframe tbody tr th {\n",
       "        vertical-align: top;\n",
       "    }\n",
       "\n",
       "    .dataframe thead th {\n",
       "        text-align: right;\n",
       "    }\n",
       "</style>\n",
       "<table border=\"1\" class=\"dataframe\">\n",
       "  <thead>\n",
       "    <tr style=\"text-align: right;\">\n",
       "      <th></th>\n",
       "      <th>1. open</th>\n",
       "      <th>2. high</th>\n",
       "      <th>3. low</th>\n",
       "      <th>4. close</th>\n",
       "      <th>5. volume</th>\n",
       "    </tr>\n",
       "  </thead>\n",
       "  <tbody>\n",
       "    <tr>\n",
       "      <th>2024-11-13</th>\n",
       "      <td>822.50</td>\n",
       "      <td>831.65</td>\n",
       "      <td>804.45</td>\n",
       "      <td>808.35</td>\n",
       "      <td>454522.0</td>\n",
       "    </tr>\n",
       "    <tr>\n",
       "      <th>2024-11-12</th>\n",
       "      <td>851.00</td>\n",
       "      <td>853.00</td>\n",
       "      <td>824.10</td>\n",
       "      <td>826.40</td>\n",
       "      <td>467134.0</td>\n",
       "    </tr>\n",
       "    <tr>\n",
       "      <th>2024-11-11</th>\n",
       "      <td>847.00</td>\n",
       "      <td>853.65</td>\n",
       "      <td>841.45</td>\n",
       "      <td>847.80</td>\n",
       "      <td>1417460.0</td>\n",
       "    </tr>\n",
       "    <tr>\n",
       "      <th>2024-11-08</th>\n",
       "      <td>860.00</td>\n",
       "      <td>863.65</td>\n",
       "      <td>834.30</td>\n",
       "      <td>843.25</td>\n",
       "      <td>1106664.0</td>\n",
       "    </tr>\n",
       "    <tr>\n",
       "      <th>2024-11-07</th>\n",
       "      <td>860.05</td>\n",
       "      <td>862.45</td>\n",
       "      <td>846.70</td>\n",
       "      <td>859.25</td>\n",
       "      <td>494821.0</td>\n",
       "    </tr>\n",
       "    <tr>\n",
       "      <th>...</th>\n",
       "      <td>...</td>\n",
       "      <td>...</td>\n",
       "      <td>...</td>\n",
       "      <td>...</td>\n",
       "      <td>...</td>\n",
       "    </tr>\n",
       "    <tr>\n",
       "      <th>2024-06-27</th>\n",
       "      <td>845.05</td>\n",
       "      <td>847.40</td>\n",
       "      <td>838.40</td>\n",
       "      <td>844.15</td>\n",
       "      <td>473372.0</td>\n",
       "    </tr>\n",
       "    <tr>\n",
       "      <th>2024-06-26</th>\n",
       "      <td>841.80</td>\n",
       "      <td>848.60</td>\n",
       "      <td>836.00</td>\n",
       "      <td>845.05</td>\n",
       "      <td>543783.0</td>\n",
       "    </tr>\n",
       "    <tr>\n",
       "      <th>2024-06-25</th>\n",
       "      <td>838.65</td>\n",
       "      <td>845.75</td>\n",
       "      <td>834.95</td>\n",
       "      <td>841.85</td>\n",
       "      <td>538485.0</td>\n",
       "    </tr>\n",
       "    <tr>\n",
       "      <th>2024-06-24</th>\n",
       "      <td>832.75</td>\n",
       "      <td>836.05</td>\n",
       "      <td>820.85</td>\n",
       "      <td>832.65</td>\n",
       "      <td>2194566.0</td>\n",
       "    </tr>\n",
       "    <tr>\n",
       "      <th>2024-06-21</th>\n",
       "      <td>845.00</td>\n",
       "      <td>848.00</td>\n",
       "      <td>828.65</td>\n",
       "      <td>836.40</td>\n",
       "      <td>1667384.0</td>\n",
       "    </tr>\n",
       "  </tbody>\n",
       "</table>\n",
       "<p>100 rows × 5 columns</p>\n",
       "</div>"
      ],
      "text/plain": [
       "            1. open  2. high  3. low  4. close  5. volume\n",
       "2024-11-13   822.50   831.65  804.45    808.35   454522.0\n",
       "2024-11-12   851.00   853.00  824.10    826.40   467134.0\n",
       "2024-11-11   847.00   853.65  841.45    847.80  1417460.0\n",
       "2024-11-08   860.00   863.65  834.30    843.25  1106664.0\n",
       "2024-11-07   860.05   862.45  846.70    859.25   494821.0\n",
       "...             ...      ...     ...       ...        ...\n",
       "2024-06-27   845.05   847.40  838.40    844.15   473372.0\n",
       "2024-06-26   841.80   848.60  836.00    845.05   543783.0\n",
       "2024-06-25   838.65   845.75  834.95    841.85   538485.0\n",
       "2024-06-24   832.75   836.05  820.85    832.65  2194566.0\n",
       "2024-06-21   845.00   848.00  828.65    836.40  1667384.0\n",
       "\n",
       "[100 rows x 5 columns]"
      ]
     },
     "execution_count": 15,
     "metadata": {},
     "output_type": "execute_result"
    }
   ],
   "source": [
    "df2"
   ]
  },
  {
   "cell_type": "code",
   "execution_count": 16,
   "metadata": {},
   "outputs": [
    {
     "data": {
      "text/plain": [
       "1. open      float64\n",
       "2. high      float64\n",
       "3. low       float64\n",
       "4. close     float64\n",
       "5. volume    float64\n",
       "dtype: object"
      ]
     },
     "execution_count": 16,
     "metadata": {},
     "output_type": "execute_result"
    }
   ],
   "source": [
    "df2.dtypes"
   ]
  },
  {
   "cell_type": "code",
   "execution_count": 17,
   "metadata": {},
   "outputs": [],
   "source": [
    "df2.index = pd.to_datetime(df2.index)"
   ]
  },
  {
   "cell_type": "markdown",
   "metadata": {},
   "source": [
    "### Plot the graph"
   ]
  },
  {
   "attachments": {
    "image-2.png": {
     "image/png": "[encoded data removed]"
    },
    "image.png": {
     "image/png": "[encoded data removed]"
    }
   },
   "cell_type": "markdown",
   "metadata": {},
   "source": [
    "![image-2.png](attachment:image-2.png)"
   ]
  },
  {
   "cell_type": "code",
   "execution_count": 18,
   "metadata": {},
   "outputs": [],
   "source": [
    "df2.to_csv(\"SBIN.csv\")"
   ]
  },
  {
   "cell_type": "markdown",
   "metadata": {},
   "source": [
    "### Visualize SBI stock price"
   ]
  },
  {
   "cell_type": "code",
   "execution_count": 19,
   "metadata": {},
   "outputs": [],
   "source": [
    "import plotly.graph_objects as go"
   ]
  },
  {
   "cell_type": "code",
   "execution_count": 20,
   "metadata": {},
   "outputs": [
    {
     "data": {
      "application/vnd.plotly.v1+json": {
       "config": {
        "plotlyServerURL": "https://plot.ly"
       },
       "data": [
        {
         "close": [
          808.35,
          826.4,
          847.8,
          843.25,
          859.25,
          854.75,
          849.2,
          829.85,
          820.5,
          822.4,
          832.65,
          792.05,
          780.6,
          794.7,
          785.95,
          790.45,
          814.15,
          819.95,
          810.9,
          805.85,
          804.6,
          805.25,
          800,
          796.95,
          797,
          782.05,
          769.8,
          796.6,
          794.35,
          797,
          787.6,
          802.65,
          801.9,
          792.95,
          798.35,
          801.8,
          781.9,
          790.35,
          792.35,
          783.05,
          785.45,
          790.55,
          788.05,
          768.3,
          782.6,
          784.3,
          782.6,
          818.6,
          816.5,
          824.75,
          822.1,
          815.65,
          814.5,
          809.3,
          815.15,
          815.35,
          815.25,
          820.15,
          815.8,
          820,
          813.65,
          812.45,
          802.95,
          797.3,
          813,
          824.2,
          807.65,
          809.1,
          797.75,
          811.1,
          847.9,
          862.75,
          872.75,
          873,
          872,
          862.95,
          848.3,
          852.25,
          863.9,
          878.35,
          889.2,
          893.4,
          880.85,
          881.6,
          859.65,
          856.55,
          849.1,
          860.95,
          856.25,
          860.05,
          839.25,
          840.1,
          826.35,
          842.1,
          848.85,
          844.15,
          845.05,
          841.85,
          832.65,
          836.4
         ],
         "high": [
          831.65,
          853,
          853.65,
          863.65,
          862.45,
          861,
          851.2,
          837.5,
          828,
          832.9,
          834.5,
          803.95,
          800,
          796.8,
          792.5,
          816.35,
          826.35,
          822.4,
          819.25,
          808.9,
          807.6,
          809,
          802.5,
          804.35,
          805,
          784.5,
          803.9,
          809.65,
          803.95,
          799.75,
          802.5,
          807.85,
          803,
          798.25,
          804.1,
          804.9,
          794.4,
          801.25,
          794.5,
          787.5,
          795.3,
          795,
          789.7,
          788,
          788.95,
          788.05,
          813.9,
          821.9,
          818.65,
          825.9,
          825.3,
          820.35,
          815.95,
          817.1,
          819.3,
          823.35,
          821.7,
          823.7,
          821,
          822.9,
          825,
          815.1,
          809,
          819.4,
          822.6,
          829.9,
          817.9,
          811.5,
          826.8,
          831.4,
          859.95,
          881.5,
          874.8,
          880.5,
          889,
          864.6,
          850.85,
          868.1,
          884.4,
          895.3,
          898.8,
          894.75,
          888,
          886.9,
          863.4,
          858,
          861,
          869.9,
          864.8,
          861.55,
          844.6,
          843.8,
          846.45,
          850.55,
          863.75,
          847.4,
          848.6,
          845.75,
          836.05,
          848
         ],
         "low": [
          804.45,
          824.1,
          841.45,
          834.3,
          846.7,
          846.2,
          826.1,
          807.05,
          813.45,
          821.05,
          790.5,
          783.2,
          772.05,
          784.5,
          779.6,
          787.6,
          809.1,
          803.1,
          806.05,
          801.05,
          801.5,
          800.15,
          793,
          795.05,
          782.55,
          771.1,
          765.55,
          785.2,
          784.35,
          788.25,
          786.15,
          798.4,
          791.55,
          788.65,
          796.65,
          785,
          779.5,
          784.1,
          781.3,
          780.65,
          784.1,
          784.85,
          772.9,
          765.65,
          777.65,
          771.3,
          777.05,
          814.3,
          813,
          816.75,
          813,
          814.3,
          807.3,
          806.9,
          811.05,
          814.2,
          814.2,
          817.4,
          811.4,
          813.2,
          812.35,
          803.2,
          800.4,
          795.1,
          810.85,
          809.85,
          803,
          800.3,
          795.65,
          801.05,
          846.6,
          861.15,
          867.7,
          869.1,
          863.1,
          844.45,
          841.1,
          847.35,
          849.1,
          873,
          883.05,
          877.1,
          874.55,
          860,
          855.5,
          849.55,
          843.3,
          855.85,
          852.9,
          837.65,
          834.5,
          825.05,
          822.85,
          839.95,
          844.15,
          838.4,
          836,
          834.95,
          820.85,
          828.65
         ],
         "open": [
          822.5,
          851,
          847,
          860,
          860.05,
          850,
          829,
          822.65,
          821.95,
          830,
          796.5,
          783.2,
          798.45,
          786.05,
          790,
          814.15,
          822.05,
          811,
          806.05,
          801.05,
          805,
          800.15,
          797,
          799.9,
          787.95,
          771.1,
          797.05,
          790.3,
          787.4,
          788.95,
          801.15,
          802,
          795.15,
          798.25,
          800,
          785.05,
          794.05,
          794.15,
          783.55,
          786,
          793.45,
          790.85,
          775,
          781.65,
          788.65,
          785,
          813.9,
          818,
          813,
          821.2,
          816.45,
          818.45,
          809.35,
          813.8,
          816.85,
          819.35,
          821.05,
          819.85,
          820,
          818.75,
          814.05,
          803.5,
          800.7,
          813.1,
          819.2,
          816.8,
          813.85,
          811.5,
          820.6,
          827.05,
          856.2,
          877.95,
          874.65,
          874.95,
          866.95,
          847.95,
          848.9,
          864.15,
          881.35,
          876.35,
          896.35,
          880.7,
          882.2,
          860,
          856.7,
          854.7,
          861,
          860,
          859.5,
          838.7,
          844.6,
          829.7,
          844.85,
          850,
          847.5,
          845.05,
          841.8,
          838.65,
          832.75,
          845
         ],
         "type": "candlestick",
         "x": [
          "2024-11-13T00:00:00",
          "2024-11-12T00:00:00",
          "2024-11-11T00:00:00",
          "2024-11-08T00:00:00",
          "2024-11-07T00:00:00",
          "2024-11-06T00:00:00",
          "2024-11-05T00:00:00",
          "2024-11-04T00:00:00",
          "2024-10-31T00:00:00",
          "2024-10-30T00:00:00",
          "2024-10-29T00:00:00",
          "2024-10-28T00:00:00",
          "2024-10-25T00:00:00",
          "2024-10-24T00:00:00",
          "2024-10-23T00:00:00",
          "2024-10-22T00:00:00",
          "2024-10-21T00:00:00",
          "2024-10-18T00:00:00",
          "2024-10-17T00:00:00",
          "2024-10-16T00:00:00",
          "2024-10-15T00:00:00",
          "2024-10-14T00:00:00",
          "2024-10-11T00:00:00",
          "2024-10-10T00:00:00",
          "2024-10-09T00:00:00",
          "2024-10-08T00:00:00",
          "2024-10-07T00:00:00",
          "2024-10-04T00:00:00",
          "2024-10-03T00:00:00",
          "2024-10-01T00:00:00",
          "2024-09-30T00:00:00",
          "2024-09-27T00:00:00",
          "2024-09-26T00:00:00",
          "2024-09-25T00:00:00",
          "2024-09-24T00:00:00",
          "2024-09-23T00:00:00",
          "2024-09-20T00:00:00",
          "2024-09-19T00:00:00",
          "2024-09-18T00:00:00",
          "2024-09-17T00:00:00",
          "2024-09-16T00:00:00",
          "2024-09-13T00:00:00",
          "2024-09-12T00:00:00",
          "2024-09-11T00:00:00",
          "2024-09-10T00:00:00",
          "2024-09-09T00:00:00",
          "2024-09-06T00:00:00",
          "2024-09-05T00:00:00",
          "2024-09-04T00:00:00",
          "2024-09-03T00:00:00",
          "2024-09-02T00:00:00",
          "2024-08-30T00:00:00",
          "2024-08-29T00:00:00",
          "2024-08-28T00:00:00",
          "2024-08-27T00:00:00",
          "2024-08-26T00:00:00",
          "2024-08-23T00:00:00",
          "2024-08-22T00:00:00",
          "2024-08-21T00:00:00",
          "2024-08-20T00:00:00",
          "2024-08-19T00:00:00",
          "2024-08-16T00:00:00",
          "2024-08-14T00:00:00",
          "2024-08-13T00:00:00",
          "2024-08-12T00:00:00",
          "2024-08-09T00:00:00",
          "2024-08-08T00:00:00",
          "2024-08-07T00:00:00",
          "2024-08-06T00:00:00",
          "2024-08-05T00:00:00",
          "2024-08-02T00:00:00",
          "2024-08-01T00:00:00",
          "2024-07-31T00:00:00",
          "2024-07-30T00:00:00",
          "2024-07-29T00:00:00",
          "2024-07-26T00:00:00",
          "2024-07-25T00:00:00",
          "2024-07-24T00:00:00",
          "2024-07-23T00:00:00",
          "2024-07-22T00:00:00",
          "2024-07-19T00:00:00",
          "2024-07-18T00:00:00",
          "2024-07-16T00:00:00",
          "2024-07-15T00:00:00",
          "2024-07-12T00:00:00",
          "2024-07-11T00:00:00",
          "2024-07-10T00:00:00",
          "2024-07-09T00:00:00",
          "2024-07-08T00:00:00",
          "2024-07-05T00:00:00",
          "2024-07-04T00:00:00",
          "2024-07-03T00:00:00",
          "2024-07-02T00:00:00",
          "2024-07-01T00:00:00",
          "2024-06-28T00:00:00",
          "2024-06-27T00:00:00",
          "2024-06-26T00:00:00",
          "2024-06-25T00:00:00",
          "2024-06-24T00:00:00",
          "2024-06-21T00:00:00"
         ]
        }
       ],
       "layout": {
        "height": 800,
        "template": {
         "data": {
          "bar": [
           {
            "error_x": {
             "color": "#2a3f5f"
            },
            "error_y": {
             "color": "#2a3f5f"
            },
            "marker": {
             "line": {
              "color": "#E5ECF6",
              "width": 0.5
             },
             "pattern": {
              "fillmode": "overlay",
              "size": 10,
              "solidity": 0.2
             }
            },
            "type": "bar"
           }
          ],
          "barpolar": [
           {
            "marker": {
             "line": {
              "color": "#E5ECF6",
              "width": 0.5
             },
             "pattern": {
              "fillmode": "overlay",
              "size": 10,
              "solidity": 0.2
             }
            },
            "type": "barpolar"
           }
          ],
          "carpet": [
           {
            "aaxis": {
             "endlinecolor": "#2a3f5f",
             "gridcolor": "white",
             "linecolor": "white",
             "minorgridcolor": "white",
             "startlinecolor": "#2a3f5f"
            },
            "baxis": {
             "endlinecolor": "#2a3f5f",
             "gridcolor": "white",
             "linecolor": "white",
             "minorgridcolor": "white",
             "startlinecolor": "#2a3f5f"
            },
            "type": "carpet"
           }
          ],
          "choropleth": [
           {
            "colorbar": {
             "outlinewidth": 0,
             "ticks": ""
            },
            "type": "choropleth"
           }
          ],
          "contour": [
           {
            "colorbar": {
             "outlinewidth": 0,
             "ticks": ""
            },
            "colorscale": [
             [
              0,
              "#0d0887"
             ],
             [
              0.1111111111111111,
              "#46039f"
             ],
             [
              0.2222222222222222,
              "#7201a8"
             ],
             [
              0.3333333333333333,
              "#9c179e"
             ],
             [
              0.4444444444444444,
              "#bd3786"
             ],
             [
              0.5555555555555556,
              "#d8576b"
             ],
             [
              0.6666666666666666,
              "#ed7953"
             ],
             [
              0.7777777777777778,
              "#fb9f3a"
             ],
             [
              0.8888888888888888,
              "#fdca26"
             ],
             [
              1,
              "#f0f921"
             ]
            ],
            "type": "contour"
           }
          ],
          "contourcarpet": [
           {
            "colorbar": {
             "outlinewidth": 0,
             "ticks": ""
            },
            "type": "contourcarpet"
           }
          ],
          "heatmap": [
           {
            "colorbar": {
             "outlinewidth": 0,
             "ticks": ""
            },
            "colorscale": [
             [
              0,
              "#0d0887"
             ],
             [
              0.1111111111111111,
              "#46039f"
             ],
             [
              0.2222222222222222,
              "#7201a8"
             ],
             [
              0.3333333333333333,
              "#9c179e"
             ],
             [
              0.4444444444444444,
              "#bd3786"
             ],
             [
              0.5555555555555556,
              "#d8576b"
             ],
             [
              0.6666666666666666,
              "#ed7953"
             ],
             [
              0.7777777777777778,
              "#fb9f3a"
             ],
             [
              0.8888888888888888,
              "#fdca26"
             ],
             [
              1,
              "#f0f921"
             ]
            ],
            "type": "heatmap"
           }
          ],
          "heatmapgl": [
           {
            "colorbar": {
             "outlinewidth": 0,
             "ticks": ""
            },
            "colorscale": [
             [
              0,
              "#0d0887"
             ],
             [
              0.1111111111111111,
              "#46039f"
             ],
             [
              0.2222222222222222,
              "#7201a8"
             ],
             [
              0.3333333333333333,
              "#9c179e"
             ],
             [
              0.4444444444444444,
              "#bd3786"
             ],
             [
              0.5555555555555556,
              "#d8576b"
             ],
             [
              0.6666666666666666,
              "#ed7953"
             ],
             [
              0.7777777777777778,
              "#fb9f3a"
             ],
             [
              0.8888888888888888,
              "#fdca26"
             ],
             [
              1,
              "#f0f921"
             ]
            ],
            "type": "heatmapgl"
           }
          ],
          "histogram": [
           {
            "marker": {
             "pattern": {
              "fillmode": "overlay",
              "size": 10,
              "solidity": 0.2
             }
            },
            "type": "histogram"
           }
          ],
          "histogram2d": [
           {
            "colorbar": {
             "outlinewidth": 0,
             "ticks": ""
            },
            "colorscale": [
             [
              0,
              "#0d0887"
             ],
             [
              0.1111111111111111,
              "#46039f"
             ],
             [
              0.2222222222222222,
              "#7201a8"
             ],
             [
              0.3333333333333333,
              "#9c179e"
             ],
             [
              0.4444444444444444,
              "#bd3786"
             ],
             [
              0.5555555555555556,
              "#d8576b"
             ],
             [
              0.6666666666666666,
              "#ed7953"
             ],
             [
              0.7777777777777778,
              "#fb9f3a"
             ],
             [
              0.8888888888888888,
              "#fdca26"
             ],
             [
              1,
              "#f0f921"
             ]
            ],
            "type": "histogram2d"
           }
          ],
          "histogram2dcontour": [
           {
            "colorbar": {
             "outlinewidth": 0,
             "ticks": ""
            },
            "colorscale": [
             [
              0,
              "#0d0887"
             ],
             [
              0.1111111111111111,
              "#46039f"
             ],
             [
              0.2222222222222222,
              "#7201a8"
             ],
             [
              0.3333333333333333,
              "#9c179e"
             ],
             [
              0.4444444444444444,
              "#bd3786"
             ],
             [
              0.5555555555555556,
              "#d8576b"
             ],
             [
              0.6666666666666666,
              "#ed7953"
             ],
             [
              0.7777777777777778,
              "#fb9f3a"
             ],
             [
              0.8888888888888888,
              "#fdca26"
             ],
             [
              1,
              "#f0f921"
             ]
            ],
            "type": "histogram2dcontour"
           }
          ],
          "mesh3d": [
           {
            "colorbar": {
             "outlinewidth": 0,
             "ticks": ""
            },
            "type": "mesh3d"
           }
          ],
          "parcoords": [
           {
            "line": {
             "colorbar": {
              "outlinewidth": 0,
              "ticks": ""
             }
            },
            "type": "parcoords"
           }
          ],
          "pie": [
           {
            "automargin": true,
            "type": "pie"
           }
          ],
          "scatter": [
           {
            "fillpattern": {
             "fillmode": "overlay",
             "size": 10,
             "solidity": 0.2
            },
            "type": "scatter"
           }
          ],
          "scatter3d": [
           {
            "line": {
             "colorbar": {
              "outlinewidth": 0,
              "ticks": ""
             }
            },
            "marker": {
             "colorbar": {
              "outlinewidth": 0,
              "ticks": ""
             }
            },
            "type": "scatter3d"
           }
          ],
          "scattercarpet": [
           {
            "marker": {
             "colorbar": {
              "outlinewidth": 0,
              "ticks": ""
             }
            },
            "type": "scattercarpet"
           }
          ],
          "scattergeo": [
           {
            "marker": {
             "colorbar": {
              "outlinewidth": 0,
              "ticks": ""
             }
            },
            "type": "scattergeo"
           }
          ],
          "scattergl": [
           {
            "marker": {
             "colorbar": {
              "outlinewidth": 0,
              "ticks": ""
             }
            },
            "type": "scattergl"
           }
          ],
          "scattermapbox": [
           {
            "marker": {
             "colorbar": {
              "outlinewidth": 0,
              "ticks": ""
             }
            },
            "type": "scattermapbox"
           }
          ],
          "scatterpolar": [
           {
            "marker": {
             "colorbar": {
              "outlinewidth": 0,
              "ticks": ""
             }
            },
            "type": "scatterpolar"
           }
          ],
          "scatterpolargl": [
           {
            "marker": {
             "colorbar": {
              "outlinewidth": 0,
              "ticks": ""
             }
            },
            "type": "scatterpolargl"
           }
          ],
          "scatterternary": [
           {
            "marker": {
             "colorbar": {
              "outlinewidth": 0,
              "ticks": ""
             }
            },
            "type": "scatterternary"
           }
          ],
          "surface": [
           {
            "colorbar": {
             "outlinewidth": 0,
             "ticks": ""
            },
            "colorscale": [
             [
              0,
              "#0d0887"
             ],
             [
              0.1111111111111111,
              "#46039f"
             ],
             [
              0.2222222222222222,
              "#7201a8"
             ],
             [
              0.3333333333333333,
              "#9c179e"
             ],
             [
              0.4444444444444444,
              "#bd3786"
             ],
             [
              0.5555555555555556,
              "#d8576b"
             ],
             [
              0.6666666666666666,
              "#ed7953"
             ],
             [
              0.7777777777777778,
              "#fb9f3a"
             ],
             [
              0.8888888888888888,
              "#fdca26"
             ],
             [
              1,
              "#f0f921"
             ]
            ],
            "type": "surface"
           }
          ],
          "table": [
           {
            "cells": {
             "fill": {
              "color": "#EBF0F8"
             },
             "line": {
              "color": "white"
             }
            },
            "header": {
             "fill": {
              "color": "#C8D4E3"
             },
             "line": {
              "color": "white"
             }
            },
            "type": "table"
           }
          ]
         },
         "layout": {
          "annotationdefaults": {
           "arrowcolor": "#2a3f5f",
           "arrowhead": 0,
           "arrowwidth": 1
          },
          "autotypenumbers": "strict",
          "coloraxis": {
           "colorbar": {
            "outlinewidth": 0,
            "ticks": ""
           }
          },
          "colorscale": {
           "diverging": [
            [
             0,
             "#8e0152"
            ],
            [
             0.1,
             "#c51b7d"
            ],
            [
             0.2,
             "#de77ae"
            ],
            [
             0.3,
             "#f1b6da"
            ],
            [
             0.4,
             "#fde0ef"
            ],
            [
             0.5,
             "#f7f7f7"
            ],
            [
             0.6,
             "#e6f5d0"
            ],
            [
             0.7,
             "#b8e186"
            ],
            [
             0.8,
             "#7fbc41"
            ],
            [
             0.9,
             "#4d9221"
            ],
            [
             1,
             "#276419"
            ]
           ],
           "sequential": [
            [
             0,
             "#0d0887"
            ],
            [
             0.1111111111111111,
             "#46039f"
            ],
            [
             0.2222222222222222,
             "#7201a8"
            ],
            [
             0.3333333333333333,
             "#9c179e"
            ],
            [
             0.4444444444444444,
             "#bd3786"
            ],
            [
             0.5555555555555556,
             "#d8576b"
            ],
            [
             0.6666666666666666,
             "#ed7953"
            ],
            [
             0.7777777777777778,
             "#fb9f3a"
            ],
            [
             0.8888888888888888,
             "#fdca26"
            ],
            [
             1,
             "#f0f921"
            ]
           ],
           "sequentialminus": [
            [
             0,
             "#0d0887"
            ],
            [
             0.1111111111111111,
             "#46039f"
            ],
            [
             0.2222222222222222,
             "#7201a8"
            ],
            [
             0.3333333333333333,
             "#9c179e"
            ],
            [
             0.4444444444444444,
             "#bd3786"
            ],
            [
             0.5555555555555556,
             "#d8576b"
            ],
            [
             0.6666666666666666,
             "#ed7953"
            ],
            [
             0.7777777777777778,
             "#fb9f3a"
            ],
            [
             0.8888888888888888,
             "#fdca26"
            ],
            [
             1,
             "#f0f921"
            ]
           ]
          },
          "colorway": [
           "#636efa",
           "#EF553B",
           "#00cc96",
           "#ab63fa",
           "#FFA15A",
           "#19d3f3",
           "#FF6692",
           "#B6E880",
           "#FF97FF",
           "#FECB52"
          ],
          "font": {
           "color": "#2a3f5f"
          },
          "geo": {
           "bgcolor": "white",
           "lakecolor": "white",
           "landcolor": "#E5ECF6",
           "showlakes": true,
           "showland": true,
           "subunitcolor": "white"
          },
          "hoverlabel": {
           "align": "left"
          },
          "hovermode": "closest",
          "mapbox": {
           "style": "light"
          },
          "paper_bgcolor": "white",
          "plot_bgcolor": "#E5ECF6",
          "polar": {
           "angularaxis": {
            "gridcolor": "white",
            "linecolor": "white",
            "ticks": ""
           },
           "bgcolor": "#E5ECF6",
           "radialaxis": {
            "gridcolor": "white",
            "linecolor": "white",
            "ticks": ""
           }
          },
          "scene": {
           "xaxis": {
            "backgroundcolor": "#E5ECF6",
            "gridcolor": "white",
            "gridwidth": 2,
            "linecolor": "white",
            "showbackground": true,
            "ticks": "",
            "zerolinecolor": "white"
           },
           "yaxis": {
            "backgroundcolor": "#E5ECF6",
            "gridcolor": "white",
            "gridwidth": 2,
            "linecolor": "white",
            "showbackground": true,
            "ticks": "",
            "zerolinecolor": "white"
           },
           "zaxis": {
            "backgroundcolor": "#E5ECF6",
            "gridcolor": "white",
            "gridwidth": 2,
            "linecolor": "white",
            "showbackground": true,
            "ticks": "",
            "zerolinecolor": "white"
           }
          },
          "shapedefaults": {
           "line": {
            "color": "#2a3f5f"
           }
          },
          "ternary": {
           "aaxis": {
            "gridcolor": "white",
            "linecolor": "white",
            "ticks": ""
           },
           "baxis": {
            "gridcolor": "white",
            "linecolor": "white",
            "ticks": ""
           },
           "bgcolor": "#E5ECF6",
           "caxis": {
            "gridcolor": "white",
            "linecolor": "white",
            "ticks": ""
           }
          },
          "title": {
           "x": 0.05
          },
          "xaxis": {
           "automargin": true,
           "gridcolor": "white",
           "linecolor": "white",
           "ticks": "",
           "title": {
            "standoff": 15
           },
           "zerolinecolor": "white",
           "zerolinewidth": 2
          },
          "yaxis": {
           "automargin": true,
           "gridcolor": "white",
           "linecolor": "white",
           "ticks": "",
           "title": {
            "standoff": 15
           },
           "zerolinecolor": "white",
           "zerolinewidth": 2
          }
         }
        },
        "width": 1200
       }
      }
     },
     "metadata": {},
     "output_type": "display_data"
    }
   ],
   "source": [
    "chart = go.Figure(\n",
    "    data = [\n",
    "        go.Candlestick(\n",
    "            x = df2.index,\n",
    "            open = df2[\"1. open\"],\n",
    "            high = df2[\"2. high\"],\n",
    "            low = df2[\"3. low\"],\n",
    "            close = df2[\"4. close\"]\n",
    "        )\n",
    "    ]\n",
    ")\n",
    "\n",
    "chart.update_layout(width=1200, height=800)\n",
    "\n",
    "chart.show()"
   ]
  },
  {
   "cell_type": "markdown",
   "metadata": {},
   "source": [
    "### Creating a class for Getting any stock data"
   ]
  },
  {
   "cell_type": "code",
   "execution_count": 25,
   "metadata": {},
   "outputs": [],
   "source": [
    "class StockFetch:\n",
    "\n",
    "    def __init__(self, api_key) -> None:\n",
    "        self.api_key = api_key\n",
    "        self.url = \"https://alpha-vantage.p.rapidapi.com/query\"\n",
    "        self.headers = {\n",
    "            \"x-rapidapi-key\": self.api_key,\n",
    "            \"x-rapidapi-host\": \"alpha-vantage.p.rapidapi.com\",\n",
    "        }\n",
    "\n",
    "    def get_stock_symbol(self, company):\n",
    "        querystring = {\n",
    "            \"datatype\": \"json\",\n",
    "            \"keywords\": company,\n",
    "            \"function\": \"SYMBOL_SEARCH\",\n",
    "        }\n",
    "        response = requests.get(self.url, headers=self.headers, params=querystring)\n",
    "        response.raise_for_status()\n",
    "        data = response.json()[\"bestMatches\"]\n",
    "        symbols = pd.DataFrame(data)\n",
    "        return symbols\n",
    "\n",
    "    def stock_prices(self, symbol):\n",
    "        querystring = {\n",
    "            \"function\": \"TIME_SERIES_DAILY\",\n",
    "            \"symbol\": symbol,\n",
    "            \"outputsize\": \"compact\",\n",
    "            \"datatype\": \"json\",\n",
    "        }\n",
    "        response = requests.get(self.url, headers=self.headers, params=querystring)\n",
    "        response.raise_for_status()\n",
    "        data = response.json()[\"Time Series (Daily)\"]\n",
    "        prices = pd.DataFrame(data).T\n",
    "        prices = prices.astype(float)\n",
    "        prices.index = pd.to_datetime(prices.index)\n",
    "        return prices\n",
    "\n",
    "    def candlestick_chart(self, prices):\n",
    "        chart = go.Figure(\n",
    "            data=[\n",
    "                go.Candlestick(\n",
    "                    x=prices.index,\n",
    "                    open=prices[\"1. open\"],\n",
    "                    high=prices[\"2. high\"],\n",
    "                    low=prices[\"3. low\"],\n",
    "                    close=prices[\"4. close\"],\n",
    "                )\n",
    "            ]\n",
    "        )\n",
    "        chart.update_layout(width=1200, height=800)\n",
    "        chart.show()"
   ]
  },
  {
   "cell_type": "code",
   "execution_count": 26,
   "metadata": {},
   "outputs": [
    {
     "data": {
      "text/plain": [
       "<__main__.StockFetch at 0x177f762baa0>"
      ]
     },
     "execution_count": 26,
     "metadata": {},
     "output_type": "execute_result"
    }
   ],
   "source": [
    "client = StockFetch(api_key= os.getenv(\"API_KEY\"))\n",
    "client"
   ]
  },
  {
   "cell_type": "code",
   "execution_count": 27,
   "metadata": {},
   "outputs": [
    {
     "data": {
      "text/plain": [
       "__main__.StockFetch"
      ]
     },
     "execution_count": 27,
     "metadata": {},
     "output_type": "execute_result"
    }
   ],
   "source": [
    "type(client)"
   ]
  },
  {
   "cell_type": "code",
   "execution_count": 28,
   "metadata": {},
   "outputs": [
    {
     "data": {
      "text/html": [
       "<div>\n",
       "<style scoped>\n",
       "    .dataframe tbody tr th:only-of-type {\n",
       "        vertical-align: middle;\n",
       "    }\n",
       "\n",
       "    .dataframe tbody tr th {\n",
       "        vertical-align: top;\n",
       "    }\n",
       "\n",
       "    .dataframe thead th {\n",
       "        text-align: right;\n",
       "    }\n",
       "</style>\n",
       "<table border=\"1\" class=\"dataframe\">\n",
       "  <thead>\n",
       "    <tr style=\"text-align: right;\">\n",
       "      <th></th>\n",
       "      <th>1. symbol</th>\n",
       "      <th>2. name</th>\n",
       "      <th>3. type</th>\n",
       "      <th>4. region</th>\n",
       "      <th>5. marketOpen</th>\n",
       "      <th>6. marketClose</th>\n",
       "      <th>7. timezone</th>\n",
       "      <th>8. currency</th>\n",
       "      <th>9. matchScore</th>\n",
       "    </tr>\n",
       "  </thead>\n",
       "  <tbody>\n",
       "    <tr>\n",
       "      <th>0</th>\n",
       "      <td>HDB</td>\n",
       "      <td>HDFC Bank Ltd</td>\n",
       "      <td>Equity</td>\n",
       "      <td>United States</td>\n",
       "      <td>09:30</td>\n",
       "      <td>16:00</td>\n",
       "      <td>UTC-04</td>\n",
       "      <td>USD</td>\n",
       "      <td>0.8182</td>\n",
       "    </tr>\n",
       "    <tr>\n",
       "      <th>1</th>\n",
       "      <td>HDFCBANK.BSE</td>\n",
       "      <td>HDFC Bank Limited</td>\n",
       "      <td>Equity</td>\n",
       "      <td>India/Bombay</td>\n",
       "      <td>09:15</td>\n",
       "      <td>15:30</td>\n",
       "      <td>UTC+5.5</td>\n",
       "      <td>INR</td>\n",
       "      <td>0.8000</td>\n",
       "    </tr>\n",
       "    <tr>\n",
       "      <th>2</th>\n",
       "      <td>H1DB34.SAO</td>\n",
       "      <td>HDFC Bank Limited</td>\n",
       "      <td>Equity</td>\n",
       "      <td>Brazil/Sao Paolo</td>\n",
       "      <td>10:00</td>\n",
       "      <td>17:30</td>\n",
       "      <td>UTC-03</td>\n",
       "      <td>BRL</td>\n",
       "      <td>0.6923</td>\n",
       "    </tr>\n",
       "    <tr>\n",
       "      <th>3</th>\n",
       "      <td>HDFA.FRK</td>\n",
       "      <td>HDFC Bank Limited</td>\n",
       "      <td>Equity</td>\n",
       "      <td>Frankfurt</td>\n",
       "      <td>08:00</td>\n",
       "      <td>20:00</td>\n",
       "      <td>UTC+02</td>\n",
       "      <td>EUR</td>\n",
       "      <td>0.6923</td>\n",
       "    </tr>\n",
       "  </tbody>\n",
       "</table>\n",
       "</div>"
      ],
      "text/plain": [
       "      1. symbol            2. name 3. type         4. region 5. marketOpen  \\\n",
       "0           HDB      HDFC Bank Ltd  Equity     United States         09:30   \n",
       "1  HDFCBANK.BSE  HDFC Bank Limited  Equity      India/Bombay         09:15   \n",
       "2    H1DB34.SAO  HDFC Bank Limited  Equity  Brazil/Sao Paolo         10:00   \n",
       "3      HDFA.FRK  HDFC Bank Limited  Equity         Frankfurt         08:00   \n",
       "\n",
       "  6. marketClose 7. timezone 8. currency 9. matchScore  \n",
       "0          16:00      UTC-04         USD        0.8182  \n",
       "1          15:30     UTC+5.5         INR        0.8000  \n",
       "2          17:30      UTC-03         BRL        0.6923  \n",
       "3          20:00      UTC+02         EUR        0.6923  "
      ]
     },
     "execution_count": 28,
     "metadata": {},
     "output_type": "execute_result"
    }
   ],
   "source": [
    "client.get_stock_symbol(\"HDFC Bank\")"
   ]
  },
  {
   "cell_type": "code",
   "execution_count": 29,
   "metadata": {},
   "outputs": [
    {
     "data": {
      "text/html": [
       "<div>\n",
       "<style scoped>\n",
       "    .dataframe tbody tr th:only-of-type {\n",
       "        vertical-align: middle;\n",
       "    }\n",
       "\n",
       "    .dataframe tbody tr th {\n",
       "        vertical-align: top;\n",
       "    }\n",
       "\n",
       "    .dataframe thead th {\n",
       "        text-align: right;\n",
       "    }\n",
       "</style>\n",
       "<table border=\"1\" class=\"dataframe\">\n",
       "  <thead>\n",
       "    <tr style=\"text-align: right;\">\n",
       "      <th></th>\n",
       "      <th>1. open</th>\n",
       "      <th>2. high</th>\n",
       "      <th>3. low</th>\n",
       "      <th>4. close</th>\n",
       "      <th>5. volume</th>\n",
       "    </tr>\n",
       "  </thead>\n",
       "  <tbody>\n",
       "    <tr>\n",
       "      <th>2024-11-13</th>\n",
       "      <td>1711.30</td>\n",
       "      <td>1729.00</td>\n",
       "      <td>1672.50</td>\n",
       "      <td>1681.25</td>\n",
       "      <td>379694.0</td>\n",
       "    </tr>\n",
       "    <tr>\n",
       "      <th>2024-11-12</th>\n",
       "      <td>1767.20</td>\n",
       "      <td>1773.25</td>\n",
       "      <td>1708.80</td>\n",
       "      <td>1718.35</td>\n",
       "      <td>320337.0</td>\n",
       "    </tr>\n",
       "    <tr>\n",
       "      <th>2024-11-11</th>\n",
       "      <td>1753.00</td>\n",
       "      <td>1782.50</td>\n",
       "      <td>1751.55</td>\n",
       "      <td>1766.60</td>\n",
       "      <td>1008339.0</td>\n",
       "    </tr>\n",
       "    <tr>\n",
       "      <th>2024-11-08</th>\n",
       "      <td>1747.05</td>\n",
       "      <td>1761.45</td>\n",
       "      <td>1746.15</td>\n",
       "      <td>1754.55</td>\n",
       "      <td>167441.0</td>\n",
       "    </tr>\n",
       "    <tr>\n",
       "      <th>2024-11-07</th>\n",
       "      <td>1749.95</td>\n",
       "      <td>1760.10</td>\n",
       "      <td>1737.80</td>\n",
       "      <td>1746.15</td>\n",
       "      <td>131631.0</td>\n",
       "    </tr>\n",
       "    <tr>\n",
       "      <th>...</th>\n",
       "      <td>...</td>\n",
       "      <td>...</td>\n",
       "      <td>...</td>\n",
       "      <td>...</td>\n",
       "      <td>...</td>\n",
       "    </tr>\n",
       "    <tr>\n",
       "      <th>2024-06-28</th>\n",
       "      <td>1697.95</td>\n",
       "      <td>1706.10</td>\n",
       "      <td>1678.80</td>\n",
       "      <td>1683.55</td>\n",
       "      <td>1070000.0</td>\n",
       "    </tr>\n",
       "    <tr>\n",
       "      <th>2024-06-27</th>\n",
       "      <td>1698.40</td>\n",
       "      <td>1713.00</td>\n",
       "      <td>1687.00</td>\n",
       "      <td>1696.50</td>\n",
       "      <td>263950.0</td>\n",
       "    </tr>\n",
       "    <tr>\n",
       "      <th>2024-06-26</th>\n",
       "      <td>1709.60</td>\n",
       "      <td>1710.70</td>\n",
       "      <td>1691.10</td>\n",
       "      <td>1699.50</td>\n",
       "      <td>372270.0</td>\n",
       "    </tr>\n",
       "    <tr>\n",
       "      <th>2024-06-25</th>\n",
       "      <td>1672.10</td>\n",
       "      <td>1717.10</td>\n",
       "      <td>1672.00</td>\n",
       "      <td>1710.90</td>\n",
       "      <td>1520000.0</td>\n",
       "    </tr>\n",
       "    <tr>\n",
       "      <th>2024-06-24</th>\n",
       "      <td>1649.95</td>\n",
       "      <td>1675.75</td>\n",
       "      <td>1645.70</td>\n",
       "      <td>1672.10</td>\n",
       "      <td>1840000.0</td>\n",
       "    </tr>\n",
       "  </tbody>\n",
       "</table>\n",
       "<p>100 rows × 5 columns</p>\n",
       "</div>"
      ],
      "text/plain": [
       "            1. open  2. high   3. low  4. close  5. volume\n",
       "2024-11-13  1711.30  1729.00  1672.50   1681.25   379694.0\n",
       "2024-11-12  1767.20  1773.25  1708.80   1718.35   320337.0\n",
       "2024-11-11  1753.00  1782.50  1751.55   1766.60  1008339.0\n",
       "2024-11-08  1747.05  1761.45  1746.15   1754.55   167441.0\n",
       "2024-11-07  1749.95  1760.10  1737.80   1746.15   131631.0\n",
       "...             ...      ...      ...       ...        ...\n",
       "2024-06-28  1697.95  1706.10  1678.80   1683.55  1070000.0\n",
       "2024-06-27  1698.40  1713.00  1687.00   1696.50   263950.0\n",
       "2024-06-26  1709.60  1710.70  1691.10   1699.50   372270.0\n",
       "2024-06-25  1672.10  1717.10  1672.00   1710.90  1520000.0\n",
       "2024-06-24  1649.95  1675.75  1645.70   1672.10  1840000.0\n",
       "\n",
       "[100 rows x 5 columns]"
      ]
     },
     "execution_count": 29,
     "metadata": {},
     "output_type": "execute_result"
    }
   ],
   "source": [
    "prices = client.stock_prices(symbol = \"HDFCBANK.BSE\")\n",
    "prices"
   ]
  },
  {
   "cell_type": "code",
   "execution_count": 30,
   "metadata": {},
   "outputs": [],
   "source": [
    "prices.to_csv(\"HDFCBank.csv\")"
   ]
  },
  {
   "cell_type": "code",
   "execution_count": 31,
   "metadata": {},
   "outputs": [
    {
     "data": {
      "application/vnd.plotly.v1+json": {
       "config": {
        "plotlyServerURL": "https://plot.ly"
       },
       "data": [
        {
         "close": [
          1681.25,
          1718.35,
          1766.6,
          1754.55,
          1746.15,
          1754.15,
          1757.95,
          1714.05,
          1737.8,
          1734.95,
          1735,
          1751,
          1734.3,
          1742.6,
          1750.1,
          1735.7,
          1714.1,
          1728.8,
          1681.15,
          1673.35,
          1699.95,
          1684.4,
          1688.5,
          1650.25,
          1662.3,
          1633.7,
          1651.3,
          1619.65,
          1656.8,
          1682.15,
          1726.15,
          1732,
          1752.85,
          1782.3,
          1778.85,
          1768.45,
          1759.25,
          1742.15,
          1708.15,
          1694.35,
          1668.7,
          1671,
          1665.35,
          1666,
          1644.35,
          1650.6,
          1647.5,
          1637,
          1645.25,
          1641.95,
          1637.8,
          1626.15,
          1632.95,
          1638.5,
          1636.4,
          1637.05,
          1639.6,
          1625.6,
          1631.75,
          1626.5,
          1637.4,
          1631.55,
          1632.35,
          1607.9,
          1603.6,
          1661.05,
          1649.5,
          1642.1,
          1624.9,
          1601,
          1615.15,
          1659.55,
          1640.4,
          1617.05,
          1615.3,
          1606.75,
          1617.8,
          1616.3,
          1604.7,
          1618,
          1640.8,
          1607.1,
          1614.5,
          1619.9,
          1622.1,
          1624.35,
          1621.7,
          1626.25,
          1636.5,
          1634.9,
          1648.1,
          1726.6,
          1768.35,
          1730.55,
          1704.75,
          1683.55,
          1696.5,
          1699.5,
          1710.9,
          1672.1
         ],
         "high": [
          1729,
          1773.25,
          1782.5,
          1761.45,
          1760.1,
          1772,
          1762.5,
          1743.6,
          1748.95,
          1739.65,
          1755,
          1763.7,
          1750.9,
          1758.35,
          1768.65,
          1746.45,
          1740,
          1748.2,
          1691,
          1698.25,
          1707.7,
          1698,
          1692,
          1665.05,
          1665,
          1656.55,
          1657,
          1659.8,
          1690.4,
          1725.9,
          1742,
          1752,
          1778.1,
          1787.8,
          1787.9,
          1781.8,
          1766.65,
          1745,
          1718.9,
          1698.8,
          1677,
          1677.65,
          1674,
          1669.5,
          1652.2,
          1654,
          1649.7,
          1647.05,
          1649.9,
          1643.7,
          1639.95,
          1645.7,
          1660.75,
          1644.4,
          1640.2,
          1647.35,
          1647.55,
          1634.85,
          1638,
          1634.35,
          1645.8,
          1637.05,
          1634.6,
          1613.55,
          1631.55,
          1675.6,
          1662.5,
          1652.95,
          1628.5,
          1632.85,
          1645.7,
          1670.1,
          1649,
          1627.5,
          1634.35,
          1631.7,
          1621.9,
          1624.85,
          1621,
          1649.95,
          1650.75,
          1623.6,
          1623.9,
          1626.8,
          1630,
          1638,
          1625.95,
          1640,
          1646.8,
          1655,
          1688.95,
          1760,
          1791.9,
          1734.9,
          1707.75,
          1706.1,
          1713,
          1710.7,
          1717.1,
          1675.75
         ],
         "low": [
          1672.5,
          1708.8,
          1751.55,
          1746.15,
          1737.8,
          1745.25,
          1698,
          1710,
          1728.75,
          1719.05,
          1724.4,
          1725.1,
          1728.95,
          1729,
          1737.55,
          1702.3,
          1710.95,
          1710.5,
          1654.05,
          1665.15,
          1677.55,
          1675.65,
          1654.95,
          1643.2,
          1633,
          1629,
          1619.65,
          1613.4,
          1652.4,
          1673.8,
          1720.05,
          1724,
          1750,
          1768.1,
          1760.9,
          1754,
          1739.95,
          1707.55,
          1696,
          1671,
          1663.85,
          1660.6,
          1657.15,
          1647.35,
          1639.1,
          1638,
          1629.65,
          1634,
          1641.8,
          1631.6,
          1624.85,
          1620.2,
          1622.95,
          1631.15,
          1630.25,
          1632.2,
          1631.05,
          1622.95,
          1628.1,
          1618,
          1628.15,
          1623.15,
          1611.6,
          1603.1,
          1601.2,
          1641.25,
          1646.1,
          1619,
          1603,
          1593.2,
          1601.2,
          1631,
          1619,
          1609.5,
          1600,
          1598.2,
          1596.55,
          1594.3,
          1588.5,
          1604.75,
          1613,
          1603.15,
          1598.85,
          1617,
          1615.2,
          1611.3,
          1601,
          1621,
          1623.25,
          1626.85,
          1642.05,
          1724.15,
          1765.2,
          1703,
          1680.75,
          1678.8,
          1687,
          1691.1,
          1672,
          1645.7
         ],
         "open": [
          1711.3,
          1767.2,
          1753,
          1747.05,
          1749.95,
          1765.2,
          1707.95,
          1741.4,
          1748.95,
          1730,
          1747.95,
          1725.1,
          1738.8,
          1757,
          1737.55,
          1702.3,
          1729,
          1720.05,
          1662.4,
          1692.4,
          1677.55,
          1692.55,
          1658,
          1664,
          1643,
          1651.95,
          1619.65,
          1654.95,
          1668.95,
          1710.05,
          1724.1,
          1751,
          1778.1,
          1778.8,
          1762.65,
          1764,
          1742.2,
          1715.25,
          1696,
          1671,
          1672.55,
          1660.6,
          1672,
          1648.3,
          1650,
          1652.4,
          1638.2,
          1640.8,
          1643.3,
          1637,
          1635.05,
          1645.7,
          1655,
          1642,
          1635.6,
          1640.85,
          1631.05,
          1634,
          1632,
          1626.5,
          1629.95,
          1635.75,
          1622,
          1607.9,
          1628,
          1641.25,
          1655.95,
          1627.3,
          1620.95,
          1621.25,
          1626,
          1631,
          1621.4,
          1618.95,
          1603,
          1610.2,
          1603.95,
          1594.3,
          1615.75,
          1649.95,
          1615.05,
          1618.5,
          1607.4,
          1620,
          1622.2,
          1622,
          1625.95,
          1636.45,
          1629.95,
          1641.95,
          1688.95,
          1760,
          1789,
          1715,
          1682,
          1697.95,
          1698.4,
          1709.6,
          1672.1,
          1649.95
         ],
         "type": "candlestick",
         "x": [
          "2024-11-13T00:00:00",
          "2024-11-12T00:00:00",
          "2024-11-11T00:00:00",
          "2024-11-08T00:00:00",
          "2024-11-07T00:00:00",
          "2024-11-06T00:00:00",
          "2024-11-05T00:00:00",
          "2024-11-04T00:00:00",
          "2024-11-01T00:00:00",
          "2024-10-31T00:00:00",
          "2024-10-30T00:00:00",
          "2024-10-29T00:00:00",
          "2024-10-28T00:00:00",
          "2024-10-25T00:00:00",
          "2024-10-24T00:00:00",
          "2024-10-23T00:00:00",
          "2024-10-22T00:00:00",
          "2024-10-21T00:00:00",
          "2024-10-18T00:00:00",
          "2024-10-17T00:00:00",
          "2024-10-16T00:00:00",
          "2024-10-15T00:00:00",
          "2024-10-14T00:00:00",
          "2024-10-11T00:00:00",
          "2024-10-10T00:00:00",
          "2024-10-09T00:00:00",
          "2024-10-08T00:00:00",
          "2024-10-07T00:00:00",
          "2024-10-04T00:00:00",
          "2024-10-03T00:00:00",
          "2024-10-01T00:00:00",
          "2024-09-30T00:00:00",
          "2024-09-27T00:00:00",
          "2024-09-26T00:00:00",
          "2024-09-25T00:00:00",
          "2024-09-24T00:00:00",
          "2024-09-23T00:00:00",
          "2024-09-20T00:00:00",
          "2024-09-19T00:00:00",
          "2024-09-18T00:00:00",
          "2024-09-17T00:00:00",
          "2024-09-16T00:00:00",
          "2024-09-13T00:00:00",
          "2024-09-12T00:00:00",
          "2024-09-11T00:00:00",
          "2024-09-10T00:00:00",
          "2024-09-09T00:00:00",
          "2024-09-06T00:00:00",
          "2024-09-05T00:00:00",
          "2024-09-04T00:00:00",
          "2024-09-03T00:00:00",
          "2024-09-02T00:00:00",
          "2024-08-30T00:00:00",
          "2024-08-29T00:00:00",
          "2024-08-28T00:00:00",
          "2024-08-27T00:00:00",
          "2024-08-26T00:00:00",
          "2024-08-23T00:00:00",
          "2024-08-22T00:00:00",
          "2024-08-21T00:00:00",
          "2024-08-20T00:00:00",
          "2024-08-19T00:00:00",
          "2024-08-16T00:00:00",
          "2024-08-14T00:00:00",
          "2024-08-13T00:00:00",
          "2024-08-12T00:00:00",
          "2024-08-09T00:00:00",
          "2024-08-08T00:00:00",
          "2024-08-07T00:00:00",
          "2024-08-06T00:00:00",
          "2024-08-05T00:00:00",
          "2024-08-02T00:00:00",
          "2024-08-01T00:00:00",
          "2024-07-31T00:00:00",
          "2024-07-30T00:00:00",
          "2024-07-29T00:00:00",
          "2024-07-26T00:00:00",
          "2024-07-25T00:00:00",
          "2024-07-24T00:00:00",
          "2024-07-23T00:00:00",
          "2024-07-22T00:00:00",
          "2024-07-19T00:00:00",
          "2024-07-18T00:00:00",
          "2024-07-16T00:00:00",
          "2024-07-15T00:00:00",
          "2024-07-12T00:00:00",
          "2024-07-11T00:00:00",
          "2024-07-10T00:00:00",
          "2024-07-09T00:00:00",
          "2024-07-08T00:00:00",
          "2024-07-05T00:00:00",
          "2024-07-04T00:00:00",
          "2024-07-03T00:00:00",
          "2024-07-02T00:00:00",
          "2024-07-01T00:00:00",
          "2024-06-28T00:00:00",
          "2024-06-27T00:00:00",
          "2024-06-26T00:00:00",
          "2024-06-25T00:00:00",
          "2024-06-24T00:00:00"
         ]
        }
       ],
       "layout": {
        "height": 800,
        "template": {
         "data": {
          "bar": [
           {
            "error_x": {
             "color": "#2a3f5f"
            },
            "error_y": {
             "color": "#2a3f5f"
            },
            "marker": {
             "line": {
              "color": "#E5ECF6",
              "width": 0.5
             },
             "pattern": {
              "fillmode": "overlay",
              "size": 10,
              "solidity": 0.2
             }
            },
            "type": "bar"
           }
          ],
          "barpolar": [
           {
            "marker": {
             "line": {
              "color": "#E5ECF6",
              "width": 0.5
             },
             "pattern": {
              "fillmode": "overlay",
              "size": 10,
              "solidity": 0.2
             }
            },
            "type": "barpolar"
           }
          ],
          "carpet": [
           {
            "aaxis": {
             "endlinecolor": "#2a3f5f",
             "gridcolor": "white",
             "linecolor": "white",
             "minorgridcolor": "white",
             "startlinecolor": "#2a3f5f"
            },
            "baxis": {
             "endlinecolor": "#2a3f5f",
             "gridcolor": "white",
             "linecolor": "white",
             "minorgridcolor": "white",
             "startlinecolor": "#2a3f5f"
            },
            "type": "carpet"
           }
          ],
          "choropleth": [
           {
            "colorbar": {
             "outlinewidth": 0,
             "ticks": ""
            },
            "type": "choropleth"
           }
          ],
          "contour": [
           {
            "colorbar": {
             "outlinewidth": 0,
             "ticks": ""
            },
            "colorscale": [
             [
              0,
              "#0d0887"
             ],
             [
              0.1111111111111111,
              "#46039f"
             ],
             [
              0.2222222222222222,
              "#7201a8"
             ],
             [
              0.3333333333333333,
              "#9c179e"
             ],
             [
              0.4444444444444444,
              "#bd3786"
             ],
             [
              0.5555555555555556,
              "#d8576b"
             ],
             [
              0.6666666666666666,
              "#ed7953"
             ],
             [
              0.7777777777777778,
              "#fb9f3a"
             ],
             [
              0.8888888888888888,
              "#fdca26"
             ],
             [
              1,
              "#f0f921"
             ]
            ],
            "type": "contour"
           }
          ],
          "contourcarpet": [
           {
            "colorbar": {
             "outlinewidth": 0,
             "ticks": ""
            },
            "type": "contourcarpet"
           }
          ],
          "heatmap": [
           {
            "colorbar": {
             "outlinewidth": 0,
             "ticks": ""
            },
            "colorscale": [
             [
              0,
              "#0d0887"
             ],
             [
              0.1111111111111111,
              "#46039f"
             ],
             [
              0.2222222222222222,
              "#7201a8"
             ],
             [
              0.3333333333333333,
              "#9c179e"
             ],
             [
              0.4444444444444444,
              "#bd3786"
             ],
             [
              0.5555555555555556,
              "#d8576b"
             ],
             [
              0.6666666666666666,
              "#ed7953"
             ],
             [
              0.7777777777777778,
              "#fb9f3a"
             ],
             [
              0.8888888888888888,
              "#fdca26"
             ],
             [
              1,
              "#f0f921"
             ]
            ],
            "type": "heatmap"
           }
          ],
          "heatmapgl": [
           {
            "colorbar": {
             "outlinewidth": 0,
             "ticks": ""
            },
            "colorscale": [
             [
              0,
              "#0d0887"
             ],
             [
              0.1111111111111111,
              "#46039f"
             ],
             [
              0.2222222222222222,
              "#7201a8"
             ],
             [
              0.3333333333333333,
              "#9c179e"
             ],
             [
              0.4444444444444444,
              "#bd3786"
             ],
             [
              0.5555555555555556,
              "#d8576b"
             ],
             [
              0.6666666666666666,
              "#ed7953"
             ],
             [
              0.7777777777777778,
              "#fb9f3a"
             ],
             [
              0.8888888888888888,
              "#fdca26"
             ],
             [
              1,
              "#f0f921"
             ]
            ],
            "type": "heatmapgl"
           }
          ],
          "histogram": [
           {
            "marker": {
             "pattern": {
              "fillmode": "overlay",
              "size": 10,
              "solidity": 0.2
             }
            },
            "type": "histogram"
           }
          ],
          "histogram2d": [
           {
            "colorbar": {
             "outlinewidth": 0,
             "ticks": ""
            },
            "colorscale": [
             [
              0,
              "#0d0887"
             ],
             [
              0.1111111111111111,
              "#46039f"
             ],
             [
              0.2222222222222222,
              "#7201a8"
             ],
             [
              0.3333333333333333,
              "#9c179e"
             ],
             [
              0.4444444444444444,
              "#bd3786"
             ],
             [
              0.5555555555555556,
              "#d8576b"
             ],
             [
              0.6666666666666666,
              "#ed7953"
             ],
             [
              0.7777777777777778,
              "#fb9f3a"
             ],
             [
              0.8888888888888888,
              "#fdca26"
             ],
             [
              1,
              "#f0f921"
             ]
            ],
            "type": "histogram2d"
           }
          ],
          "histogram2dcontour": [
           {
            "colorbar": {
             "outlinewidth": 0,
             "ticks": ""
            },
            "colorscale": [
             [
              0,
              "#0d0887"
             ],
             [
              0.1111111111111111,
              "#46039f"
             ],
             [
              0.2222222222222222,
              "#7201a8"
             ],
             [
              0.3333333333333333,
              "#9c179e"
             ],
             [
              0.4444444444444444,
              "#bd3786"
             ],
             [
              0.5555555555555556,
              "#d8576b"
             ],
             [
              0.6666666666666666,
              "#ed7953"
             ],
             [
              0.7777777777777778,
              "#fb9f3a"
             ],
             [
              0.8888888888888888,
              "#fdca26"
             ],
             [
              1,
              "#f0f921"
             ]
            ],
            "type": "histogram2dcontour"
           }
          ],
          "mesh3d": [
           {
            "colorbar": {
             "outlinewidth": 0,
             "ticks": ""
            },
            "type": "mesh3d"
           }
          ],
          "parcoords": [
           {
            "line": {
             "colorbar": {
              "outlinewidth": 0,
              "ticks": ""
             }
            },
            "type": "parcoords"
           }
          ],
          "pie": [
           {
            "automargin": true,
            "type": "pie"
           }
          ],
          "scatter": [
           {
            "fillpattern": {
             "fillmode": "overlay",
             "size": 10,
             "solidity": 0.2
            },
            "type": "scatter"
           }
          ],
          "scatter3d": [
           {
            "line": {
             "colorbar": {
              "outlinewidth": 0,
              "ticks": ""
             }
            },
            "marker": {
             "colorbar": {
              "outlinewidth": 0,
              "ticks": ""
             }
            },
            "type": "scatter3d"
           }
          ],
          "scattercarpet": [
           {
            "marker": {
             "colorbar": {
              "outlinewidth": 0,
              "ticks": ""
             }
            },
            "type": "scattercarpet"
           }
          ],
          "scattergeo": [
           {
            "marker": {
             "colorbar": {
              "outlinewidth": 0,
              "ticks": ""
             }
            },
            "type": "scattergeo"
           }
          ],
          "scattergl": [
           {
            "marker": {
             "colorbar": {
              "outlinewidth": 0,
              "ticks": ""
             }
            },
            "type": "scattergl"
           }
          ],
          "scattermapbox": [
           {
            "marker": {
             "colorbar": {
              "outlinewidth": 0,
              "ticks": ""
             }
            },
            "type": "scattermapbox"
           }
          ],
          "scatterpolar": [
           {
            "marker": {
             "colorbar": {
              "outlinewidth": 0,
              "ticks": ""
             }
            },
            "type": "scatterpolar"
           }
          ],
          "scatterpolargl": [
           {
            "marker": {
             "colorbar": {
              "outlinewidth": 0,
              "ticks": ""
             }
            },
            "type": "scatterpolargl"
           }
          ],
          "scatterternary": [
           {
            "marker": {
             "colorbar": {
              "outlinewidth": 0,
              "ticks": ""
             }
            },
            "type": "scatterternary"
           }
          ],
          "surface": [
           {
            "colorbar": {
             "outlinewidth": 0,
             "ticks": ""
            },
            "colorscale": [
             [
              0,
              "#0d0887"
             ],
             [
              0.1111111111111111,
              "#46039f"
             ],
             [
              0.2222222222222222,
              "#7201a8"
             ],
             [
              0.3333333333333333,
              "#9c179e"
             ],
             [
              0.4444444444444444,
              "#bd3786"
             ],
             [
              0.5555555555555556,
              "#d8576b"
             ],
             [
              0.6666666666666666,
              "#ed7953"
             ],
             [
              0.7777777777777778,
              "#fb9f3a"
             ],
             [
              0.8888888888888888,
              "#fdca26"
             ],
             [
              1,
              "#f0f921"
             ]
            ],
            "type": "surface"
           }
          ],
          "table": [
           {
            "cells": {
             "fill": {
              "color": "#EBF0F8"
             },
             "line": {
              "color": "white"
             }
            },
            "header": {
             "fill": {
              "color": "#C8D4E3"
             },
             "line": {
              "color": "white"
             }
            },
            "type": "table"
           }
          ]
         },
         "layout": {
          "annotationdefaults": {
           "arrowcolor": "#2a3f5f",
           "arrowhead": 0,
           "arrowwidth": 1
          },
          "autotypenumbers": "strict",
          "coloraxis": {
           "colorbar": {
            "outlinewidth": 0,
            "ticks": ""
           }
          },
          "colorscale": {
           "diverging": [
            [
             0,
             "#8e0152"
            ],
            [
             0.1,
             "#c51b7d"
            ],
            [
             0.2,
             "#de77ae"
            ],
            [
             0.3,
             "#f1b6da"
            ],
            [
             0.4,
             "#fde0ef"
            ],
            [
             0.5,
             "#f7f7f7"
            ],
            [
             0.6,
             "#e6f5d0"
            ],
            [
             0.7,
             "#b8e186"
            ],
            [
             0.8,
             "#7fbc41"
            ],
            [
             0.9,
             "#4d9221"
            ],
            [
             1,
             "#276419"
            ]
           ],
           "sequential": [
            [
             0,
             "#0d0887"
            ],
            [
             0.1111111111111111,
             "#46039f"
            ],
            [
             0.2222222222222222,
             "#7201a8"
            ],
            [
             0.3333333333333333,
             "#9c179e"
            ],
            [
             0.4444444444444444,
             "#bd3786"
            ],
            [
             0.5555555555555556,
             "#d8576b"
            ],
            [
             0.6666666666666666,
             "#ed7953"
            ],
            [
             0.7777777777777778,
             "#fb9f3a"
            ],
            [
             0.8888888888888888,
             "#fdca26"
            ],
            [
             1,
             "#f0f921"
            ]
           ],
           "sequentialminus": [
            [
             0,
             "#0d0887"
            ],
            [
             0.1111111111111111,
             "#46039f"
            ],
            [
             0.2222222222222222,
             "#7201a8"
            ],
            [
             0.3333333333333333,
             "#9c179e"
            ],
            [
             0.4444444444444444,
             "#bd3786"
            ],
            [
             0.5555555555555556,
             "#d8576b"
            ],
            [
             0.6666666666666666,
             "#ed7953"
            ],
            [
             0.7777777777777778,
             "#fb9f3a"
            ],
            [
             0.8888888888888888,
             "#fdca26"
            ],
            [
             1,
             "#f0f921"
            ]
           ]
          },
          "colorway": [
           "#636efa",
           "#EF553B",
           "#00cc96",
           "#ab63fa",
           "#FFA15A",
           "#19d3f3",
           "#FF6692",
           "#B6E880",
           "#FF97FF",
           "#FECB52"
          ],
          "font": {
           "color": "#2a3f5f"
          },
          "geo": {
           "bgcolor": "white",
           "lakecolor": "white",
           "landcolor": "#E5ECF6",
           "showlakes": true,
           "showland": true,
           "subunitcolor": "white"
          },
          "hoverlabel": {
           "align": "left"
          },
          "hovermode": "closest",
          "mapbox": {
           "style": "light"
          },
          "paper_bgcolor": "white",
          "plot_bgcolor": "#E5ECF6",
          "polar": {
           "angularaxis": {
            "gridcolor": "white",
            "linecolor": "white",
            "ticks": ""
           },
           "bgcolor": "#E5ECF6",
           "radialaxis": {
            "gridcolor": "white",
            "linecolor": "white",
            "ticks": ""
           }
          },
          "scene": {
           "xaxis": {
            "backgroundcolor": "#E5ECF6",
            "gridcolor": "white",
            "gridwidth": 2,
            "linecolor": "white",
            "showbackground": true,
            "ticks": "",
            "zerolinecolor": "white"
           },
           "yaxis": {
            "backgroundcolor": "#E5ECF6",
            "gridcolor": "white",
            "gridwidth": 2,
            "linecolor": "white",
            "showbackground": true,
            "ticks": "",
            "zerolinecolor": "white"
           },
           "zaxis": {
            "backgroundcolor": "#E5ECF6",
            "gridcolor": "white",
            "gridwidth": 2,
            "linecolor": "white",
            "showbackground": true,
            "ticks": "",
            "zerolinecolor": "white"
           }
          },
          "shapedefaults": {
           "line": {
            "color": "#2a3f5f"
           }
          },
          "ternary": {
           "aaxis": {
            "gridcolor": "white",
            "linecolor": "white",
            "ticks": ""
           },
           "baxis": {
            "gridcolor": "white",
            "linecolor": "white",
            "ticks": ""
           },
           "bgcolor": "#E5ECF6",
           "caxis": {
            "gridcolor": "white",
            "linecolor": "white",
            "ticks": ""
           }
          },
          "title": {
           "x": 0.05
          },
          "xaxis": {
           "automargin": true,
           "gridcolor": "white",
           "linecolor": "white",
           "ticks": "",
           "title": {
            "standoff": 15
           },
           "zerolinecolor": "white",
           "zerolinewidth": 2
          },
          "yaxis": {
           "automargin": true,
           "gridcolor": "white",
           "linecolor": "white",
           "ticks": "",
           "title": {
            "standoff": 15
           },
           "zerolinecolor": "white",
           "zerolinewidth": 2
          }
         }
        },
        "width": 1200
       }
      }
     },
     "metadata": {},
     "output_type": "display_data"
    }
   ],
   "source": [
    "client.candlestick_chart(prices= prices)"
   ]
  },
  {
   "cell_type": "code",
   "execution_count": 32,
   "metadata": {},
   "outputs": [
    {
     "data": {
      "text/html": [
       "<div>\n",
       "<style scoped>\n",
       "    .dataframe tbody tr th:only-of-type {\n",
       "        vertical-align: middle;\n",
       "    }\n",
       "\n",
       "    .dataframe tbody tr th {\n",
       "        vertical-align: top;\n",
       "    }\n",
       "\n",
       "    .dataframe thead th {\n",
       "        text-align: right;\n",
       "    }\n",
       "</style>\n",
       "<table border=\"1\" class=\"dataframe\">\n",
       "  <thead>\n",
       "    <tr style=\"text-align: right;\">\n",
       "      <th></th>\n",
       "      <th>1. symbol</th>\n",
       "      <th>2. name</th>\n",
       "      <th>3. type</th>\n",
       "      <th>4. region</th>\n",
       "      <th>5. marketOpen</th>\n",
       "      <th>6. marketClose</th>\n",
       "      <th>7. timezone</th>\n",
       "      <th>8. currency</th>\n",
       "      <th>9. matchScore</th>\n",
       "    </tr>\n",
       "  </thead>\n",
       "  <tbody>\n",
       "    <tr>\n",
       "      <th>0</th>\n",
       "      <td>ADANIENT.BSE</td>\n",
       "      <td>Adani Enterprises Limited</td>\n",
       "      <td>Equity</td>\n",
       "      <td>India/Bombay</td>\n",
       "      <td>09:15</td>\n",
       "      <td>15:30</td>\n",
       "      <td>UTC+5.5</td>\n",
       "      <td>INR</td>\n",
       "      <td>0.6250</td>\n",
       "    </tr>\n",
       "    <tr>\n",
       "      <th>1</th>\n",
       "      <td>ADANIENSOL.BSE</td>\n",
       "      <td>Adani Energy Solutions Limited</td>\n",
       "      <td>Equity</td>\n",
       "      <td>India/Bombay</td>\n",
       "      <td>09:15</td>\n",
       "      <td>15:30</td>\n",
       "      <td>UTC+5.5</td>\n",
       "      <td>INR</td>\n",
       "      <td>0.5556</td>\n",
       "    </tr>\n",
       "    <tr>\n",
       "      <th>2</th>\n",
       "      <td>ADANIGREEN.BSE</td>\n",
       "      <td>Adani Green Energy Ltd</td>\n",
       "      <td>Equity</td>\n",
       "      <td>India/Bombay</td>\n",
       "      <td>09:15</td>\n",
       "      <td>15:30</td>\n",
       "      <td>UTC+5.5</td>\n",
       "      <td>INR</td>\n",
       "      <td>0.5556</td>\n",
       "    </tr>\n",
       "    <tr>\n",
       "      <th>3</th>\n",
       "      <td>ADANIPORTS.BSE</td>\n",
       "      <td>ADANI PORTS AND SPECIAL ECONOMIC ZONE LTD.</td>\n",
       "      <td>Equity</td>\n",
       "      <td>India/Bombay</td>\n",
       "      <td>09:15</td>\n",
       "      <td>15:30</td>\n",
       "      <td>UTC+5.5</td>\n",
       "      <td>INR</td>\n",
       "      <td>0.5556</td>\n",
       "    </tr>\n",
       "    <tr>\n",
       "      <th>4</th>\n",
       "      <td>ADANIPOWER.BSE</td>\n",
       "      <td>Adani Power Limited</td>\n",
       "      <td>Equity</td>\n",
       "      <td>India/Bombay</td>\n",
       "      <td>09:15</td>\n",
       "      <td>15:30</td>\n",
       "      <td>UTC+5.5</td>\n",
       "      <td>INR</td>\n",
       "      <td>0.5556</td>\n",
       "    </tr>\n",
       "    <tr>\n",
       "      <th>5</th>\n",
       "      <td>AWL.BSE</td>\n",
       "      <td>Adani Wilmar Ltd</td>\n",
       "      <td>Equity</td>\n",
       "      <td>India/Bombay</td>\n",
       "      <td>09:15</td>\n",
       "      <td>15:30</td>\n",
       "      <td>UTC+5.5</td>\n",
       "      <td>INR</td>\n",
       "      <td>0.4762</td>\n",
       "    </tr>\n",
       "    <tr>\n",
       "      <th>6</th>\n",
       "      <td>ATGL.BSE</td>\n",
       "      <td>Adani Total Gas Ltd</td>\n",
       "      <td>Equity</td>\n",
       "      <td>India/Bombay</td>\n",
       "      <td>09:15</td>\n",
       "      <td>15:30</td>\n",
       "      <td>UTC+5.5</td>\n",
       "      <td>INR</td>\n",
       "      <td>0.4167</td>\n",
       "    </tr>\n",
       "    <tr>\n",
       "      <th>7</th>\n",
       "      <td>541450.BSE</td>\n",
       "      <td>Adani Green Energy Limited</td>\n",
       "      <td>Equity</td>\n",
       "      <td>India/Bombay</td>\n",
       "      <td>09:15</td>\n",
       "      <td>15:30</td>\n",
       "      <td>UTC+5.5</td>\n",
       "      <td>INR</td>\n",
       "      <td>0.3226</td>\n",
       "    </tr>\n",
       "    <tr>\n",
       "      <th>8</th>\n",
       "      <td>532921.BSE</td>\n",
       "      <td>Adani Ports and Special Economic Zone Limited</td>\n",
       "      <td>Equity</td>\n",
       "      <td>India/Bombay</td>\n",
       "      <td>09:15</td>\n",
       "      <td>15:30</td>\n",
       "      <td>UTC+5.5</td>\n",
       "      <td>INR</td>\n",
       "      <td>0.2000</td>\n",
       "    </tr>\n",
       "  </tbody>\n",
       "</table>\n",
       "</div>"
      ],
      "text/plain": [
       "        1. symbol                                        2. name 3. type  \\\n",
       "0    ADANIENT.BSE                      Adani Enterprises Limited  Equity   \n",
       "1  ADANIENSOL.BSE                 Adani Energy Solutions Limited  Equity   \n",
       "2  ADANIGREEN.BSE                         Adani Green Energy Ltd  Equity   \n",
       "3  ADANIPORTS.BSE     ADANI PORTS AND SPECIAL ECONOMIC ZONE LTD.  Equity   \n",
       "4  ADANIPOWER.BSE                            Adani Power Limited  Equity   \n",
       "5         AWL.BSE                               Adani Wilmar Ltd  Equity   \n",
       "6        ATGL.BSE                            Adani Total Gas Ltd  Equity   \n",
       "7      541450.BSE                     Adani Green Energy Limited  Equity   \n",
       "8      532921.BSE  Adani Ports and Special Economic Zone Limited  Equity   \n",
       "\n",
       "      4. region 5. marketOpen 6. marketClose 7. timezone 8. currency  \\\n",
       "0  India/Bombay         09:15          15:30     UTC+5.5         INR   \n",
       "1  India/Bombay         09:15          15:30     UTC+5.5         INR   \n",
       "2  India/Bombay         09:15          15:30     UTC+5.5         INR   \n",
       "3  India/Bombay         09:15          15:30     UTC+5.5         INR   \n",
       "4  India/Bombay         09:15          15:30     UTC+5.5         INR   \n",
       "5  India/Bombay         09:15          15:30     UTC+5.5         INR   \n",
       "6  India/Bombay         09:15          15:30     UTC+5.5         INR   \n",
       "7  India/Bombay         09:15          15:30     UTC+5.5         INR   \n",
       "8  India/Bombay         09:15          15:30     UTC+5.5         INR   \n",
       "\n",
       "  9. matchScore  \n",
       "0        0.6250  \n",
       "1        0.5556  \n",
       "2        0.5556  \n",
       "3        0.5556  \n",
       "4        0.5556  \n",
       "5        0.4762  \n",
       "6        0.4167  \n",
       "7        0.3226  \n",
       "8        0.2000  "
      ]
     },
     "execution_count": 32,
     "metadata": {},
     "output_type": "execute_result"
    }
   ],
   "source": [
    "client.get_stock_symbol(company= \"Adani\")"
   ]
  },
  {
   "cell_type": "code",
   "execution_count": 33,
   "metadata": {},
   "outputs": [
    {
     "data": {
      "text/html": [
       "<div>\n",
       "<style scoped>\n",
       "    .dataframe tbody tr th:only-of-type {\n",
       "        vertical-align: middle;\n",
       "    }\n",
       "\n",
       "    .dataframe tbody tr th {\n",
       "        vertical-align: top;\n",
       "    }\n",
       "\n",
       "    .dataframe thead th {\n",
       "        text-align: right;\n",
       "    }\n",
       "</style>\n",
       "<table border=\"1\" class=\"dataframe\">\n",
       "  <thead>\n",
       "    <tr style=\"text-align: right;\">\n",
       "      <th></th>\n",
       "      <th>1. open</th>\n",
       "      <th>2. high</th>\n",
       "      <th>3. low</th>\n",
       "      <th>4. close</th>\n",
       "      <th>5. volume</th>\n",
       "    </tr>\n",
       "  </thead>\n",
       "  <tbody>\n",
       "    <tr>\n",
       "      <th>2024-11-13</th>\n",
       "      <td>558.05</td>\n",
       "      <td>598.00</td>\n",
       "      <td>541.50</td>\n",
       "      <td>547.55</td>\n",
       "      <td>633607.0</td>\n",
       "    </tr>\n",
       "    <tr>\n",
       "      <th>2024-11-12</th>\n",
       "      <td>583.85</td>\n",
       "      <td>587.00</td>\n",
       "      <td>555.00</td>\n",
       "      <td>557.80</td>\n",
       "      <td>125483.0</td>\n",
       "    </tr>\n",
       "    <tr>\n",
       "      <th>2024-11-11</th>\n",
       "      <td>583.90</td>\n",
       "      <td>587.20</td>\n",
       "      <td>578.00</td>\n",
       "      <td>578.85</td>\n",
       "      <td>102354.0</td>\n",
       "    </tr>\n",
       "    <tr>\n",
       "      <th>2024-11-08</th>\n",
       "      <td>599.75</td>\n",
       "      <td>599.75</td>\n",
       "      <td>586.85</td>\n",
       "      <td>588.65</td>\n",
       "      <td>77865.0</td>\n",
       "    </tr>\n",
       "    <tr>\n",
       "      <th>2024-11-07</th>\n",
       "      <td>618.80</td>\n",
       "      <td>618.80</td>\n",
       "      <td>597.00</td>\n",
       "      <td>599.60</td>\n",
       "      <td>220906.0</td>\n",
       "    </tr>\n",
       "    <tr>\n",
       "      <th>...</th>\n",
       "      <td>...</td>\n",
       "      <td>...</td>\n",
       "      <td>...</td>\n",
       "      <td>...</td>\n",
       "      <td>...</td>\n",
       "    </tr>\n",
       "    <tr>\n",
       "      <th>2024-06-28</th>\n",
       "      <td>717.95</td>\n",
       "      <td>728.00</td>\n",
       "      <td>715.05</td>\n",
       "      <td>718.20</td>\n",
       "      <td>200771.0</td>\n",
       "    </tr>\n",
       "    <tr>\n",
       "      <th>2024-06-27</th>\n",
       "      <td>720.75</td>\n",
       "      <td>728.00</td>\n",
       "      <td>710.15</td>\n",
       "      <td>715.30</td>\n",
       "      <td>365709.0</td>\n",
       "    </tr>\n",
       "    <tr>\n",
       "      <th>2024-06-26</th>\n",
       "      <td>725.00</td>\n",
       "      <td>730.00</td>\n",
       "      <td>719.00</td>\n",
       "      <td>720.00</td>\n",
       "      <td>307383.0</td>\n",
       "    </tr>\n",
       "    <tr>\n",
       "      <th>2024-06-25</th>\n",
       "      <td>738.05</td>\n",
       "      <td>744.30</td>\n",
       "      <td>724.00</td>\n",
       "      <td>725.55</td>\n",
       "      <td>129773.0</td>\n",
       "    </tr>\n",
       "    <tr>\n",
       "      <th>2024-06-24</th>\n",
       "      <td>729.75</td>\n",
       "      <td>745.00</td>\n",
       "      <td>720.15</td>\n",
       "      <td>737.95</td>\n",
       "      <td>166841.0</td>\n",
       "    </tr>\n",
       "  </tbody>\n",
       "</table>\n",
       "<p>100 rows × 5 columns</p>\n",
       "</div>"
      ],
      "text/plain": [
       "            1. open  2. high  3. low  4. close  5. volume\n",
       "2024-11-13   558.05   598.00  541.50    547.55   633607.0\n",
       "2024-11-12   583.85   587.00  555.00    557.80   125483.0\n",
       "2024-11-11   583.90   587.20  578.00    578.85   102354.0\n",
       "2024-11-08   599.75   599.75  586.85    588.65    77865.0\n",
       "2024-11-07   618.80   618.80  597.00    599.60   220906.0\n",
       "...             ...      ...     ...       ...        ...\n",
       "2024-06-28   717.95   728.00  715.05    718.20   200771.0\n",
       "2024-06-27   720.75   728.00  710.15    715.30   365709.0\n",
       "2024-06-26   725.00   730.00  719.00    720.00   307383.0\n",
       "2024-06-25   738.05   744.30  724.00    725.55   129773.0\n",
       "2024-06-24   729.75   745.00  720.15    737.95   166841.0\n",
       "\n",
       "[100 rows x 5 columns]"
      ]
     },
     "execution_count": 33,
     "metadata": {},
     "output_type": "execute_result"
    }
   ],
   "source": [
    "prices2 = client.stock_prices(symbol= \"ADANIPOWER.BSE\")\n",
    "prices2"
   ]
  },
  {
   "cell_type": "code",
   "execution_count": 34,
   "metadata": {},
   "outputs": [],
   "source": [
    "prices2.to_csv(\"AdaniPower.csv\")"
   ]
  },
  {
   "cell_type": "code",
   "execution_count": 35,
   "metadata": {},
   "outputs": [
    {
     "data": {
      "application/vnd.plotly.v1+json": {
       "config": {
        "plotlyServerURL": "https://plot.ly"
       },
       "data": [
        {
         "close": [
          547.55,
          557.8,
          578.85,
          588.65,
          599.6,
          616.35,
          603.35,
          584.8,
          596.95,
          592.85,
          591.45,
          591.8,
          599,
          592.35,
          604.6,
          586.25,
          587.8,
          603.65,
          611.45,
          609.15,
          625.55,
          633.4,
          634.35,
          641.75,
          645,
          634.15,
          640.65,
          625.3,
          642,
          645.5,
          653.4,
          656.05,
          654.3,
          665.4,
          667.3,
          676.05,
          671.75,
          665.1,
          649.8,
          651.3,
          666.2,
          666,
          633.55,
          651.35,
          626.8,
          637.2,
          635.5,
          635.05,
          643.9,
          650.7,
          658.55,
          670.45,
          631.95,
          644.15,
          641.45,
          654.15,
          661.4,
          675.85,
          673.85,
          694.95,
          694.8,
          696.65,
          697.3,
          673.95,
          689.15,
          690.55,
          695.1,
          691.05,
          690.9,
          687.25,
          690.8,
          726.4,
          737.75,
          734.5,
          729.15,
          716.75,
          713.05,
          694.9,
          694.75,
          696.95,
          696.15,
          694.25,
          699.35,
          712.15,
          708.7,
          710.05,
          721.2,
          727.35,
          725.35,
          697.95,
          708.85,
          712.3,
          715,
          710.8,
          717.8,
          718.2,
          715.3,
          720,
          725.55,
          737.95
         ],
         "high": [
          598,
          587,
          587.2,
          599.75,
          618.8,
          626.85,
          607.5,
          597.1,
          599.6,
          609.1,
          599.5,
          596.25,
          607,
          612.5,
          612,
          595.95,
          607.75,
          620.05,
          613.95,
          628,
          635.75,
          640.55,
          645.65,
          645,
          648,
          648.9,
          646.1,
          645,
          647.8,
          652.35,
          660.6,
          662.35,
          674,
          668.55,
          676.8,
          680,
          674.5,
          669.95,
          658.25,
          668.1,
          673.95,
          681.3,
          647.65,
          654.6,
          640,
          645.95,
          644.75,
          648,
          655.75,
          659,
          672,
          684.9,
          649.95,
          649.65,
          658.7,
          671.75,
          678.85,
          689,
          697.95,
          701,
          701.95,
          706.5,
          700.7,
          690,
          702.6,
          695.1,
          703.25,
          700,
          703.4,
          706.95,
          719.5,
          740.5,
          752.15,
          748.85,
          734.9,
          724.85,
          727.9,
          709.2,
          709.25,
          728.7,
          710,
          702.45,
          714.4,
          731,
          714.55,
          726,
          732.2,
          737.85,
          745,
          712,
          714.7,
          718.5,
          721.85,
          733,
          722.75,
          728,
          728,
          730,
          744.3,
          745
         ],
         "low": [
          541.5,
          555,
          578,
          586.85,
          597,
          605.7,
          581,
          582.5,
          592.15,
          589.9,
          584.45,
          578.05,
          572.6,
          584.75,
          586,
          578.75,
          584.05,
          601,
          595,
          607.65,
          621.85,
          632,
          631.25,
          637.25,
          631.05,
          632,
          613.75,
          614,
          635,
          631.2,
          651.8,
          648.5,
          647,
          660,
          660.7,
          667.25,
          661,
          648.65,
          637.05,
          650,
          652.3,
          650.15,
          630.45,
          623.25,
          625,
          633.75,
          621.2,
          631.35,
          640.95,
          649.15,
          656.4,
          628,
          629.3,
          629,
          638.6,
          651.6,
          660,
          674,
          671.05,
          690.65,
          692.1,
          693.25,
          671.3,
          671.4,
          686,
          619,
          692,
          686.1,
          688.25,
          682.5,
          685.2,
          721,
          715.3,
          713,
          717,
          715.1,
          699.4,
          686.15,
          692.95,
          646.25,
          682.5,
          690,
          696.35,
          709,
          705.25,
          708,
          716,
          714.2,
          696,
          693.05,
          706.75,
          710.5,
          711.15,
          708.45,
          712.7,
          715.05,
          710.15,
          719,
          724,
          720.15
         ],
         "open": [
          558.05,
          583.85,
          583.9,
          599.75,
          618.8,
          605.85,
          583.85,
          597.1,
          595.5,
          599.05,
          594,
          578.05,
          585.65,
          605.1,
          587.05,
          588.15,
          603.05,
          611.55,
          609.85,
          625.55,
          632.95,
          638.05,
          642,
          645,
          642.75,
          648.2,
          625.3,
          641.05,
          635.05,
          648.95,
          653.25,
          654.3,
          664.2,
          666.15,
          668.05,
          671.75,
          665.3,
          652.4,
          656.95,
          664.95,
          666,
          660.95,
          647.65,
          635.7,
          637,
          641.35,
          638.7,
          644.95,
          651.75,
          655.95,
          670,
          639.65,
          646.65,
          641.4,
          658.25,
          665,
          675.8,
          685.5,
          692.05,
          690.65,
          699,
          699,
          683.75,
          688.25,
          691.25,
          660.05,
          698.45,
          694.8,
          700,
          692.15,
          685.2,
          729.75,
          719.5,
          734.7,
          721.35,
          719.7,
          704.95,
          692.05,
          697,
          704,
          693.75,
          700,
          714.4,
          710.05,
          714.55,
          722,
          730.75,
          734,
          697.05,
          707.15,
          710.95,
          715.35,
          711.55,
          716.05,
          718.6,
          717.95,
          720.75,
          725,
          738.05,
          729.75
         ],
         "type": "candlestick",
         "x": [
          "2024-11-13T00:00:00",
          "2024-11-12T00:00:00",
          "2024-11-11T00:00:00",
          "2024-11-08T00:00:00",
          "2024-11-07T00:00:00",
          "2024-11-06T00:00:00",
          "2024-11-05T00:00:00",
          "2024-11-04T00:00:00",
          "2024-11-01T00:00:00",
          "2024-10-31T00:00:00",
          "2024-10-30T00:00:00",
          "2024-10-29T00:00:00",
          "2024-10-28T00:00:00",
          "2024-10-25T00:00:00",
          "2024-10-24T00:00:00",
          "2024-10-23T00:00:00",
          "2024-10-22T00:00:00",
          "2024-10-21T00:00:00",
          "2024-10-18T00:00:00",
          "2024-10-17T00:00:00",
          "2024-10-16T00:00:00",
          "2024-10-15T00:00:00",
          "2024-10-14T00:00:00",
          "2024-10-11T00:00:00",
          "2024-10-10T00:00:00",
          "2024-10-09T00:00:00",
          "2024-10-08T00:00:00",
          "2024-10-07T00:00:00",
          "2024-10-04T00:00:00",
          "2024-10-03T00:00:00",
          "2024-10-01T00:00:00",
          "2024-09-30T00:00:00",
          "2024-09-27T00:00:00",
          "2024-09-26T00:00:00",
          "2024-09-25T00:00:00",
          "2024-09-24T00:00:00",
          "2024-09-23T00:00:00",
          "2024-09-20T00:00:00",
          "2024-09-19T00:00:00",
          "2024-09-18T00:00:00",
          "2024-09-17T00:00:00",
          "2024-09-16T00:00:00",
          "2024-09-13T00:00:00",
          "2024-09-12T00:00:00",
          "2024-09-11T00:00:00",
          "2024-09-10T00:00:00",
          "2024-09-09T00:00:00",
          "2024-09-06T00:00:00",
          "2024-09-05T00:00:00",
          "2024-09-04T00:00:00",
          "2024-09-03T00:00:00",
          "2024-09-02T00:00:00",
          "2024-08-30T00:00:00",
          "2024-08-29T00:00:00",
          "2024-08-28T00:00:00",
          "2024-08-27T00:00:00",
          "2024-08-26T00:00:00",
          "2024-08-23T00:00:00",
          "2024-08-22T00:00:00",
          "2024-08-21T00:00:00",
          "2024-08-20T00:00:00",
          "2024-08-19T00:00:00",
          "2024-08-16T00:00:00",
          "2024-08-14T00:00:00",
          "2024-08-13T00:00:00",
          "2024-08-12T00:00:00",
          "2024-08-09T00:00:00",
          "2024-08-08T00:00:00",
          "2024-08-07T00:00:00",
          "2024-08-06T00:00:00",
          "2024-08-05T00:00:00",
          "2024-08-02T00:00:00",
          "2024-08-01T00:00:00",
          "2024-07-31T00:00:00",
          "2024-07-30T00:00:00",
          "2024-07-29T00:00:00",
          "2024-07-26T00:00:00",
          "2024-07-25T00:00:00",
          "2024-07-24T00:00:00",
          "2024-07-23T00:00:00",
          "2024-07-22T00:00:00",
          "2024-07-19T00:00:00",
          "2024-07-18T00:00:00",
          "2024-07-16T00:00:00",
          "2024-07-15T00:00:00",
          "2024-07-12T00:00:00",
          "2024-07-11T00:00:00",
          "2024-07-10T00:00:00",
          "2024-07-09T00:00:00",
          "2024-07-08T00:00:00",
          "2024-07-05T00:00:00",
          "2024-07-04T00:00:00",
          "2024-07-03T00:00:00",
          "2024-07-02T00:00:00",
          "2024-07-01T00:00:00",
          "2024-06-28T00:00:00",
          "2024-06-27T00:00:00",
          "2024-06-26T00:00:00",
          "2024-06-25T00:00:00",
          "2024-06-24T00:00:00"
         ]
        }
       ],
       "layout": {
        "height": 800,
        "template": {
         "data": {
          "bar": [
           {
            "error_x": {
             "color": "#2a3f5f"
            },
            "error_y": {
             "color": "#2a3f5f"
            },
            "marker": {
             "line": {
              "color": "#E5ECF6",
              "width": 0.5
             },
             "pattern": {
              "fillmode": "overlay",
              "size": 10,
              "solidity": 0.2
             }
            },
            "type": "bar"
           }
          ],
          "barpolar": [
           {
            "marker": {
             "line": {
              "color": "#E5ECF6",
              "width": 0.5
             },
             "pattern": {
              "fillmode": "overlay",
              "size": 10,
              "solidity": 0.2
             }
            },
            "type": "barpolar"
           }
          ],
          "carpet": [
           {
            "aaxis": {
             "endlinecolor": "#2a3f5f",
             "gridcolor": "white",
             "linecolor": "white",
             "minorgridcolor": "white",
             "startlinecolor": "#2a3f5f"
            },
            "baxis": {
             "endlinecolor": "#2a3f5f",
             "gridcolor": "white",
             "linecolor": "white",
             "minorgridcolor": "white",
             "startlinecolor": "#2a3f5f"
            },
            "type": "carpet"
           }
          ],
          "choropleth": [
           {
            "colorbar": {
             "outlinewidth": 0,
             "ticks": ""
            },
            "type": "choropleth"
           }
          ],
          "contour": [
           {
            "colorbar": {
             "outlinewidth": 0,
             "ticks": ""
            },
            "colorscale": [
             [
              0,
              "#0d0887"
             ],
             [
              0.1111111111111111,
              "#46039f"
             ],
             [
              0.2222222222222222,
              "#7201a8"
             ],
             [
              0.3333333333333333,
              "#9c179e"
             ],
             [
              0.4444444444444444,
              "#bd3786"
             ],
             [
              0.5555555555555556,
              "#d8576b"
             ],
             [
              0.6666666666666666,
              "#ed7953"
             ],
             [
              0.7777777777777778,
              "#fb9f3a"
             ],
             [
              0.8888888888888888,
              "#fdca26"
             ],
             [
              1,
              "#f0f921"
             ]
            ],
            "type": "contour"
           }
          ],
          "contourcarpet": [
           {
            "colorbar": {
             "outlinewidth": 0,
             "ticks": ""
            },
            "type": "contourcarpet"
           }
          ],
          "heatmap": [
           {
            "colorbar": {
             "outlinewidth": 0,
             "ticks": ""
            },
            "colorscale": [
             [
              0,
              "#0d0887"
             ],
             [
              0.1111111111111111,
              "#46039f"
             ],
             [
              0.2222222222222222,
              "#7201a8"
             ],
             [
              0.3333333333333333,
              "#9c179e"
             ],
             [
              0.4444444444444444,
              "#bd3786"
             ],
             [
              0.5555555555555556,
              "#d8576b"
             ],
             [
              0.6666666666666666,
              "#ed7953"
             ],
             [
              0.7777777777777778,
              "#fb9f3a"
             ],
             [
              0.8888888888888888,
              "#fdca26"
             ],
             [
              1,
              "#f0f921"
             ]
            ],
            "type": "heatmap"
           }
          ],
          "heatmapgl": [
           {
            "colorbar": {
             "outlinewidth": 0,
             "ticks": ""
            },
            "colorscale": [
             [
              0,
              "#0d0887"
             ],
             [
              0.1111111111111111,
              "#46039f"
             ],
             [
              0.2222222222222222,
              "#7201a8"
             ],
             [
              0.3333333333333333,
              "#9c179e"
             ],
             [
              0.4444444444444444,
              "#bd3786"
             ],
             [
              0.5555555555555556,
              "#d8576b"
             ],
             [
              0.6666666666666666,
              "#ed7953"
             ],
             [
              0.7777777777777778,
              "#fb9f3a"
             ],
             [
              0.8888888888888888,
              "#fdca26"
             ],
             [
              1,
              "#f0f921"
             ]
            ],
            "type": "heatmapgl"
           }
          ],
          "histogram": [
           {
            "marker": {
             "pattern": {
              "fillmode": "overlay",
              "size": 10,
              "solidity": 0.2
             }
            },
            "type": "histogram"
           }
          ],
          "histogram2d": [
           {
            "colorbar": {
             "outlinewidth": 0,
             "ticks": ""
            },
            "colorscale": [
             [
              0,
              "#0d0887"
             ],
             [
              0.1111111111111111,
              "#46039f"
             ],
             [
              0.2222222222222222,
              "#7201a8"
             ],
             [
              0.3333333333333333,
              "#9c179e"
             ],
             [
              0.4444444444444444,
              "#bd3786"
             ],
             [
              0.5555555555555556,
              "#d8576b"
             ],
             [
              0.6666666666666666,
              "#ed7953"
             ],
             [
              0.7777777777777778,
              "#fb9f3a"
             ],
             [
              0.8888888888888888,
              "#fdca26"
             ],
             [
              1,
              "#f0f921"
             ]
            ],
            "type": "histogram2d"
           }
          ],
          "histogram2dcontour": [
           {
            "colorbar": {
             "outlinewidth": 0,
             "ticks": ""
            },
            "colorscale": [
             [
              0,
              "#0d0887"
             ],
             [
              0.1111111111111111,
              "#46039f"
             ],
             [
              0.2222222222222222,
              "#7201a8"
             ],
             [
              0.3333333333333333,
              "#9c179e"
             ],
             [
              0.4444444444444444,
              "#bd3786"
             ],
             [
              0.5555555555555556,
              "#d8576b"
             ],
             [
              0.6666666666666666,
              "#ed7953"
             ],
             [
              0.7777777777777778,
              "#fb9f3a"
             ],
             [
              0.8888888888888888,
              "#fdca26"
             ],
             [
              1,
              "#f0f921"
             ]
            ],
            "type": "histogram2dcontour"
           }
          ],
          "mesh3d": [
           {
            "colorbar": {
             "outlinewidth": 0,
             "ticks": ""
            },
            "type": "mesh3d"
           }
          ],
          "parcoords": [
           {
            "line": {
             "colorbar": {
              "outlinewidth": 0,
              "ticks": ""
             }
            },
            "type": "parcoords"
           }
          ],
          "pie": [
           {
            "automargin": true,
            "type": "pie"
           }
          ],
          "scatter": [
           {
            "fillpattern": {
             "fillmode": "overlay",
             "size": 10,
             "solidity": 0.2
            },
            "type": "scatter"
           }
          ],
          "scatter3d": [
           {
            "line": {
             "colorbar": {
              "outlinewidth": 0,
              "ticks": ""
             }
            },
            "marker": {
             "colorbar": {
              "outlinewidth": 0,
              "ticks": ""
             }
            },
            "type": "scatter3d"
           }
          ],
          "scattercarpet": [
           {
            "marker": {
             "colorbar": {
              "outlinewidth": 0,
              "ticks": ""
             }
            },
            "type": "scattercarpet"
           }
          ],
          "scattergeo": [
           {
            "marker": {
             "colorbar": {
              "outlinewidth": 0,
              "ticks": ""
             }
            },
            "type": "scattergeo"
           }
          ],
          "scattergl": [
           {
            "marker": {
             "colorbar": {
              "outlinewidth": 0,
              "ticks": ""
             }
            },
            "type": "scattergl"
           }
          ],
          "scattermapbox": [
           {
            "marker": {
             "colorbar": {
              "outlinewidth": 0,
              "ticks": ""
             }
            },
            "type": "scattermapbox"
           }
          ],
          "scatterpolar": [
           {
            "marker": {
             "colorbar": {
              "outlinewidth": 0,
              "ticks": ""
             }
            },
            "type": "scatterpolar"
           }
          ],
          "scatterpolargl": [
           {
            "marker": {
             "colorbar": {
              "outlinewidth": 0,
              "ticks": ""
             }
            },
            "type": "scatterpolargl"
           }
          ],
          "scatterternary": [
           {
            "marker": {
             "colorbar": {
              "outlinewidth": 0,
              "ticks": ""
             }
            },
            "type": "scatterternary"
           }
          ],
          "surface": [
           {
            "colorbar": {
             "outlinewidth": 0,
             "ticks": ""
            },
            "colorscale": [
             [
              0,
              "#0d0887"
             ],
             [
              0.1111111111111111,
              "#46039f"
             ],
             [
              0.2222222222222222,
              "#7201a8"
             ],
             [
              0.3333333333333333,
              "#9c179e"
             ],
             [
              0.4444444444444444,
              "#bd3786"
             ],
             [
              0.5555555555555556,
              "#d8576b"
             ],
             [
              0.6666666666666666,
              "#ed7953"
             ],
             [
              0.7777777777777778,
              "#fb9f3a"
             ],
             [
              0.8888888888888888,
              "#fdca26"
             ],
             [
              1,
              "#f0f921"
             ]
            ],
            "type": "surface"
           }
          ],
          "table": [
           {
            "cells": {
             "fill": {
              "color": "#EBF0F8"
             },
             "line": {
              "color": "white"
             }
            },
            "header": {
             "fill": {
              "color": "#C8D4E3"
             },
             "line": {
              "color": "white"
             }
            },
            "type": "table"
           }
          ]
         },
         "layout": {
          "annotationdefaults": {
           "arrowcolor": "#2a3f5f",
           "arrowhead": 0,
           "arrowwidth": 1
          },
          "autotypenumbers": "strict",
          "coloraxis": {
           "colorbar": {
            "outlinewidth": 0,
            "ticks": ""
           }
          },
          "colorscale": {
           "diverging": [
            [
             0,
             "#8e0152"
            ],
            [
             0.1,
             "#c51b7d"
            ],
            [
             0.2,
             "#de77ae"
            ],
            [
             0.3,
             "#f1b6da"
            ],
            [
             0.4,
             "#fde0ef"
            ],
            [
             0.5,
             "#f7f7f7"
            ],
            [
             0.6,
             "#e6f5d0"
            ],
            [
             0.7,
             "#b8e186"
            ],
            [
             0.8,
             "#7fbc41"
            ],
            [
             0.9,
             "#4d9221"
            ],
            [
             1,
             "#276419"
            ]
           ],
           "sequential": [
            [
             0,
             "#0d0887"
            ],
            [
             0.1111111111111111,
             "#46039f"
            ],
            [
             0.2222222222222222,
             "#7201a8"
            ],
            [
             0.3333333333333333,
             "#9c179e"
            ],
            [
             0.4444444444444444,
             "#bd3786"
            ],
            [
             0.5555555555555556,
             "#d8576b"
            ],
            [
             0.6666666666666666,
             "#ed7953"
            ],
            [
             0.7777777777777778,
             "#fb9f3a"
            ],
            [
             0.8888888888888888,
             "#fdca26"
            ],
            [
             1,
             "#f0f921"
            ]
           ],
           "sequentialminus": [
            [
             0,
             "#0d0887"
            ],
            [
             0.1111111111111111,
             "#46039f"
            ],
            [
             0.2222222222222222,
             "#7201a8"
            ],
            [
             0.3333333333333333,
             "#9c179e"
            ],
            [
             0.4444444444444444,
             "#bd3786"
            ],
            [
             0.5555555555555556,
             "#d8576b"
            ],
            [
             0.6666666666666666,
             "#ed7953"
            ],
            [
             0.7777777777777778,
             "#fb9f3a"
            ],
            [
             0.8888888888888888,
             "#fdca26"
            ],
            [
             1,
             "#f0f921"
            ]
           ]
          },
          "colorway": [
           "#636efa",
           "#EF553B",
           "#00cc96",
           "#ab63fa",
           "#FFA15A",
           "#19d3f3",
           "#FF6692",
           "#B6E880",
           "#FF97FF",
           "#FECB52"
          ],
          "font": {
           "color": "#2a3f5f"
          },
          "geo": {
           "bgcolor": "white",
           "lakecolor": "white",
           "landcolor": "#E5ECF6",
           "showlakes": true,
           "showland": true,
           "subunitcolor": "white"
          },
          "hoverlabel": {
           "align": "left"
          },
          "hovermode": "closest",
          "mapbox": {
           "style": "light"
          },
          "paper_bgcolor": "white",
          "plot_bgcolor": "#E5ECF6",
          "polar": {
           "angularaxis": {
            "gridcolor": "white",
            "linecolor": "white",
            "ticks": ""
           },
           "bgcolor": "#E5ECF6",
           "radialaxis": {
            "gridcolor": "white",
            "linecolor": "white",
            "ticks": ""
           }
          },
          "scene": {
           "xaxis": {
            "backgroundcolor": "#E5ECF6",
            "gridcolor": "white",
            "gridwidth": 2,
            "linecolor": "white",
            "showbackground": true,
            "ticks": "",
            "zerolinecolor": "white"
           },
           "yaxis": {
            "backgroundcolor": "#E5ECF6",
            "gridcolor": "white",
            "gridwidth": 2,
            "linecolor": "white",
            "showbackground": true,
            "ticks": "",
            "zerolinecolor": "white"
           },
           "zaxis": {
            "backgroundcolor": "#E5ECF6",
            "gridcolor": "white",
            "gridwidth": 2,
            "linecolor": "white",
            "showbackground": true,
            "ticks": "",
            "zerolinecolor": "white"
           }
          },
          "shapedefaults": {
           "line": {
            "color": "#2a3f5f"
           }
          },
          "ternary": {
           "aaxis": {
            "gridcolor": "white",
            "linecolor": "white",
            "ticks": ""
           },
           "baxis": {
            "gridcolor": "white",
            "linecolor": "white",
            "ticks": ""
           },
           "bgcolor": "#E5ECF6",
           "caxis": {
            "gridcolor": "white",
            "linecolor": "white",
            "ticks": ""
           }
          },
          "title": {
           "x": 0.05
          },
          "xaxis": {
           "automargin": true,
           "gridcolor": "white",
           "linecolor": "white",
           "ticks": "",
           "title": {
            "standoff": 15
           },
           "zerolinecolor": "white",
           "zerolinewidth": 2
          },
          "yaxis": {
           "automargin": true,
           "gridcolor": "white",
           "linecolor": "white",
           "ticks": "",
           "title": {
            "standoff": 15
           },
           "zerolinecolor": "white",
           "zerolinewidth": 2
          }
         }
        },
        "width": 1200
       }
      }
     },
     "metadata": {},
     "output_type": "display_data"
    }
   ],
   "source": [
    "client.candlestick_chart(prices= prices2)"
   ]
  }
 ],
 "metadata": {
  "kernelspec": {
   "display_name": "venv",
   "language": "python",
   "name": "python3"
  },
  "language_info": {
   "codemirror_mode": {
    "name": "ipython",
    "version": 3
   },
   "file_extension": ".py",
   "mimetype": "text/x-python",
   "name": "python",
   "nbconvert_exporter": "python",
   "pygments_lexer": "ipython3",
   "version": "3.12.1"
  }
 },
 "nbformat": 4,
 "nbformat_minor": 2
}
