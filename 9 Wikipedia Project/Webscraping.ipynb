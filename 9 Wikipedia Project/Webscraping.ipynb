{
 "cells": [
  {
   "cell_type": "markdown",
   "metadata": {},
   "source": [
    "# Wikipedia Webscraping\n",
    "Goal - You should be able to collect any data from any given Wikipedia URL"
   ]
  },
  {
   "cell_type": "code",
   "execution_count": 1,
   "metadata": {},
   "outputs": [
    {
     "name": "stdout",
     "output_type": "stream",
     "text": [
      "Requirement already satisfied: beautifulsoup4 in c:\\adv python 8-10pm thu fri\\repository\\venv\\lib\\site-packages (4.12.3)\n",
      "Requirement already satisfied: requests in c:\\adv python 8-10pm thu fri\\repository\\venv\\lib\\site-packages (2.32.3)\n",
      "Requirement already satisfied: pydantic in c:\\adv python 8-10pm thu fri\\repository\\venv\\lib\\site-packages (2.9.2)\n",
      "Requirement already satisfied: lxml in c:\\adv python 8-10pm thu fri\\repository\\venv\\lib\\site-packages (5.3.0)\n",
      "Requirement already satisfied: soupsieve>1.2 in c:\\adv python 8-10pm thu fri\\repository\\venv\\lib\\site-packages (from beautifulsoup4) (2.6)\n",
      "Requirement already satisfied: charset-normalizer<4,>=2 in c:\\adv python 8-10pm thu fri\\repository\\venv\\lib\\site-packages (from requests) (3.3.2)\n",
      "Requirement already satisfied: idna<4,>=2.5 in c:\\adv python 8-10pm thu fri\\repository\\venv\\lib\\site-packages (from requests) (3.10)\n",
      "Requirement already satisfied: urllib3<3,>=1.21.1 in c:\\adv python 8-10pm thu fri\\repository\\venv\\lib\\site-packages (from requests) (2.2.3)\n",
      "Requirement already satisfied: certifi>=2017.4.17 in c:\\adv python 8-10pm thu fri\\repository\\venv\\lib\\site-packages (from requests) (2024.8.30)\n",
      "Requirement already satisfied: annotated-types>=0.6.0 in c:\\adv python 8-10pm thu fri\\repository\\venv\\lib\\site-packages (from pydantic) (0.7.0)\n",
      "Requirement already satisfied: pydantic-core==2.23.4 in c:\\adv python 8-10pm thu fri\\repository\\venv\\lib\\site-packages (from pydantic) (2.23.4)\n",
      "Requirement already satisfied: typing-extensions>=4.6.1 in c:\\adv python 8-10pm thu fri\\repository\\venv\\lib\\site-packages (from pydantic) (4.12.2)\n",
      "Note: you may need to restart the kernel to use updated packages.\n"
     ]
    },
    {
     "name": "stderr",
     "output_type": "stream",
     "text": [
      "\n",
      "[notice] A new release of pip is available: 24.2 -> 24.3.1\n",
      "[notice] To update, run: python.exe -m pip install --upgrade pip\n"
     ]
    }
   ],
   "source": [
    "%pip install beautifulsoup4 requests pydantic lxml"
   ]
  },
  {
   "cell_type": "code",
   "execution_count": 14,
   "metadata": {},
   "outputs": [],
   "source": [
    "from warnings import filterwarnings\n",
    "filterwarnings(\"ignore\")"
   ]
  },
  {
   "cell_type": "markdown",
   "metadata": {},
   "source": [
    "### How to do Webscraping"
   ]
  },
  {
   "cell_type": "code",
   "execution_count": 3,
   "metadata": {},
   "outputs": [
    {
     "name": "stdout",
     "output_type": "stream",
     "text": [
      "https://en.wikipedia.org/wiki/World_population\n"
     ]
    }
   ],
   "source": [
    "url1 = \"https://en.wikipedia.org/wiki/World_population\"\n",
    "print(url1)"
   ]
  },
  {
   "cell_type": "code",
   "execution_count": 4,
   "metadata": {},
   "outputs": [
    {
     "data": {
      "text/plain": [
       "<Response [200]>"
      ]
     },
     "execution_count": 4,
     "metadata": {},
     "output_type": "execute_result"
    }
   ],
   "source": [
    "import requests\n",
    "response = requests.get(url1)\n",
    "response"
   ]
  },
  {
   "cell_type": "code",
   "execution_count": 5,
   "metadata": {},
   "outputs": [
    {
     "data": {
      "text/plain": [
       "b'<!DOCTYPE html>\\n<html class=\"client-nojs vector-feature-language-in-header-enabled vector-feature-la'"
      ]
     },
     "execution_count": 5,
     "metadata": {},
     "output_type": "execute_result"
    }
   ],
   "source": [
    "response.content[0:100]"
   ]
  },
  {
   "cell_type": "code",
   "execution_count": 6,
   "metadata": {},
   "outputs": [],
   "source": [
    "# Get beautiful soup to fetch particular content\n",
    "from bs4 import BeautifulSoup\n",
    "soup = BeautifulSoup(response.content)"
   ]
  },
  {
   "cell_type": "markdown",
   "metadata": {},
   "source": [
    "### Get the head title for website"
   ]
  },
  {
   "cell_type": "code",
   "execution_count": 7,
   "metadata": {},
   "outputs": [
    {
     "data": {
      "text/plain": [
       "'World population - Wikipedia'"
      ]
     },
     "execution_count": 7,
     "metadata": {},
     "output_type": "execute_result"
    }
   ],
   "source": [
    "soup.title.text"
   ]
  },
  {
   "cell_type": "code",
   "execution_count": 8,
   "metadata": {},
   "outputs": [
    {
     "data": {
      "text/plain": [
       "<h1 class=\"firstHeading mw-first-heading\" id=\"firstHeading\"><span class=\"mw-page-title-main\">World population</span></h1>"
      ]
     },
     "execution_count": 8,
     "metadata": {},
     "output_type": "execute_result"
    }
   ],
   "source": [
    "h1_tag = soup.find(\"h1\")\n",
    "h1_tag"
   ]
  },
  {
   "cell_type": "code",
   "execution_count": 9,
   "metadata": {},
   "outputs": [
    {
     "data": {
      "text/plain": [
       "'World population'"
      ]
     },
     "execution_count": 9,
     "metadata": {},
     "output_type": "execute_result"
    }
   ],
   "source": [
    "h1_tag.text"
   ]
  },
  {
   "cell_type": "code",
   "execution_count": 10,
   "metadata": {},
   "outputs": [
    {
     "data": {
      "text/plain": [
       "[<h2 class=\"vector-pinnable-header-label\">Contents</h2>,\n",
       " <h2 id=\"History\">History</h2>,\n",
       " <h2 id=\"Global_demographics\">Global demographics</h2>,\n",
       " <h2 id=\"Population_by_region\">Population by region</h2>,\n",
       " <h2 id=\"Largest_populations_by_country\">Largest populations by country</h2>,\n",
       " <h2 id=\"Fluctuation\">Fluctuation</h2>,\n",
       " <h2 id=\"Mathematical_approximations\">Mathematical approximations</h2>,\n",
       " <h2 id=\"Number_of_humans_who_have_ever_lived\">Number of humans who have ever lived</h2>,\n",
       " <h2 id=\"Human_population_as_a_function_of_food_availability\">Human population as a function of food availability</h2>,\n",
       " <h2 id=\"See_also\">See also</h2>,\n",
       " <h2 id=\"Explanatory_notes\">Explanatory notes</h2>,\n",
       " <h2 id=\"References\">References</h2>,\n",
       " <h2 id=\"Further_reading\">Further reading</h2>,\n",
       " <h2 id=\"External_links\">External links</h2>]"
      ]
     },
     "execution_count": 10,
     "metadata": {},
     "output_type": "execute_result"
    }
   ],
   "source": [
    "h2_tags = soup.find_all(\"h2\")\n",
    "h2_tags"
   ]
  },
  {
   "cell_type": "code",
   "execution_count": 11,
   "metadata": {},
   "outputs": [
    {
     "data": {
      "text/plain": [
       "['Contents',\n",
       " 'History',\n",
       " 'Global demographics',\n",
       " 'Population by region',\n",
       " 'Largest populations by country',\n",
       " 'Fluctuation',\n",
       " 'Mathematical approximations',\n",
       " 'Number of humans who have ever lived',\n",
       " 'Human population as a function of food availability',\n",
       " 'See also',\n",
       " 'Explanatory notes',\n",
       " 'References',\n",
       " 'Further reading',\n",
       " 'External links']"
      ]
     },
     "execution_count": 11,
     "metadata": {},
     "output_type": "execute_result"
    }
   ],
   "source": [
    "h2_texts = [tag.text for tag in h2_tags]\n",
    "h2_texts"
   ]
  },
  {
   "cell_type": "code",
   "execution_count": 12,
   "metadata": {},
   "outputs": [
    {
     "data": {
      "text/plain": [
       "[<div class=\"mw-heading mw-heading2\"><h2 id=\"History\">History</h2></div>,\n",
       " <div class=\"mw-heading mw-heading3\"><h3 id=\"Ancient_and_post-classical_history\">Ancient and post-classical history</h3></div>,\n",
       " <div class=\"mw-heading mw-heading3\"><h3 id=\"Modern_history\">Modern history</h3></div>,\n",
       " <div class=\"mw-heading mw-heading3\"><h3 id=\"Milestones_by_the_billions\">Milestones by the billions</h3></div>,\n",
       " <div class=\"mw-heading mw-heading2\"><h2 id=\"Global_demographics\">Global demographics</h2></div>,\n",
       " <div class=\"mw-heading mw-heading2\"><h2 id=\"Population_by_region\">Population by region</h2></div>,\n",
       " <div class=\"mw-heading mw-heading2\"><h2 id=\"Largest_populations_by_country\">Largest populations by country</h2></div>,\n",
       " <div class=\"mw-heading mw-heading3\"><h3 id=\"Ten_most_populous_countries\">Ten most populous countries</h3></div>,\n",
       " <div class=\"mw-heading mw-heading3\"><h3 id=\"Most_densely_populated_countries\">Most densely populated countries</h3></div>,\n",
       " <div class=\"mw-heading mw-heading2\"><h2 id=\"Fluctuation\">Fluctuation</h2></div>,\n",
       " <div class=\"mw-heading mw-heading3\"><h3 id=\"Annual_population_growth\">Annual population growth</h3></div>,\n",
       " <div class=\"mw-heading mw-heading3\"><h3 id=\"Population_growth_by_region\">Population growth by region</h3></div>,\n",
       " <div class=\"mw-heading mw-heading3\"><h3 id=\"Past_population\">Past population</h3></div>,\n",
       " <div class=\"mw-heading mw-heading3\"><h3 id=\"Projections\">Projections</h3></div>,\n",
       " <div class=\"mw-heading mw-heading2\"><h2 id=\"Mathematical_approximations\">Mathematical approximations</h2></div>,\n",
       " <div class=\"mw-heading mw-heading3\"><h3 id=\"Years_for_world_population_to_double\">Years for world population to double</h3></div>,\n",
       " <div class=\"mw-heading mw-heading2\"><h2 id=\"Number_of_humans_who_have_ever_lived\">Number of humans who have ever lived</h2></div>,\n",
       " <div class=\"mw-heading mw-heading2\"><h2 id=\"Human_population_as_a_function_of_food_availability\">Human population as a function of food availability</h2></div>,\n",
       " <div class=\"mw-heading mw-heading2\"><h2 id=\"See_also\">See also</h2></div>,\n",
       " <div class=\"mw-heading mw-heading2\"><h2 id=\"Explanatory_notes\">Explanatory notes</h2></div>,\n",
       " <div class=\"mw-heading mw-heading2\"><h2 id=\"References\">References</h2></div>,\n",
       " <div class=\"mw-heading mw-heading3\"><h3 id=\"Citations\">Citations</h3></div>,\n",
       " <div class=\"mw-heading mw-heading3\"><h3 id=\"General_and_cited_sources\">General and cited sources</h3></div>,\n",
       " <div class=\"mw-heading mw-heading2\"><h2 id=\"Further_reading\">Further reading</h2></div>,\n",
       " <div class=\"mw-heading mw-heading2\"><h2 id=\"External_links\">External links</h2></div>]"
      ]
     },
     "execution_count": 12,
     "metadata": {},
     "output_type": "execute_result"
    }
   ],
   "source": [
    "div_tags = soup.find_all(name=\"div\", class_=\"mw-heading\")\n",
    "div_tags"
   ]
  },
  {
   "cell_type": "code",
   "execution_count": 13,
   "metadata": {},
   "outputs": [
    {
     "data": {
      "text/plain": [
       "['History',\n",
       " 'Ancient and post-classical history',\n",
       " 'Modern history',\n",
       " 'Milestones by the billions',\n",
       " 'Global demographics',\n",
       " 'Population by region',\n",
       " 'Largest populations by country',\n",
       " 'Ten most populous countries',\n",
       " 'Most densely populated countries',\n",
       " 'Fluctuation',\n",
       " 'Annual population growth',\n",
       " 'Population growth by region',\n",
       " 'Past population',\n",
       " 'Projections',\n",
       " 'Mathematical approximations',\n",
       " 'Years for world population to double',\n",
       " 'Number of humans who have ever lived',\n",
       " 'Human population as a function of food availability',\n",
       " 'See also',\n",
       " 'Explanatory notes',\n",
       " 'References',\n",
       " 'Citations',\n",
       " 'General and cited sources',\n",
       " 'Further reading',\n",
       " 'External links']"
      ]
     },
     "execution_count": 13,
     "metadata": {},
     "output_type": "execute_result"
    }
   ],
   "source": [
    "heading_texts = [tag.text for tag in div_tags]\n",
    "heading_texts"
   ]
  },
  {
   "cell_type": "markdown",
   "metadata": {},
   "source": [
    "### Getting images from the website"
   ]
  },
  {
   "cell_type": "code",
   "execution_count": 14,
   "metadata": {},
   "outputs": [
    {
     "data": {
      "text/plain": [
       "[<a class=\"mw-file-description\" href=\"/wiki/File:World_Population_Prospects.svg\"><img class=\"mw-file-element\" data-file-height=\"676\" data-file-width=\"900\" decoding=\"async\" height=\"225\" src=\"//upload.wikimedia.org/wikipedia/commons/thumb/0/0e/World_Population_Prospects.svg/300px-World_Population_Prospects.svg.png\" srcset=\"//upload.wikimedia.org/wikipedia/commons/thumb/0/0e/World_Population_Prospects.svg/450px-World_Population_Prospects.svg.png 1.5x, //upload.wikimedia.org/wikipedia/commons/thumb/0/0e/World_Population_Prospects.svg/600px-World_Population_Prospects.svg.png 2x\" width=\"300\"/></a>,\n",
       " <a class=\"mw-file-description\" href=\"/wiki/File:Illustration_of_contemporary_and_past_human_populations_Our_World_in_Data.png\"><img class=\"mw-file-element\" data-file-height=\"7747\" data-file-width=\"5201\" decoding=\"async\" height=\"328\" src=\"//upload.wikimedia.org/wikipedia/commons/thumb/d/d2/Illustration_of_contemporary_and_past_human_populations_Our_World_in_Data.png/220px-Illustration_of_contemporary_and_past_human_populations_Our_World_in_Data.png\" srcset=\"//upload.wikimedia.org/wikipedia/commons/thumb/d/d2/Illustration_of_contemporary_and_past_human_populations_Our_World_in_Data.png/330px-Illustration_of_contemporary_and_past_human_populations_Our_World_in_Data.png 1.5x, //upload.wikimedia.org/wikipedia/commons/thumb/d/d2/Illustration_of_contemporary_and_past_human_populations_Our_World_in_Data.png/440px-Illustration_of_contemporary_and_past_human_populations_Our_World_in_Data.png 2x\" width=\"220\"/></a>,\n",
       " <a class=\"mw-file-description\" href=\"/wiki/File:2006megacities.svg\"><img class=\"mw-file-element\" data-file-height=\"625\" data-file-width=\"1425\" decoding=\"async\" height=\"154\" src=\"//upload.wikimedia.org/wikipedia/commons/thumb/3/3d/2006megacities.svg/350px-2006megacities.svg.png\" srcset=\"//upload.wikimedia.org/wikipedia/commons/thumb/3/3d/2006megacities.svg/525px-2006megacities.svg.png 1.5x, //upload.wikimedia.org/wikipedia/commons/thumb/3/3d/2006megacities.svg/700px-2006megacities.svg.png 2x\" width=\"350\"/></a>,\n",
       " <a class=\"mw-file-description\" href=\"/wiki/File:Expectancy_of_life.svg\"><img class=\"mw-file-element\" data-file-height=\"1200\" data-file-width=\"2754\" decoding=\"async\" height=\"174\" src=\"//upload.wikimedia.org/wikipedia/commons/thumb/f/fa/Expectancy_of_life.svg/400px-Expectancy_of_life.svg.png\" srcset=\"//upload.wikimedia.org/wikipedia/commons/thumb/f/fa/Expectancy_of_life.svg/600px-Expectancy_of_life.svg.png 1.5x, //upload.wikimedia.org/wikipedia/commons/thumb/f/fa/Expectancy_of_life.svg/800px-Expectancy_of_life.svg.png 2x\" width=\"400\"/></a>,\n",
       " <a class=\"mw-file-description\" href=\"/wiki/File:Population_pyramid_of_the_world_in_continental_groupings_2023.svg\"><img class=\"mw-file-element\" data-file-height=\"2003\" data-file-width=\"2539\" decoding=\"async\" height=\"237\" src=\"//upload.wikimedia.org/wikipedia/commons/thumb/f/fa/Population_pyramid_of_the_world_in_continental_groupings_2023.svg/300px-Population_pyramid_of_the_world_in_continental_groupings_2023.svg.png\" srcset=\"//upload.wikimedia.org/wikipedia/commons/thumb/f/fa/Population_pyramid_of_the_world_in_continental_groupings_2023.svg/450px-Population_pyramid_of_the_world_in_continental_groupings_2023.svg.png 1.5x, //upload.wikimedia.org/wikipedia/commons/thumb/f/fa/Population_pyramid_of_the_world_in_continental_groupings_2023.svg/600px-Population_pyramid_of_the_world_in_continental_groupings_2023.svg.png 2x\" width=\"300\"/></a>,\n",
       " <a class=\"mw-file-description\" href=\"/wiki/File:Global_population_cartogram.png\"><img class=\"mw-file-element\" data-file-height=\"3131\" data-file-width=\"8192\" decoding=\"async\" height=\"115\" src=\"//upload.wikimedia.org/wikipedia/commons/thumb/9/90/Global_population_cartogram.png/300px-Global_population_cartogram.png\" srcset=\"//upload.wikimedia.org/wikipedia/commons/thumb/9/90/Global_population_cartogram.png/450px-Global_population_cartogram.png 1.5x, //upload.wikimedia.org/wikipedia/commons/thumb/9/90/Global_population_cartogram.png/600px-Global_population_cartogram.png 2x\" width=\"300\"/></a>,\n",
       " <a class=\"mw-file-description\" href=\"/wiki/File:People%27s_-Km%C2%B2_for_all_countries_(and_us_states,_uk_kingdoms).png\"><img class=\"mw-file-element\" data-file-height=\"2866\" data-file-width=\"5489\" decoding=\"async\" height=\"157\" src=\"//upload.wikimedia.org/wikipedia/commons/thumb/8/8c/People%27s_-Km%C2%B2_for_all_countries_%28and_us_states%2C_uk_kingdoms%29.png/300px-People%27s_-Km%C2%B2_for_all_countries_%28and_us_states%2C_uk_kingdoms%29.png\" srcset=\"//upload.wikimedia.org/wikipedia/commons/thumb/8/8c/People%27s_-Km%C2%B2_for_all_countries_%28and_us_states%2C_uk_kingdoms%29.png/450px-People%27s_-Km%C2%B2_for_all_countries_%28and_us_states%2C_uk_kingdoms%29.png 1.5x, //upload.wikimedia.org/wikipedia/commons/thumb/8/8c/People%27s_-Km%C2%B2_for_all_countries_%28and_us_states%2C_uk_kingdoms%29.png/600px-People%27s_-Km%C2%B2_for_all_countries_%28and_us_states%2C_uk_kingdoms%29.png 2x\" width=\"300\"/></a>,\n",
       " <a class=\"mw-file-description\" href=\"/wiki/File:Top_5_Country_Population_Graph_1901_to_2021.svg\"><img class=\"mw-file-element\" data-file-height=\"600\" data-file-width=\"850\" decoding=\"async\" height=\"212\" src=\"//upload.wikimedia.org/wikipedia/commons/thumb/f/fa/Top_5_Country_Population_Graph_1901_to_2021.svg/300px-Top_5_Country_Population_Graph_1901_to_2021.svg.png\" srcset=\"//upload.wikimedia.org/wikipedia/commons/thumb/f/fa/Top_5_Country_Population_Graph_1901_to_2021.svg/450px-Top_5_Country_Population_Graph_1901_to_2021.svg.png 1.5x, //upload.wikimedia.org/wikipedia/commons/thumb/f/fa/Top_5_Country_Population_Graph_1901_to_2021.svg/600px-Top_5_Country_Population_Graph_1901_to_2021.svg.png 2x\" width=\"300\"/></a>,\n",
       " <a class=\"mw-file-description\" href=\"/wiki/File:Population_Density,_v4.11,_2020_(48009093621).jpg\"><img class=\"mw-file-element\" data-file-height=\"2231\" data-file-width=\"3053\" decoding=\"async\" height=\"241\" src=\"//upload.wikimedia.org/wikipedia/commons/thumb/2/2e/Population_Density%2C_v4.11%2C_2020_%2848009093621%29.jpg/330px-Population_Density%2C_v4.11%2C_2020_%2848009093621%29.jpg\" srcset=\"//upload.wikimedia.org/wikipedia/commons/thumb/2/2e/Population_Density%2C_v4.11%2C_2020_%2848009093621%29.jpg/495px-Population_Density%2C_v4.11%2C_2020_%2848009093621%29.jpg 1.5x, //upload.wikimedia.org/wikipedia/commons/thumb/2/2e/Population_Density%2C_v4.11%2C_2020_%2848009093621%29.jpg/660px-Population_Density%2C_v4.11%2C_2020_%2848009093621%29.jpg 2x\" width=\"330\"/></a>,\n",
       " <a class=\"mw-file-description\" href=\"/wiki/File:World_population_(UN).svg\"><img class=\"mw-file-element\" data-file-height=\"1020\" data-file-width=\"1150\" decoding=\"async\" height=\"266\" src=\"//upload.wikimedia.org/wikipedia/commons/thumb/1/11/World_population_%28UN%29.svg/300px-World_population_%28UN%29.svg.png\" srcset=\"//upload.wikimedia.org/wikipedia/commons/thumb/1/11/World_population_%28UN%29.svg/450px-World_population_%28UN%29.svg.png 1.5x, //upload.wikimedia.org/wikipedia/commons/thumb/1/11/World_population_%28UN%29.svg/600px-World_population_%28UN%29.svg.png 2x\" width=\"300\"/></a>,\n",
       " <a class=\"mw-file-description\" href=\"/wiki/File:Total_Fertility_Rate_Map_by_Country.svg\"><img class=\"mw-file-element\" data-file-height=\"566\" data-file-width=\"1104\" decoding=\"async\" height=\"154\" src=\"//upload.wikimedia.org/wikipedia/commons/thumb/d/d7/Total_Fertility_Rate_Map_by_Country.svg/300px-Total_Fertility_Rate_Map_by_Country.svg.png\" srcset=\"//upload.wikimedia.org/wikipedia/commons/thumb/d/d7/Total_Fertility_Rate_Map_by_Country.svg/450px-Total_Fertility_Rate_Map_by_Country.svg.png 1.5x, //upload.wikimedia.org/wikipedia/commons/thumb/d/d7/Total_Fertility_Rate_Map_by_Country.svg/600px-Total_Fertility_Rate_Map_by_Country.svg.png 2x\" width=\"300\"/></a>,\n",
       " <a class=\"mw-file-description\" href=\"/wiki/File:World_population_counter,_Eureka,_Halifax,_West_Yorkshire_(27th_August_2022)_001.jpg\"><img class=\"mw-file-element\" data-file-height=\"3864\" data-file-width=\"5152\" decoding=\"async\" height=\"165\" src=\"//upload.wikimedia.org/wikipedia/commons/thumb/2/22/World_population_counter%2C_Eureka%2C_Halifax%2C_West_Yorkshire_%2827th_August_2022%29_001.jpg/220px-World_population_counter%2C_Eureka%2C_Halifax%2C_West_Yorkshire_%2827th_August_2022%29_001.jpg\" srcset=\"//upload.wikimedia.org/wikipedia/commons/thumb/2/22/World_population_counter%2C_Eureka%2C_Halifax%2C_West_Yorkshire_%2827th_August_2022%29_001.jpg/330px-World_population_counter%2C_Eureka%2C_Halifax%2C_West_Yorkshire_%2827th_August_2022%29_001.jpg 1.5x, //upload.wikimedia.org/wikipedia/commons/thumb/2/22/World_population_counter%2C_Eureka%2C_Halifax%2C_West_Yorkshire_%2827th_August_2022%29_001.jpg/440px-World_population_counter%2C_Eureka%2C_Halifax%2C_West_Yorkshire_%2827th_August_2022%29_001.jpg 2x\" width=\"220\"/></a>,\n",
       " <a class=\"mw-file-description\" href=\"/wiki/File:Population_curve.svg\" title=\"Estimated world population figures, 10,000 BC – AD 2000\"><img alt=\"Estimated world population figures, 10,000 BC – AD 2000\" class=\"mw-file-element\" data-file-height=\"332\" data-file-width=\"547\" decoding=\"async\" height=\"73\" src=\"//upload.wikimedia.org/wikipedia/commons/thumb/b/b7/Population_curve.svg/120px-Population_curve.svg.png\" srcset=\"//upload.wikimedia.org/wikipedia/commons/thumb/b/b7/Population_curve.svg/180px-Population_curve.svg.png 1.5x, //upload.wikimedia.org/wikipedia/commons/thumb/b/b7/Population_curve.svg/240px-Population_curve.svg.png 2x\" width=\"120\"/></a>,\n",
       " <a class=\"mw-file-description\" href=\"/wiki/File:World_population_growth_(lin-log_scale).png\" title=\"Estimated world population figures, 10,000 BC – AD 2000 (in log y scale)\"><img alt=\"Estimated world population figures, 10,000 BC – AD 2000 (in log y scale)\" class=\"mw-file-element\" data-file-height=\"600\" data-file-width=\"1000\" decoding=\"async\" height=\"72\" src=\"//upload.wikimedia.org/wikipedia/commons/thumb/f/f2/World_population_growth_%28lin-log_scale%29.png/120px-World_population_growth_%28lin-log_scale%29.png\" srcset=\"//upload.wikimedia.org/wikipedia/commons/thumb/f/f2/World_population_growth_%28lin-log_scale%29.png/180px-World_population_growth_%28lin-log_scale%29.png 1.5x, //upload.wikimedia.org/wikipedia/commons/thumb/f/f2/World_population_growth_%28lin-log_scale%29.png/240px-World_population_growth_%28lin-log_scale%29.png 2x\" width=\"120\"/></a>,\n",
       " <a class=\"mw-file-description\" href=\"/wiki/File:World_population_history.svg\" title=\"World population figures, 1950–2017\"><img alt=\"World population figures, 1950–2017\" class=\"mw-file-element\" data-file-height=\"450\" data-file-width=\"750\" decoding=\"async\" height=\"72\" src=\"//upload.wikimedia.org/wikipedia/commons/thumb/1/11/World_population_history.svg/120px-World_population_history.svg.png\" srcset=\"//upload.wikimedia.org/wikipedia/commons/thumb/1/11/World_population_history.svg/180px-World_population_history.svg.png 1.5x, //upload.wikimedia.org/wikipedia/commons/thumb/1/11/World_population_history.svg/240px-World_population_history.svg.png 2x\" width=\"120\"/></a>,\n",
       " <a class=\"mw-file-description\" href=\"/wiki/File:Question_book-new.svg\"><img alt=\"\" class=\"mw-file-element\" data-file-height=\"399\" data-file-width=\"512\" decoding=\"async\" height=\"39\" src=\"//upload.wikimedia.org/wikipedia/en/thumb/9/99/Question_book-new.svg/50px-Question_book-new.svg.png\" srcset=\"//upload.wikimedia.org/wikipedia/en/thumb/9/99/Question_book-new.svg/75px-Question_book-new.svg.png 1.5x, //upload.wikimedia.org/wikipedia/en/thumb/9/99/Question_book-new.svg/100px-Question_book-new.svg.png 2x\" width=\"50\"/></a>,\n",
       " <a class=\"mw-file-description\" href=\"/wiki/File:Population-doubling.svg\"><img class=\"mw-file-element\" data-file-height=\"295\" data-file-width=\"400\" decoding=\"async\" height=\"221\" src=\"//upload.wikimedia.org/wikipedia/commons/thumb/1/18/Population-doubling.svg/300px-Population-doubling.svg.png\" srcset=\"//upload.wikimedia.org/wikipedia/commons/thumb/1/18/Population-doubling.svg/450px-Population-doubling.svg.png 1.5x, //upload.wikimedia.org/wikipedia/commons/thumb/1/18/Population-doubling.svg/600px-Population-doubling.svg.png 2x\" width=\"300\"/></a>,\n",
       " <a class=\"mw-file-description\" href=\"/wiki/File:The_Earth_seen_from_Apollo_17.jpg\"><img alt=\"\" class=\"mw-file-element\" data-file-height=\"3002\" data-file-width=\"3000\" decoding=\"async\" height=\"28\" src=\"//upload.wikimedia.org/wikipedia/commons/thumb/9/97/The_Earth_seen_from_Apollo_17.jpg/28px-The_Earth_seen_from_Apollo_17.jpg\" srcset=\"//upload.wikimedia.org/wikipedia/commons/thumb/9/97/The_Earth_seen_from_Apollo_17.jpg/42px-The_Earth_seen_from_Apollo_17.jpg 1.5x, //upload.wikimedia.org/wikipedia/commons/thumb/9/97/The_Earth_seen_from_Apollo_17.jpg/56px-The_Earth_seen_from_Apollo_17.jpg 2x\" width=\"28\"/></a>,\n",
       " <a class=\"mw-file-description\" href=\"/wiki/File:Emblem-money.svg\"><img alt=\"icon\" class=\"mw-file-element\" data-file-height=\"48\" data-file-width=\"48\" decoding=\"async\" height=\"28\" src=\"//upload.wikimedia.org/wikipedia/commons/thumb/f/f3/Emblem-money.svg/28px-Emblem-money.svg.png\" srcset=\"//upload.wikimedia.org/wikipedia/commons/thumb/f/f3/Emblem-money.svg/42px-Emblem-money.svg.png 1.5x, //upload.wikimedia.org/wikipedia/commons/thumb/f/f3/Emblem-money.svg/56px-Emblem-money.svg.png 2x\" width=\"28\"/></a>]"
      ]
     },
     "execution_count": 14,
     "metadata": {},
     "output_type": "execute_result"
    }
   ],
   "source": [
    "a_tags = soup.find_all(\"a\", class_=\"mw-file-description\")\n",
    "a_tags"
   ]
  },
  {
   "cell_type": "code",
   "execution_count": 15,
   "metadata": {},
   "outputs": [
    {
     "data": {
      "text/plain": [
       "<a class=\"mw-file-description\" href=\"/wiki/File:World_Population_Prospects.svg\"><img class=\"mw-file-element\" data-file-height=\"676\" data-file-width=\"900\" decoding=\"async\" height=\"225\" src=\"//upload.wikimedia.org/wikipedia/commons/thumb/0/0e/World_Population_Prospects.svg/300px-World_Population_Prospects.svg.png\" srcset=\"//upload.wikimedia.org/wikipedia/commons/thumb/0/0e/World_Population_Prospects.svg/450px-World_Population_Prospects.svg.png 1.5x, //upload.wikimedia.org/wikipedia/commons/thumb/0/0e/World_Population_Prospects.svg/600px-World_Population_Prospects.svg.png 2x\" width=\"300\"/></a>"
      ]
     },
     "execution_count": 15,
     "metadata": {},
     "output_type": "execute_result"
    }
   ],
   "source": [
    "a_tags[0]"
   ]
  },
  {
   "cell_type": "code",
   "execution_count": 16,
   "metadata": {},
   "outputs": [
    {
     "data": {
      "text/plain": [
       "'/wiki/File:World_Population_Prospects.svg'"
      ]
     },
     "execution_count": 16,
     "metadata": {},
     "output_type": "execute_result"
    }
   ],
   "source": [
    "a_tags[0].get(\"href\")"
   ]
  },
  {
   "cell_type": "code",
   "execution_count": 17,
   "metadata": {},
   "outputs": [],
   "source": [
    "home_page = \"https://en.wikipedia.org/\""
   ]
  },
  {
   "cell_type": "code",
   "execution_count": 18,
   "metadata": {},
   "outputs": [
    {
     "data": {
      "text/plain": [
       "'https://en.wikipedia.org//wiki/File:World_Population_Prospects.svg'"
      ]
     },
     "execution_count": 18,
     "metadata": {},
     "output_type": "execute_result"
    }
   ],
   "source": [
    "home_page + a_tags[0].get(\"href\")"
   ]
  },
  {
   "cell_type": "code",
   "execution_count": 19,
   "metadata": {},
   "outputs": [
    {
     "data": {
      "text/plain": [
       "['https://en.wikipedia.org//wiki/File:World_Population_Prospects.svg',\n",
       " 'https://en.wikipedia.org//wiki/File:Illustration_of_contemporary_and_past_human_populations_Our_World_in_Data.png',\n",
       " 'https://en.wikipedia.org//wiki/File:2006megacities.svg',\n",
       " 'https://en.wikipedia.org//wiki/File:Expectancy_of_life.svg',\n",
       " 'https://en.wikipedia.org//wiki/File:Population_pyramid_of_the_world_in_continental_groupings_2023.svg',\n",
       " 'https://en.wikipedia.org//wiki/File:Global_population_cartogram.png',\n",
       " 'https://en.wikipedia.org//wiki/File:People%27s_-Km%C2%B2_for_all_countries_(and_us_states,_uk_kingdoms).png',\n",
       " 'https://en.wikipedia.org//wiki/File:Top_5_Country_Population_Graph_1901_to_2021.svg',\n",
       " 'https://en.wikipedia.org//wiki/File:Population_Density,_v4.11,_2020_(48009093621).jpg',\n",
       " 'https://en.wikipedia.org//wiki/File:World_population_(UN).svg',\n",
       " 'https://en.wikipedia.org//wiki/File:Total_Fertility_Rate_Map_by_Country.svg',\n",
       " 'https://en.wikipedia.org//wiki/File:World_population_counter,_Eureka,_Halifax,_West_Yorkshire_(27th_August_2022)_001.jpg',\n",
       " 'https://en.wikipedia.org//wiki/File:Population_curve.svg',\n",
       " 'https://en.wikipedia.org//wiki/File:World_population_growth_(lin-log_scale).png',\n",
       " 'https://en.wikipedia.org//wiki/File:World_population_history.svg',\n",
       " 'https://en.wikipedia.org//wiki/File:Question_book-new.svg',\n",
       " 'https://en.wikipedia.org//wiki/File:Population-doubling.svg',\n",
       " 'https://en.wikipedia.org//wiki/File:The_Earth_seen_from_Apollo_17.jpg',\n",
       " 'https://en.wikipedia.org//wiki/File:Emblem-money.svg']"
      ]
     },
     "execution_count": 19,
     "metadata": {},
     "output_type": "execute_result"
    }
   ],
   "source": [
    "img_links = [home_page + tag.get(\"href\") for tag in a_tags]\n",
    "img_links"
   ]
  },
  {
   "cell_type": "markdown",
   "metadata": {},
   "source": [
    "### Get all the tables and store results in pandas dataframe"
   ]
  },
  {
   "cell_type": "code",
   "execution_count": 20,
   "metadata": {},
   "outputs": [],
   "source": [
    "table_tags = soup.find_all(\"table\", class_=\"wikitable\")"
   ]
  },
  {
   "cell_type": "code",
   "execution_count": 21,
   "metadata": {},
   "outputs": [
    {
     "data": {
      "text/plain": [
       "<table class=\"wikitable\" style=\"text-align:center; float:right; clear:right; margin-left:8px; margin-right:0;\">\n",
       "<caption>World population milestones in billions<sup class=\"reference\" id=\"cite_ref-:6_58-0\"><a href=\"#cite_note-:6-58\"><span class=\"cite-bracket\">[</span>58<span class=\"cite-bracket\">]</span></a></sup> (Worldometers estimates)\n",
       "</caption>\n",
       "<tbody><tr>\n",
       "<th scope=\"row\">Population\n",
       "</th>\n",
       "<th scope=\"col\">1\n",
       "</th>\n",
       "<th scope=\"col\">2\n",
       "</th>\n",
       "<th scope=\"col\">3\n",
       "</th>\n",
       "<th scope=\"col\">4\n",
       "</th>\n",
       "<th scope=\"col\">5\n",
       "</th>\n",
       "<th scope=\"col\">6\n",
       "</th>\n",
       "<th scope=\"col\">7\n",
       "</th>\n",
       "<th scope=\"col\">8\n",
       "</th>\n",
       "<th scope=\"col\">9\n",
       "</th>\n",
       "<th scope=\"col\">10\n",
       "</th></tr>\n",
       "<tr>\n",
       "<th scope=\"row\">Year\n",
       "</th>\n",
       "<td>1804</td>\n",
       "<td>1927</td>\n",
       "<td>1960</td>\n",
       "<td>1974</td>\n",
       "<td>1987</td>\n",
       "<td>1999</td>\n",
       "<td>2011</td>\n",
       "<td>2022</td>\n",
       "<td><i>2037</i></td>\n",
       "<td><i>2057</i>\n",
       "</td></tr>\n",
       "<tr>\n",
       "<th scope=\"row\">Years elapsed\n",
       "</th>\n",
       "<td>200,000+</td>\n",
       "<td>123</td>\n",
       "<td>33</td>\n",
       "<td>14</td>\n",
       "<td>13</td>\n",
       "<td>12</td>\n",
       "<td>12</td>\n",
       "<td>11</td>\n",
       "<td><i>15</i></td>\n",
       "<td><i>20</i>\n",
       "</td></tr></tbody></table>"
      ]
     },
     "execution_count": 21,
     "metadata": {},
     "output_type": "execute_result"
    }
   ],
   "source": [
    "table_tags[0]"
   ]
  },
  {
   "cell_type": "code",
   "execution_count": 22,
   "metadata": {},
   "outputs": [],
   "source": [
    "import pandas as pd\n",
    "df = pd.read_html(str(table_tags[0]))[0]"
   ]
  },
  {
   "cell_type": "code",
   "execution_count": 23,
   "metadata": {},
   "outputs": [
    {
     "data": {
      "text/html": [
       "<div>\n",
       "<style scoped>\n",
       "    .dataframe tbody tr th:only-of-type {\n",
       "        vertical-align: middle;\n",
       "    }\n",
       "\n",
       "    .dataframe tbody tr th {\n",
       "        vertical-align: top;\n",
       "    }\n",
       "\n",
       "    .dataframe thead th {\n",
       "        text-align: right;\n",
       "    }\n",
       "</style>\n",
       "<table border=\"1\" class=\"dataframe\">\n",
       "  <thead>\n",
       "    <tr style=\"text-align: right;\">\n",
       "      <th></th>\n",
       "      <th>Population</th>\n",
       "      <th>1</th>\n",
       "      <th>2</th>\n",
       "      <th>3</th>\n",
       "      <th>4</th>\n",
       "      <th>5</th>\n",
       "      <th>6</th>\n",
       "      <th>7</th>\n",
       "      <th>8</th>\n",
       "      <th>9</th>\n",
       "      <th>10</th>\n",
       "    </tr>\n",
       "  </thead>\n",
       "  <tbody>\n",
       "    <tr>\n",
       "      <th>0</th>\n",
       "      <td>Year</td>\n",
       "      <td>1804</td>\n",
       "      <td>1927</td>\n",
       "      <td>1960</td>\n",
       "      <td>1974</td>\n",
       "      <td>1987</td>\n",
       "      <td>1999</td>\n",
       "      <td>2011</td>\n",
       "      <td>2022</td>\n",
       "      <td>2037</td>\n",
       "      <td>2057</td>\n",
       "    </tr>\n",
       "    <tr>\n",
       "      <th>1</th>\n",
       "      <td>Years elapsed</td>\n",
       "      <td>200,000+</td>\n",
       "      <td>123</td>\n",
       "      <td>33</td>\n",
       "      <td>14</td>\n",
       "      <td>13</td>\n",
       "      <td>12</td>\n",
       "      <td>12</td>\n",
       "      <td>11</td>\n",
       "      <td>15</td>\n",
       "      <td>20</td>\n",
       "    </tr>\n",
       "  </tbody>\n",
       "</table>\n",
       "</div>"
      ],
      "text/plain": [
       "      Population         1     2     3     4     5     6     7     8     9  \\\n",
       "0           Year      1804  1927  1960  1974  1987  1999  2011  2022  2037   \n",
       "1  Years elapsed  200,000+   123    33    14    13    12    12    11    15   \n",
       "\n",
       "     10  \n",
       "0  2057  \n",
       "1    20  "
      ]
     },
     "execution_count": 23,
     "metadata": {},
     "output_type": "execute_result"
    }
   ],
   "source": [
    "df"
   ]
  },
  {
   "cell_type": "code",
   "execution_count": 24,
   "metadata": {},
   "outputs": [],
   "source": [
    "dfs = []\n",
    "for tag in table_tags:\n",
    "    t = pd.read_html(str(tag))[0]\n",
    "    dfs.append(t)"
   ]
  },
  {
   "cell_type": "code",
   "execution_count": 25,
   "metadata": {},
   "outputs": [
    {
     "data": {
      "text/html": [
       "<div>\n",
       "<style scoped>\n",
       "    .dataframe tbody tr th:only-of-type {\n",
       "        vertical-align: middle;\n",
       "    }\n",
       "\n",
       "    .dataframe tbody tr th {\n",
       "        vertical-align: top;\n",
       "    }\n",
       "\n",
       "    .dataframe thead th {\n",
       "        text-align: right;\n",
       "    }\n",
       "</style>\n",
       "<table border=\"1\" class=\"dataframe\">\n",
       "  <thead>\n",
       "    <tr style=\"text-align: right;\">\n",
       "      <th></th>\n",
       "      <th>Population</th>\n",
       "      <th>1</th>\n",
       "      <th>2</th>\n",
       "      <th>3</th>\n",
       "      <th>4</th>\n",
       "      <th>5</th>\n",
       "      <th>6</th>\n",
       "      <th>7</th>\n",
       "      <th>8</th>\n",
       "      <th>9</th>\n",
       "      <th>10</th>\n",
       "    </tr>\n",
       "  </thead>\n",
       "  <tbody>\n",
       "    <tr>\n",
       "      <th>0</th>\n",
       "      <td>Year</td>\n",
       "      <td>1804</td>\n",
       "      <td>1927</td>\n",
       "      <td>1960</td>\n",
       "      <td>1974</td>\n",
       "      <td>1987</td>\n",
       "      <td>1999</td>\n",
       "      <td>2011</td>\n",
       "      <td>2022</td>\n",
       "      <td>2037</td>\n",
       "      <td>2057</td>\n",
       "    </tr>\n",
       "    <tr>\n",
       "      <th>1</th>\n",
       "      <td>Years elapsed</td>\n",
       "      <td>200,000+</td>\n",
       "      <td>123</td>\n",
       "      <td>33</td>\n",
       "      <td>14</td>\n",
       "      <td>13</td>\n",
       "      <td>12</td>\n",
       "      <td>12</td>\n",
       "      <td>11</td>\n",
       "      <td>15</td>\n",
       "      <td>20</td>\n",
       "    </tr>\n",
       "  </tbody>\n",
       "</table>\n",
       "</div>"
      ],
      "text/plain": [
       "      Population         1     2     3     4     5     6     7     8     9  \\\n",
       "0           Year      1804  1927  1960  1974  1987  1999  2011  2022  2037   \n",
       "1  Years elapsed  200,000+   123    33    14    13    12    12    11    15   \n",
       "\n",
       "     10  \n",
       "0  2057  \n",
       "1    20  "
      ]
     },
     "metadata": {},
     "output_type": "display_data"
    },
    {
     "data": {
      "text/html": [
       "<div>\n",
       "<style scoped>\n",
       "    .dataframe tbody tr th:only-of-type {\n",
       "        vertical-align: middle;\n",
       "    }\n",
       "\n",
       "    .dataframe tbody tr th {\n",
       "        vertical-align: top;\n",
       "    }\n",
       "\n",
       "    .dataframe thead th {\n",
       "        text-align: right;\n",
       "    }\n",
       "</style>\n",
       "<table border=\"1\" class=\"dataframe\">\n",
       "  <thead>\n",
       "    <tr style=\"text-align: right;\">\n",
       "      <th></th>\n",
       "      <th>Region</th>\n",
       "      <th>2022 (percent)</th>\n",
       "      <th>2030 (percent)</th>\n",
       "      <th>2050 (percent)</th>\n",
       "    </tr>\n",
       "  </thead>\n",
       "  <tbody>\n",
       "    <tr>\n",
       "      <th>0</th>\n",
       "      <td>Sub-Saharan Africa</td>\n",
       "      <td>1,152 (14.51%)</td>\n",
       "      <td>1,401 (16.46%)</td>\n",
       "      <td>2,094 (21.62%)</td>\n",
       "    </tr>\n",
       "    <tr>\n",
       "      <th>1</th>\n",
       "      <td>Northern Africa and Western Asia</td>\n",
       "      <td>549 (6.91%)</td>\n",
       "      <td>617 (7.25%)</td>\n",
       "      <td>771 (7.96%)</td>\n",
       "    </tr>\n",
       "    <tr>\n",
       "      <th>2</th>\n",
       "      <td>Central Asia and Southern Asia</td>\n",
       "      <td>2,075 (26.13%)</td>\n",
       "      <td>2,248 (26.41%)</td>\n",
       "      <td>2,575 (26.58%)</td>\n",
       "    </tr>\n",
       "    <tr>\n",
       "      <th>3</th>\n",
       "      <td>Eastern Asia and Southeastern Asia</td>\n",
       "      <td>2,342 (29.49%)</td>\n",
       "      <td>2,372 (27.87%)</td>\n",
       "      <td>2,317 (23.92%)</td>\n",
       "    </tr>\n",
       "    <tr>\n",
       "      <th>4</th>\n",
       "      <td>Europe and Northern America</td>\n",
       "      <td>1,120 (14.10%)</td>\n",
       "      <td>1,129 (13.26%)</td>\n",
       "      <td>1,125 (11.61%)</td>\n",
       "    </tr>\n",
       "    <tr>\n",
       "      <th>5</th>\n",
       "      <td>Latin America and the Caribbean</td>\n",
       "      <td>658 (8.29%)</td>\n",
       "      <td>695 (8.17%)</td>\n",
       "      <td>749 (7.73%)</td>\n",
       "    </tr>\n",
       "    <tr>\n",
       "      <th>6</th>\n",
       "      <td>Australia and New Zealand</td>\n",
       "      <td>31 (0.39%)</td>\n",
       "      <td>34 (0.40%)</td>\n",
       "      <td>38 (0.39%)</td>\n",
       "    </tr>\n",
       "    <tr>\n",
       "      <th>7</th>\n",
       "      <td>Oceania</td>\n",
       "      <td>14 (0.18%)</td>\n",
       "      <td>15 (0.18%)</td>\n",
       "      <td>20 (0.21%)</td>\n",
       "    </tr>\n",
       "    <tr>\n",
       "      <th>8</th>\n",
       "      <td>World</td>\n",
       "      <td>7942</td>\n",
       "      <td>8512</td>\n",
       "      <td>9687</td>\n",
       "    </tr>\n",
       "  </tbody>\n",
       "</table>\n",
       "</div>"
      ],
      "text/plain": [
       "                               Region  2022 (percent)  2030 (percent)  \\\n",
       "0                  Sub-Saharan Africa  1,152 (14.51%)  1,401 (16.46%)   \n",
       "1    Northern Africa and Western Asia     549 (6.91%)     617 (7.25%)   \n",
       "2      Central Asia and Southern Asia  2,075 (26.13%)  2,248 (26.41%)   \n",
       "3  Eastern Asia and Southeastern Asia  2,342 (29.49%)  2,372 (27.87%)   \n",
       "4         Europe and Northern America  1,120 (14.10%)  1,129 (13.26%)   \n",
       "5     Latin America and the Caribbean     658 (8.29%)     695 (8.17%)   \n",
       "6           Australia and New Zealand      31 (0.39%)      34 (0.40%)   \n",
       "7                             Oceania      14 (0.18%)      15 (0.18%)   \n",
       "8                               World            7942            8512   \n",
       "\n",
       "   2050 (percent)  \n",
       "0  2,094 (21.62%)  \n",
       "1     771 (7.96%)  \n",
       "2  2,575 (26.58%)  \n",
       "3  2,317 (23.92%)  \n",
       "4  1,125 (11.61%)  \n",
       "5     749 (7.73%)  \n",
       "6      38 (0.39%)  \n",
       "7      20 (0.21%)  \n",
       "8            9687  "
      ]
     },
     "metadata": {},
     "output_type": "display_data"
    },
    {
     "data": {
      "text/html": [
       "<div>\n",
       "<style scoped>\n",
       "    .dataframe tbody tr th:only-of-type {\n",
       "        vertical-align: middle;\n",
       "    }\n",
       "\n",
       "    .dataframe tbody tr th {\n",
       "        vertical-align: top;\n",
       "    }\n",
       "\n",
       "    .dataframe thead th {\n",
       "        text-align: right;\n",
       "    }\n",
       "</style>\n",
       "<table border=\"1\" class=\"dataframe\">\n",
       "  <thead>\n",
       "    <tr style=\"text-align: right;\">\n",
       "      <th></th>\n",
       "      <th>Region</th>\n",
       "      <th>Density (inhabitants/km2)</th>\n",
       "      <th>Population (millions)</th>\n",
       "      <th>Most populous country</th>\n",
       "      <th>Most populous city (metropolitan area)</th>\n",
       "    </tr>\n",
       "  </thead>\n",
       "  <tbody>\n",
       "    <tr>\n",
       "      <th>0</th>\n",
       "      <td>Asia</td>\n",
       "      <td>104.1</td>\n",
       "      <td>4641</td>\n",
       "      <td>1,439,090,595 – India</td>\n",
       "      <td>13,515,000 – Tokyo Metropolis (37,400,000 – Gr...</td>\n",
       "    </tr>\n",
       "    <tr>\n",
       "      <th>1</th>\n",
       "      <td>Africa</td>\n",
       "      <td>44.4</td>\n",
       "      <td>1340</td>\n",
       "      <td>0,211,401,000 – Nigeria</td>\n",
       "      <td>09,500,000 – Cairo (20,076,000 – Greater Cairo)</td>\n",
       "    </tr>\n",
       "    <tr>\n",
       "      <th>2</th>\n",
       "      <td>Europe</td>\n",
       "      <td>73.4</td>\n",
       "      <td>747</td>\n",
       "      <td>0,146,171,000 – Russia, approx. 110 million in...</td>\n",
       "      <td>13,200,000 – Moscow (20,004,000 – Moscow metro...</td>\n",
       "    </tr>\n",
       "    <tr>\n",
       "      <th>3</th>\n",
       "      <td>Latin America</td>\n",
       "      <td>24.1</td>\n",
       "      <td>653</td>\n",
       "      <td>0,214,103,000 – Brazil</td>\n",
       "      <td>12,252,000 – São Paulo City (21,650,000 – São ...</td>\n",
       "    </tr>\n",
       "    <tr>\n",
       "      <th>4</th>\n",
       "      <td>Northern America[note 1]</td>\n",
       "      <td>14.9</td>\n",
       "      <td>368</td>\n",
       "      <td>0,332,909,000 – United States</td>\n",
       "      <td>08,804,000 – New York City (23,582,649 – New Y...</td>\n",
       "    </tr>\n",
       "    <tr>\n",
       "      <th>5</th>\n",
       "      <td>Oceania</td>\n",
       "      <td>5</td>\n",
       "      <td>42</td>\n",
       "      <td>0,025,917,000 – Australia</td>\n",
       "      <td>05,367,000 – Sydney</td>\n",
       "    </tr>\n",
       "    <tr>\n",
       "      <th>6</th>\n",
       "      <td>Antarctica</td>\n",
       "      <td>~0</td>\n",
       "      <td>0.004[86]</td>\n",
       "      <td>N/A[note 2]</td>\n",
       "      <td>00,001,258 – McMurdo Station</td>\n",
       "    </tr>\n",
       "  </tbody>\n",
       "</table>\n",
       "</div>"
      ],
      "text/plain": [
       "                     Region Density (inhabitants/km2) Population (millions)  \\\n",
       "0                      Asia                     104.1                  4641   \n",
       "1                    Africa                      44.4                  1340   \n",
       "2                    Europe                      73.4                   747   \n",
       "3             Latin America                      24.1                   653   \n",
       "4  Northern America[note 1]                      14.9                   368   \n",
       "5                   Oceania                         5                    42   \n",
       "6                Antarctica                        ~0             0.004[86]   \n",
       "\n",
       "                               Most populous country  \\\n",
       "0                              1,439,090,595 – India   \n",
       "1                            0,211,401,000 – Nigeria   \n",
       "2  0,146,171,000 – Russia, approx. 110 million in...   \n",
       "3                             0,214,103,000 – Brazil   \n",
       "4                      0,332,909,000 – United States   \n",
       "5                          0,025,917,000 – Australia   \n",
       "6                                        N/A[note 2]   \n",
       "\n",
       "              Most populous city (metropolitan area)  \n",
       "0  13,515,000 – Tokyo Metropolis (37,400,000 – Gr...  \n",
       "1    09,500,000 – Cairo (20,076,000 – Greater Cairo)  \n",
       "2  13,200,000 – Moscow (20,004,000 – Moscow metro...  \n",
       "3  12,252,000 – São Paulo City (21,650,000 – São ...  \n",
       "4  08,804,000 – New York City (23,582,649 – New Y...  \n",
       "5                                05,367,000 – Sydney  \n",
       "6                       00,001,258 – McMurdo Station  "
      ]
     },
     "metadata": {},
     "output_type": "display_data"
    }
   ],
   "source": [
    "for i in dfs[0:3]:\n",
    "    display(i)"
   ]
  },
  {
   "cell_type": "markdown",
   "metadata": {},
   "source": [
    "### Create a wikipedia scraper class to scrape any wikipedia webpage"
   ]
  },
  {
   "cell_type": "code",
   "execution_count": 1,
   "metadata": {},
   "outputs": [],
   "source": [
    "import requests\n",
    "from bs4 import BeautifulSoup\n",
    "import pandas as pd\n",
    "from pydantic import BaseModel, HttpUrl"
   ]
  },
  {
   "cell_type": "code",
   "execution_count": 2,
   "metadata": {},
   "outputs": [],
   "source": [
    "class WikiScraper(BaseModel):\n",
    "    url: HttpUrl\n",
    "\n",
    "    def get_content(self):\n",
    "        response = requests.get(self.url)\n",
    "        response.raise_for_status()\n",
    "        return response.content\n",
    "    \n",
    "    def get_soup(self):\n",
    "        content = self.get_content()\n",
    "        soup = BeautifulSoup(content)\n",
    "        return soup\n",
    "    \n",
    "    def get_title(self):\n",
    "        soup = self.get_soup()\n",
    "        return soup.title.text\n",
    "    \n",
    "    def get_h1_tag(self):\n",
    "        soup = self.get_soup()\n",
    "        h1_tag = soup.find(\"h1\")\n",
    "        return h1_tag.text\n",
    "    \n",
    "    def get_subheadings(self):\n",
    "        soup = self.get_soup()\n",
    "        div_tags = soup.find_all(name=\"div\", class_=\"mw-heading\")\n",
    "        subheading_texts = [tag.text for tag in div_tags]\n",
    "        return subheading_texts\n",
    "\n",
    "    def get_image_links(self):\n",
    "        soup = self.get_soup()\n",
    "        a_tags = soup.find_all(\"a\", class_=\"mw-file-description\")\n",
    "        home_page = \"https://en.wikipedia.org/\"\n",
    "        img_links = [home_page + tag.get(\"href\") for tag in a_tags]\n",
    "        return img_links\n",
    "    \n",
    "    def get_tables(self):\n",
    "        soup = self.get_soup()\n",
    "        table_tags = soup.find_all(\"table\", class_=\"wikitable\")\n",
    "        dfs = []\n",
    "        for tag in table_tags:\n",
    "            t = pd.read_html(str(tag))[0]\n",
    "            dfs.append(t)\n",
    "        return dfs\n"
   ]
  },
  {
   "cell_type": "code",
   "execution_count": 3,
   "metadata": {},
   "outputs": [
    {
     "ename": "ValidationError",
     "evalue": "1 validation error for WikiScraper\nurl\n  Input should be a valid URL, relative URL without a base [type=url_parsing, input_value='RandomText', input_type=str]\n    For further information visit https://errors.pydantic.dev/2.9/v/url_parsing",
     "output_type": "error",
     "traceback": [
      "\u001b[1;31m---------------------------------------------------------------------------\u001b[0m",
      "\u001b[1;31mValidationError\u001b[0m                           Traceback (most recent call last)",
      "Cell \u001b[1;32mIn[3], line 1\u001b[0m\n\u001b[1;32m----> 1\u001b[0m scraper1 \u001b[38;5;241m=\u001b[39m \u001b[43mWikiScraper\u001b[49m\u001b[43m(\u001b[49m\u001b[43murl\u001b[49m\u001b[38;5;241;43m=\u001b[39;49m\u001b[38;5;124;43m\"\u001b[39;49m\u001b[38;5;124;43mRandomText\u001b[39;49m\u001b[38;5;124;43m\"\u001b[39;49m\u001b[43m)\u001b[49m\n",
      "File \u001b[1;32mc:\\Adv Python 8-10pm Thu Fri\\repository\\venv\\Lib\\site-packages\\pydantic\\main.py:212\u001b[0m, in \u001b[0;36mBaseModel.__init__\u001b[1;34m(self, **data)\u001b[0m\n\u001b[0;32m    210\u001b[0m \u001b[38;5;66;03m# `__tracebackhide__` tells pytest and some other tools to omit this function from tracebacks\u001b[39;00m\n\u001b[0;32m    211\u001b[0m __tracebackhide__ \u001b[38;5;241m=\u001b[39m \u001b[38;5;28;01mTrue\u001b[39;00m\n\u001b[1;32m--> 212\u001b[0m validated_self \u001b[38;5;241m=\u001b[39m \u001b[38;5;28;43mself\u001b[39;49m\u001b[38;5;241;43m.\u001b[39;49m\u001b[43m__pydantic_validator__\u001b[49m\u001b[38;5;241;43m.\u001b[39;49m\u001b[43mvalidate_python\u001b[49m\u001b[43m(\u001b[49m\u001b[43mdata\u001b[49m\u001b[43m,\u001b[49m\u001b[43m \u001b[49m\u001b[43mself_instance\u001b[49m\u001b[38;5;241;43m=\u001b[39;49m\u001b[38;5;28;43mself\u001b[39;49m\u001b[43m)\u001b[49m\n\u001b[0;32m    213\u001b[0m \u001b[38;5;28;01mif\u001b[39;00m \u001b[38;5;28mself\u001b[39m \u001b[38;5;129;01mis\u001b[39;00m \u001b[38;5;129;01mnot\u001b[39;00m validated_self:\n\u001b[0;32m    214\u001b[0m     warnings\u001b[38;5;241m.\u001b[39mwarn(\n\u001b[0;32m    215\u001b[0m         \u001b[38;5;124m'\u001b[39m\u001b[38;5;124mA custom validator is returning a value other than `self`.\u001b[39m\u001b[38;5;130;01m\\n\u001b[39;00m\u001b[38;5;124m'\u001b[39m\n\u001b[0;32m    216\u001b[0m         \u001b[38;5;124m\"\u001b[39m\u001b[38;5;124mReturning anything other than `self` from a top level model validator isn\u001b[39m\u001b[38;5;124m'\u001b[39m\u001b[38;5;124mt supported when validating via `__init__`.\u001b[39m\u001b[38;5;130;01m\\n\u001b[39;00m\u001b[38;5;124m\"\u001b[39m\n\u001b[0;32m    217\u001b[0m         \u001b[38;5;124m'\u001b[39m\u001b[38;5;124mSee the `model_validator` docs (https://docs.pydantic.dev/latest/concepts/validators/#model-validators) for more details.\u001b[39m\u001b[38;5;124m'\u001b[39m,\n\u001b[0;32m    218\u001b[0m         category\u001b[38;5;241m=\u001b[39m\u001b[38;5;28;01mNone\u001b[39;00m,\n\u001b[0;32m    219\u001b[0m     )\n",
      "\u001b[1;31mValidationError\u001b[0m: 1 validation error for WikiScraper\nurl\n  Input should be a valid URL, relative URL without a base [type=url_parsing, input_value='RandomText', input_type=str]\n    For further information visit https://errors.pydantic.dev/2.9/v/url_parsing"
     ]
    }
   ],
   "source": [
    "scraper1 = WikiScraper(url=\"RandomText\")"
   ]
  },
  {
   "cell_type": "code",
   "execution_count": 4,
   "metadata": {},
   "outputs": [
    {
     "data": {
      "text/plain": [
       "WikiScraper(url=Url('https://en.wikipedia.org/wiki/World_population'))"
      ]
     },
     "execution_count": 4,
     "metadata": {},
     "output_type": "execute_result"
    }
   ],
   "source": [
    "scraper1 = WikiScraper(url = \"https://en.wikipedia.org/wiki/World_population\")\n",
    "scraper1"
   ]
  },
  {
   "cell_type": "code",
   "execution_count": 5,
   "metadata": {},
   "outputs": [
    {
     "data": {
      "text/plain": [
       "'World population - Wikipedia'"
      ]
     },
     "execution_count": 5,
     "metadata": {},
     "output_type": "execute_result"
    }
   ],
   "source": [
    "scraper1.get_title()"
   ]
  },
  {
   "cell_type": "code",
   "execution_count": 6,
   "metadata": {},
   "outputs": [
    {
     "data": {
      "text/plain": [
       "['https://en.wikipedia.org//wiki/File:World_Population_Prospects.svg',\n",
       " 'https://en.wikipedia.org//wiki/File:Illustration_of_contemporary_and_past_human_populations_Our_World_in_Data.png',\n",
       " 'https://en.wikipedia.org//wiki/File:2006megacities.svg',\n",
       " 'https://en.wikipedia.org//wiki/File:Expectancy_of_life.svg',\n",
       " 'https://en.wikipedia.org//wiki/File:Population_pyramid_of_the_world_in_continental_groupings_2023.svg',\n",
       " 'https://en.wikipedia.org//wiki/File:Global_population_cartogram.png',\n",
       " 'https://en.wikipedia.org//wiki/File:People%27s_-Km%C2%B2_for_all_countries_(and_us_states,_uk_kingdoms).png',\n",
       " 'https://en.wikipedia.org//wiki/File:Top_5_Country_Population_Graph_1901_to_2021.svg',\n",
       " 'https://en.wikipedia.org//wiki/File:Population_Density,_v4.11,_2020_(48009093621).jpg',\n",
       " 'https://en.wikipedia.org//wiki/File:World_population_(UN).svg',\n",
       " 'https://en.wikipedia.org//wiki/File:Total_Fertility_Rate_Map_by_Country.svg',\n",
       " 'https://en.wikipedia.org//wiki/File:World_population_counter,_Eureka,_Halifax,_West_Yorkshire_(27th_August_2022)_001.jpg',\n",
       " 'https://en.wikipedia.org//wiki/File:Population_curve.svg',\n",
       " 'https://en.wikipedia.org//wiki/File:World_population_growth_(lin-log_scale).png',\n",
       " 'https://en.wikipedia.org//wiki/File:World_population_history.svg',\n",
       " 'https://en.wikipedia.org//wiki/File:Question_book-new.svg',\n",
       " 'https://en.wikipedia.org//wiki/File:Population-doubling.svg',\n",
       " 'https://en.wikipedia.org//wiki/File:The_Earth_seen_from_Apollo_17.jpg',\n",
       " 'https://en.wikipedia.org//wiki/File:Emblem-money.svg']"
      ]
     },
     "execution_count": 6,
     "metadata": {},
     "output_type": "execute_result"
    }
   ],
   "source": [
    "scraper1.get_image_links()"
   ]
  },
  {
   "cell_type": "code",
   "execution_count": 7,
   "metadata": {},
   "outputs": [
    {
     "data": {
      "text/plain": [
       "['History',\n",
       " 'Ancient and post-classical history',\n",
       " 'Modern history',\n",
       " 'Milestones by the billions',\n",
       " 'Global demographics',\n",
       " 'Population by region',\n",
       " 'Largest populations by country',\n",
       " 'Ten most populous countries',\n",
       " 'Most densely populated countries',\n",
       " 'Fluctuation',\n",
       " 'Annual population growth',\n",
       " 'Population growth by region',\n",
       " 'Past population',\n",
       " 'Projections',\n",
       " 'Mathematical approximations',\n",
       " 'Years for world population to double',\n",
       " 'Number of humans who have ever lived',\n",
       " 'Human population as a function of food availability',\n",
       " 'See also',\n",
       " 'Explanatory notes',\n",
       " 'References',\n",
       " 'Citations',\n",
       " 'General and cited sources',\n",
       " 'Further reading',\n",
       " 'External links']"
      ]
     },
     "execution_count": 7,
     "metadata": {},
     "output_type": "execute_result"
    }
   ],
   "source": [
    "scraper1.get_subheadings()"
   ]
  },
  {
   "cell_type": "markdown",
   "metadata": {},
   "source": [
    "### Scraping other website"
   ]
  },
  {
   "cell_type": "code",
   "execution_count": 8,
   "metadata": {},
   "outputs": [
    {
     "data": {
      "text/plain": [
       "WikiScraper(url=Url('https://en.wikipedia.org/wiki/Python_(programming_language)'))"
      ]
     },
     "execution_count": 8,
     "metadata": {},
     "output_type": "execute_result"
    }
   ],
   "source": [
    "scraper2 = WikiScraper(url=\"https://en.wikipedia.org/wiki/Python_(programming_language)\")\n",
    "scraper2"
   ]
  },
  {
   "cell_type": "code",
   "execution_count": 9,
   "metadata": {},
   "outputs": [
    {
     "data": {
      "text/plain": [
       "'Python (programming language) - Wikipedia'"
      ]
     },
     "execution_count": 9,
     "metadata": {},
     "output_type": "execute_result"
    }
   ],
   "source": [
    "scraper2.get_title()"
   ]
  },
  {
   "cell_type": "code",
   "execution_count": 10,
   "metadata": {},
   "outputs": [
    {
     "data": {
      "text/plain": [
       "'Python (programming language)'"
      ]
     },
     "execution_count": 10,
     "metadata": {},
     "output_type": "execute_result"
    }
   ],
   "source": [
    "scraper2.get_h1_tag()"
   ]
  },
  {
   "cell_type": "code",
   "execution_count": 11,
   "metadata": {},
   "outputs": [
    {
     "data": {
      "text/plain": [
       "['https://en.wikipedia.org//wiki/File:Python-logo-notext.svg',\n",
       " 'https://en.wikipedia.org//wiki/File:Wikibooks-logo-en-noslogan.svg',\n",
       " 'https://en.wikipedia.org//wiki/File:Guido_van_Rossum_OSCON_2006_cropped.png',\n",
       " 'https://en.wikipedia.org//wiki/File:Hello_World_in_Python.png',\n",
       " 'https://en.wikipedia.org//wiki/File:Af-Helloworld_(C_Sharp).svg',\n",
       " 'https://en.wikipedia.org//wiki/File:Python_3._The_standard_type_hierarchy-en.svg',\n",
       " 'https://en.wikipedia.org//wiki/File:Python_Powered.png',\n",
       " 'https://en.wikipedia.org//wiki/File:Octicons-terminal.svg',\n",
       " 'https://en.wikipedia.org//wiki/File:Python-logo-notext.svg',\n",
       " 'https://en.wikipedia.org//wiki/File:Symbol_portal_class.svg',\n",
       " 'https://en.wikipedia.org//wiki/File:Symbol_portal_class.svg']"
      ]
     },
     "execution_count": 11,
     "metadata": {},
     "output_type": "execute_result"
    }
   ],
   "source": [
    "scraper2.get_image_links()"
   ]
  },
  {
   "cell_type": "code",
   "execution_count": 12,
   "metadata": {},
   "outputs": [
    {
     "data": {
      "text/plain": [
       "['History[edit]',\n",
       " 'Design philosophy and features[edit]',\n",
       " 'Syntax and semantics[edit]',\n",
       " 'Indentation[edit]',\n",
       " 'Statements and control flow[edit]',\n",
       " 'Expressions[edit]',\n",
       " 'Methods[edit]',\n",
       " 'Typing[edit]',\n",
       " 'Arithmetic operations[edit]',\n",
       " 'Programming examples[edit]',\n",
       " 'Libraries[edit]',\n",
       " 'Development environments[edit]',\n",
       " 'Implementations[edit]',\n",
       " 'Reference implementation[edit]',\n",
       " 'Other implementations[edit]',\n",
       " 'No longer supported implementations[edit]',\n",
       " 'Cross-compilers to other languages[edit]',\n",
       " 'Performance[edit]',\n",
       " 'Development[edit]',\n",
       " 'API documentation generators[edit]',\n",
       " 'Naming[edit]',\n",
       " 'Popularity[edit]',\n",
       " 'Uses[edit]',\n",
       " 'Languages influenced by Python[edit]',\n",
       " 'See also[edit]',\n",
       " 'References[edit]',\n",
       " 'Sources[edit]',\n",
       " 'Further reading[edit]',\n",
       " 'External links[edit]']"
      ]
     },
     "execution_count": 12,
     "metadata": {},
     "output_type": "execute_result"
    }
   ],
   "source": [
    "scraper2.get_subheadings()"
   ]
  },
  {
   "cell_type": "code",
   "execution_count": 16,
   "metadata": {},
   "outputs": [],
   "source": [
    "dfs2 = scraper2.get_tables()"
   ]
  },
  {
   "cell_type": "code",
   "execution_count": 17,
   "metadata": {},
   "outputs": [
    {
     "data": {
      "text/html": [
       "<div>\n",
       "<style scoped>\n",
       "    .dataframe tbody tr th:only-of-type {\n",
       "        vertical-align: middle;\n",
       "    }\n",
       "\n",
       "    .dataframe tbody tr th {\n",
       "        vertical-align: top;\n",
       "    }\n",
       "\n",
       "    .dataframe thead th {\n",
       "        text-align: right;\n",
       "    }\n",
       "</style>\n",
       "<table border=\"1\" class=\"dataframe\">\n",
       "  <thead>\n",
       "    <tr style=\"text-align: right;\">\n",
       "      <th></th>\n",
       "      <th>Type</th>\n",
       "      <th>Mutability</th>\n",
       "      <th>Description</th>\n",
       "      <th>Syntax examples</th>\n",
       "    </tr>\n",
       "  </thead>\n",
       "  <tbody>\n",
       "    <tr>\n",
       "      <th>0</th>\n",
       "      <td>bool</td>\n",
       "      <td>immutable</td>\n",
       "      <td>Boolean value</td>\n",
       "      <td>True False</td>\n",
       "    </tr>\n",
       "    <tr>\n",
       "      <th>1</th>\n",
       "      <td>bytearray</td>\n",
       "      <td>mutable</td>\n",
       "      <td>Sequence of bytes</td>\n",
       "      <td>bytearray(b'Some ASCII') bytearray(b\"Some ASCI...</td>\n",
       "    </tr>\n",
       "    <tr>\n",
       "      <th>2</th>\n",
       "      <td>bytes</td>\n",
       "      <td>immutable</td>\n",
       "      <td>Sequence of bytes</td>\n",
       "      <td>b'Some ASCII' b\"Some ASCII\" bytes([119, 105, 1...</td>\n",
       "    </tr>\n",
       "    <tr>\n",
       "      <th>3</th>\n",
       "      <td>complex</td>\n",
       "      <td>immutable</td>\n",
       "      <td>Complex number with real and imaginary parts</td>\n",
       "      <td>3+2.7j 3 + 2.7j</td>\n",
       "    </tr>\n",
       "    <tr>\n",
       "      <th>4</th>\n",
       "      <td>dict</td>\n",
       "      <td>mutable</td>\n",
       "      <td>Associative array (or dictionary) of key and v...</td>\n",
       "      <td>{'key1': 1.0, 3: False} {}</td>\n",
       "    </tr>\n",
       "    <tr>\n",
       "      <th>5</th>\n",
       "      <td>types.EllipsisType</td>\n",
       "      <td>immutable</td>\n",
       "      <td>An ellipsis placeholder to be used as an index...</td>\n",
       "      <td>... Ellipsis</td>\n",
       "    </tr>\n",
       "    <tr>\n",
       "      <th>6</th>\n",
       "      <td>float</td>\n",
       "      <td>immutable</td>\n",
       "      <td>Double-precision floating-point number. The pr...</td>\n",
       "      <td>1.33333</td>\n",
       "    </tr>\n",
       "    <tr>\n",
       "      <th>7</th>\n",
       "      <td>frozenset</td>\n",
       "      <td>immutable</td>\n",
       "      <td>Unordered set, contains no duplicates; can con...</td>\n",
       "      <td>frozenset([4.0, 'string', True])</td>\n",
       "    </tr>\n",
       "    <tr>\n",
       "      <th>8</th>\n",
       "      <td>int</td>\n",
       "      <td>immutable</td>\n",
       "      <td>Integer of unlimited magnitude[121]</td>\n",
       "      <td>42</td>\n",
       "    </tr>\n",
       "    <tr>\n",
       "      <th>9</th>\n",
       "      <td>list</td>\n",
       "      <td>mutable</td>\n",
       "      <td>List, can contain mixed types</td>\n",
       "      <td>[4.0, 'string', True] []</td>\n",
       "    </tr>\n",
       "    <tr>\n",
       "      <th>10</th>\n",
       "      <td>types.NoneType</td>\n",
       "      <td>immutable</td>\n",
       "      <td>An object representing the absence of a value,...</td>\n",
       "      <td>NaN</td>\n",
       "    </tr>\n",
       "    <tr>\n",
       "      <th>11</th>\n",
       "      <td>types.NotImplementedType</td>\n",
       "      <td>immutable</td>\n",
       "      <td>A placeholder that can be returned from overlo...</td>\n",
       "      <td>NotImplemented</td>\n",
       "    </tr>\n",
       "    <tr>\n",
       "      <th>12</th>\n",
       "      <td>range</td>\n",
       "      <td>immutable</td>\n",
       "      <td>An immutable sequence of numbers commonly used...</td>\n",
       "      <td>range(−1, 10) range(10, −5, −2)</td>\n",
       "    </tr>\n",
       "    <tr>\n",
       "      <th>13</th>\n",
       "      <td>set</td>\n",
       "      <td>mutable</td>\n",
       "      <td>Unordered set, contains no duplicates; can con...</td>\n",
       "      <td>{4.0, 'string', True} set()</td>\n",
       "    </tr>\n",
       "    <tr>\n",
       "      <th>14</th>\n",
       "      <td>str</td>\n",
       "      <td>immutable</td>\n",
       "      <td>A character string: sequence of Unicode codepo...</td>\n",
       "      <td>'Wikipedia' \"Wikipedia\"\"\"\"Spanning multiple li...</td>\n",
       "    </tr>\n",
       "    <tr>\n",
       "      <th>15</th>\n",
       "      <td>tuple</td>\n",
       "      <td>immutable</td>\n",
       "      <td>Can contain mixed types</td>\n",
       "      <td>(4.0, 'string', True) ('single element',) ()</td>\n",
       "    </tr>\n",
       "  </tbody>\n",
       "</table>\n",
       "</div>"
      ],
      "text/plain": [
       "                        Type Mutability  \\\n",
       "0                       bool  immutable   \n",
       "1                  bytearray    mutable   \n",
       "2                      bytes  immutable   \n",
       "3                    complex  immutable   \n",
       "4                       dict    mutable   \n",
       "5         types.EllipsisType  immutable   \n",
       "6                      float  immutable   \n",
       "7                  frozenset  immutable   \n",
       "8                        int  immutable   \n",
       "9                       list    mutable   \n",
       "10            types.NoneType  immutable   \n",
       "11  types.NotImplementedType  immutable   \n",
       "12                     range  immutable   \n",
       "13                       set    mutable   \n",
       "14                       str  immutable   \n",
       "15                     tuple  immutable   \n",
       "\n",
       "                                          Description  \\\n",
       "0                                       Boolean value   \n",
       "1                                   Sequence of bytes   \n",
       "2                                   Sequence of bytes   \n",
       "3        Complex number with real and imaginary parts   \n",
       "4   Associative array (or dictionary) of key and v...   \n",
       "5   An ellipsis placeholder to be used as an index...   \n",
       "6   Double-precision floating-point number. The pr...   \n",
       "7   Unordered set, contains no duplicates; can con...   \n",
       "8                 Integer of unlimited magnitude[121]   \n",
       "9                       List, can contain mixed types   \n",
       "10  An object representing the absence of a value,...   \n",
       "11  A placeholder that can be returned from overlo...   \n",
       "12  An immutable sequence of numbers commonly used...   \n",
       "13  Unordered set, contains no duplicates; can con...   \n",
       "14  A character string: sequence of Unicode codepo...   \n",
       "15                            Can contain mixed types   \n",
       "\n",
       "                                      Syntax examples  \n",
       "0                                          True False  \n",
       "1   bytearray(b'Some ASCII') bytearray(b\"Some ASCI...  \n",
       "2   b'Some ASCII' b\"Some ASCII\" bytes([119, 105, 1...  \n",
       "3                                     3+2.7j 3 + 2.7j  \n",
       "4                          {'key1': 1.0, 3: False} {}  \n",
       "5                                        ... Ellipsis  \n",
       "6                                             1.33333  \n",
       "7                    frozenset([4.0, 'string', True])  \n",
       "8                                                  42  \n",
       "9                            [4.0, 'string', True] []  \n",
       "10                                                NaN  \n",
       "11                                     NotImplemented  \n",
       "12                    range(−1, 10) range(10, −5, −2)  \n",
       "13                        {4.0, 'string', True} set()  \n",
       "14  'Wikipedia' \"Wikipedia\"\"\"\"Spanning multiple li...  \n",
       "15       (4.0, 'string', True) ('single element',) ()  "
      ]
     },
     "execution_count": 17,
     "metadata": {},
     "output_type": "execute_result"
    }
   ],
   "source": [
    "dfs2[0]"
   ]
  },
  {
   "cell_type": "markdown",
   "metadata": {},
   "source": [
    "### Scraping one more url"
   ]
  },
  {
   "cell_type": "code",
   "execution_count": 18,
   "metadata": {},
   "outputs": [
    {
     "data": {
      "text/plain": [
       "WikiScraper(url=Url('https://en.wikipedia.org/wiki/Data_science'))"
      ]
     },
     "execution_count": 18,
     "metadata": {},
     "output_type": "execute_result"
    }
   ],
   "source": [
    "scraper3 = WikiScraper(url=\"https://en.wikipedia.org/wiki/Data_science\")\n",
    "scraper3"
   ]
  },
  {
   "cell_type": "code",
   "execution_count": 19,
   "metadata": {},
   "outputs": [
    {
     "data": {
      "text/plain": [
       "'Data science - Wikipedia'"
      ]
     },
     "execution_count": 19,
     "metadata": {},
     "output_type": "execute_result"
    }
   ],
   "source": [
    "scraper3.get_title()"
   ]
  },
  {
   "cell_type": "code",
   "execution_count": 20,
   "metadata": {},
   "outputs": [
    {
     "data": {
      "text/plain": [
       "['Foundations[edit]',\n",
       " 'Relationship to statistics[edit]',\n",
       " 'Etymology[edit]',\n",
       " 'Early usage[edit]',\n",
       " 'Modern usage[edit]',\n",
       " 'Data science and data analysis[edit]',\n",
       " 'Cloud computing for data science[edit]',\n",
       " 'Ethical consideration in data science[edit]',\n",
       " 'See also[edit]',\n",
       " 'References[edit]']"
      ]
     },
     "execution_count": 20,
     "metadata": {},
     "output_type": "execute_result"
    }
   ],
   "source": [
    "scraper3.get_subheadings()"
   ]
  },
  {
   "cell_type": "code",
   "execution_count": 21,
   "metadata": {},
   "outputs": [
    {
     "data": {
      "text/plain": [
       "['https://en.wikipedia.org//wiki/File:PIA23792-1600x1200(1).jpg',\n",
       " 'https://en.wikipedia.org//wiki/File:EDA_example_-_Always_plot_your_data.jpg',\n",
       " 'https://en.wikipedia.org//wiki/File:Cloud_computing_in_enabling_data_science_at_scale.jpg']"
      ]
     },
     "execution_count": 21,
     "metadata": {},
     "output_type": "execute_result"
    }
   ],
   "source": [
    "scraper3.get_image_links()"
   ]
  },
  {
   "cell_type": "markdown",
   "metadata": {},
   "source": [
    "### From given 5 wikipedia urls scrape all the image links as dictionary"
   ]
  },
  {
   "cell_type": "code",
   "execution_count": 22,
   "metadata": {},
   "outputs": [],
   "source": [
    "urls = [\n",
    "    \"https://en.wikipedia.org/wiki/Data_science\",\n",
    "    \"https://en.wikipedia.org/wiki/Data_analysis\",\n",
    "    \"https://en.wikipedia.org/wiki/JavaScript\",\n",
    "    \"https://en.wikipedia.org/wiki/Rust_(programming_language)\",\n",
    "    \"https://en.wikipedia.org/wiki/Python_(programming_language)\"\n",
    "]"
   ]
  },
  {
   "cell_type": "code",
   "execution_count": 29,
   "metadata": {},
   "outputs": [
    {
     "name": "stdout",
     "output_type": "stream",
     "text": [
      "url=Url('https://en.wikipedia.org/wiki/Data_science')\n",
      "\n",
      "========================================\n",
      "\n",
      "url=Url('https://en.wikipedia.org/wiki/Data_analysis')\n",
      "\n",
      "========================================\n",
      "\n",
      "url=Url('https://en.wikipedia.org/wiki/JavaScript')\n",
      "\n",
      "========================================\n",
      "\n",
      "url=Url('https://en.wikipedia.org/wiki/Rust_(programming_language)')\n",
      "\n",
      "========================================\n",
      "\n",
      "url=Url('https://en.wikipedia.org/wiki/Python_(programming_language)')\n",
      "\n",
      "========================================\n",
      "\n"
     ]
    }
   ],
   "source": [
    "images = {}\n",
    "for i in urls:\n",
    "    scraper = WikiScraper(url=i)\n",
    "    print(scraper)\n",
    "    h1 = scraper.get_h1_tag()\n",
    "    links = scraper.get_image_links()\n",
    "    images[h1] = links\n",
    "    print(\"\\n========================================\\n\")"
   ]
  },
  {
   "cell_type": "code",
   "execution_count": 30,
   "metadata": {},
   "outputs": [
    {
     "data": {
      "text/plain": [
       "{'Data science': ['https://en.wikipedia.org//wiki/File:PIA23792-1600x1200(1).jpg',\n",
       "  'https://en.wikipedia.org//wiki/File:EDA_example_-_Always_plot_your_data.jpg',\n",
       "  'https://en.wikipedia.org//wiki/File:Cloud_computing_in_enabling_data_science_at_scale.jpg'],\n",
       " 'Data analysis': ['https://en.wikipedia.org//wiki/File:Rayleigh-Taylor_instability.jpg',\n",
       "  'https://en.wikipedia.org//wiki/File:Data_visualization_process_v1.png',\n",
       "  'https://en.wikipedia.org//wiki/File:Relationship_of_data,_information_and_intelligence.png',\n",
       "  'https://en.wikipedia.org//wiki/File:Social_Network_Analysis_Visualization.png',\n",
       "  'https://en.wikipedia.org//wiki/File:Total_Revenues_and_Outlays_as_Percent_GDP_2013.png',\n",
       "  'https://en.wikipedia.org//wiki/File:U.S._Phillips_Curve_2000_to_2013.png',\n",
       "  'https://en.wikipedia.org//wiki/File:US_Employment_Statistics_-_March_2015.png',\n",
       "  'https://en.wikipedia.org//wiki/File:User-activities.png'],\n",
       " 'JavaScript': ['https://en.wikipedia.org//wiki/File:JavaScript_code.png',\n",
       "  'https://en.wikipedia.org//wiki/File:Wikibooks-logo-en-noslogan.svg',\n",
       "  'https://en.wikipedia.org//wiki/File:Node.js_logo.svg',\n",
       "  'https://en.wikipedia.org//wiki/File:Octicons-terminal.svg'],\n",
       " 'Rust (programming language)': ['https://en.wikipedia.org//wiki/File:Rust_programming_language_black_logo.svg',\n",
       "  'https://en.wikipedia.org//wiki/File:MozillaCaliforniaHeadquarters.JPG',\n",
       "  'https://en.wikipedia.org//wiki/File:Rustc_building_paru_with_cargo_screenshot.png',\n",
       "  'https://en.wikipedia.org//wiki/File:Crates.io_website.png',\n",
       "  'https://en.wikipedia.org//wiki/File:Cargo_clippy_hello_world_example.png',\n",
       "  'https://en.wikipedia.org//wiki/File:Home_page_servo_v0.01.png',\n",
       "  'https://en.wikipedia.org//wiki/File:Rustacean-orig-noshadow.svg',\n",
       "  'https://en.wikipedia.org//wiki/File:Rust_Foundation_logo.png',\n",
       "  'https://en.wikipedia.org//wiki/File:Octicons-terminal.svg'],\n",
       " 'Python (programming language)': ['https://en.wikipedia.org//wiki/File:Python-logo-notext.svg',\n",
       "  'https://en.wikipedia.org//wiki/File:Wikibooks-logo-en-noslogan.svg',\n",
       "  'https://en.wikipedia.org//wiki/File:Guido_van_Rossum_OSCON_2006_cropped.png',\n",
       "  'https://en.wikipedia.org//wiki/File:Hello_World_in_Python.png',\n",
       "  'https://en.wikipedia.org//wiki/File:Af-Helloworld_(C_Sharp).svg',\n",
       "  'https://en.wikipedia.org//wiki/File:Python_3._The_standard_type_hierarchy-en.svg',\n",
       "  'https://en.wikipedia.org//wiki/File:Python_Powered.png',\n",
       "  'https://en.wikipedia.org//wiki/File:Octicons-terminal.svg',\n",
       "  'https://en.wikipedia.org//wiki/File:Python-logo-notext.svg',\n",
       "  'https://en.wikipedia.org//wiki/File:Symbol_portal_class.svg',\n",
       "  'https://en.wikipedia.org//wiki/File:Symbol_portal_class.svg']}"
      ]
     },
     "execution_count": 30,
     "metadata": {},
     "output_type": "execute_result"
    }
   ],
   "source": [
    "images"
   ]
  },
  {
   "cell_type": "code",
   "execution_count": 26,
   "metadata": {},
   "outputs": [
    {
     "data": {
      "text/plain": [
       "dict_keys(['Data science', 'Data analysis', 'JavaScript', 'Rust (programming language)', 'Python (programming language)'])"
      ]
     },
     "execution_count": 26,
     "metadata": {},
     "output_type": "execute_result"
    }
   ],
   "source": [
    "images.keys()"
   ]
  },
  {
   "cell_type": "code",
   "execution_count": 27,
   "metadata": {},
   "outputs": [
    {
     "data": {
      "text/plain": [
       "['https://en.wikipedia.org//wiki/File:JavaScript_code.png',\n",
       " 'https://en.wikipedia.org//wiki/File:Wikibooks-logo-en-noslogan.svg',\n",
       " 'https://en.wikipedia.org//wiki/File:Node.js_logo.svg',\n",
       " 'https://en.wikipedia.org//wiki/File:Octicons-terminal.svg']"
      ]
     },
     "execution_count": 27,
     "metadata": {},
     "output_type": "execute_result"
    }
   ],
   "source": [
    "images.get(\"JavaScript\")"
   ]
  },
  {
   "cell_type": "code",
   "execution_count": 31,
   "metadata": {},
   "outputs": [
    {
     "data": {
      "text/plain": [
       "['https://en.wikipedia.org//wiki/File:PIA23792-1600x1200(1).jpg',\n",
       " 'https://en.wikipedia.org//wiki/File:EDA_example_-_Always_plot_your_data.jpg',\n",
       " 'https://en.wikipedia.org//wiki/File:Cloud_computing_in_enabling_data_science_at_scale.jpg']"
      ]
     },
     "execution_count": 31,
     "metadata": {},
     "output_type": "execute_result"
    }
   ],
   "source": [
    "images.get('Data science')"
   ]
  }
 ],
 "metadata": {
  "kernelspec": {
   "display_name": "venv",
   "language": "python",
   "name": "python3"
  },
  "language_info": {
   "codemirror_mode": {
    "name": "ipython",
    "version": 3
   },
   "file_extension": ".py",
   "mimetype": "text/x-python",
   "name": "python",
   "nbconvert_exporter": "python",
   "pygments_lexer": "ipython3",
   "version": "3.12.1"
  }
 },
 "nbformat": 4,
 "nbformat_minor": 2
}
